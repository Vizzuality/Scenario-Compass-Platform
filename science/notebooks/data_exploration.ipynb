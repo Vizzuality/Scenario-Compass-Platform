{
 "cells": [
  {
   "cell_type": "code",
   "metadata": {
    "ExecuteTime": {
     "end_time": "2025-08-04T14:01:23.524383Z",
     "start_time": "2025-08-04T14:01:23.434250Z"
    }
   },
   "source": [
    "%load_ext autoreload\n",
    "%autoreload 2\n",
    "%matplotlib inline"
   ],
   "outputs": [],
   "execution_count": 2
  },
  {
   "cell_type": "code",
   "metadata": {
    "collapsed": false,
    "ExecuteTime": {
     "end_time": "2025-08-04T14:01:26.105111Z",
     "start_time": "2025-08-04T14:01:24.582803Z"
    }
   },
   "source": [
    "# imports\n",
    "from pathlib import Path  # noqa: F401\n",
    "import pandas as pd  # noqa: F401\n",
    "from pyam import IamDataFrame, Statistics, filter_by_meta  # noqa: F401\n",
    "import requests  # noqa: F401\n",
    "import numpy as np  # noqa: F401\n",
    "import matplotlib.pyplot as plt  # noqa: F401\n",
    "import seaborn as sns  # noqa: F401\n",
    "\n",
    "import sys\n",
    "\n",
    "sys.path.append(\"../src/\")"
   ],
   "outputs": [
    {
     "name": "stderr",
     "output_type": "stream",
     "text": [
      "[WARNING] 17:01:25 - pint.util: Redefining 'kt' (<class 'pint.delegates.txt_defparser.plain.UnitDefinition'>)\n",
      "[WARNING] 17:01:25 - pint.util: Redefining 'EUR_2005' (<class 'pint.delegates.txt_defparser.plain.UnitDefinition'>)\n",
      "[WARNING] 17:01:25 - pint.util: Redefining 'EUR' (<class 'pint.delegates.txt_defparser.plain.UnitDefinition'>)\n"
     ]
    }
   ],
   "execution_count": 3
  },
  {
   "cell_type": "code",
   "metadata": {
    "ExecuteTime": {
     "end_time": "2025-08-04T14:01:31.602146Z",
     "start_time": "2025-08-04T14:01:27.214389Z"
    }
   },
   "source": [
    "from src.iasa.iiasa_client import IIASABaseAPIClient\n",
    "from src.iasa.utils import create_iamdf, create_df_from_api_response\n",
    "\n",
    "client = IIASABaseAPIClient()"
   ],
   "outputs": [],
   "execution_count": 4
  },
  {
   "cell_type": "markdown",
   "metadata": {},
   "source": [
    "### API exploration"
   ]
  },
  {
   "cell_type": "code",
   "metadata": {
    "ExecuteTime": {
     "end_time": "2025-08-04T14:01:42.011369Z",
     "start_time": "2025-08-04T14:01:31.625098Z"
    }
   },
   "source": [
    "# explore variables\n",
    "variables = create_df_from_api_response(\n",
    "    client.get_data(\n",
    "        \"iamc/variables/\",\n",
    "        params={\"table\": \"true\"},\n",
    "    )\n",
    ")\n",
    "\n",
    "variables\n"
   ],
   "outputs": [
    {
     "ename": "KeyboardInterrupt",
     "evalue": "",
     "output_type": "error",
     "traceback": [
      "\u001B[31m---------------------------------------------------------------------------\u001B[39m",
      "\u001B[31mKeyboardInterrupt\u001B[39m                         Traceback (most recent call last)",
      "\u001B[36mCell\u001B[39m\u001B[36m \u001B[39m\u001B[32mIn[5]\u001B[39m\u001B[32m, line 3\u001B[39m\n\u001B[32m      1\u001B[39m \u001B[38;5;66;03m# explore variables\u001B[39;00m\n\u001B[32m      2\u001B[39m variables = create_df_from_api_response(\n\u001B[32m----> \u001B[39m\u001B[32m3\u001B[39m     client.get_data(\n\u001B[32m      4\u001B[39m         \u001B[33m\"\u001B[39m\u001B[33miamc/variables/\u001B[39m\u001B[33m\"\u001B[39m,\n\u001B[32m      5\u001B[39m         params={\u001B[33m\"\u001B[39m\u001B[33mtable\u001B[39m\u001B[33m\"\u001B[39m: \u001B[33m\"\u001B[39m\u001B[33mtrue\u001B[39m\u001B[33m\"\u001B[39m},\n\u001B[32m      6\u001B[39m     )\n\u001B[32m      7\u001B[39m )\n\u001B[32m      9\u001B[39m variables\n",
      "\u001B[36mFile \u001B[39m\u001B[32m~/Documents/work/Scenario-Compass-Platform/science/src/iasa/iiasa_client.py:71\u001B[39m, in \u001B[36mIIASABaseAPIClient.get_data\u001B[39m\u001B[34m(self, endpoint, params, body)\u001B[39m\n\u001B[32m     68\u001B[39m     response = requests.patch(url, json=body, headers=\u001B[38;5;28mself\u001B[39m.headers, params=params)\n\u001B[32m     69\u001B[39m \u001B[38;5;28;01melse\u001B[39;00m:\n\u001B[32m     70\u001B[39m     \u001B[38;5;66;03m# you need to explain me why is not a get....\u001B[39;00m\n\u001B[32m---> \u001B[39m\u001B[32m71\u001B[39m     response = requests.patch(url, headers=\u001B[38;5;28mself\u001B[39m.headers, params=params)\n\u001B[32m     72\u001B[39m response.raise_for_status()\n\u001B[32m     73\u001B[39m \u001B[38;5;28;01mreturn\u001B[39;00m response.json()\n",
      "\u001B[36mFile \u001B[39m\u001B[32m/opt/homebrew/Caskroom/miniconda/base/lib/python3.12/site-packages/requests/api.py:145\u001B[39m, in \u001B[36mpatch\u001B[39m\u001B[34m(url, data, **kwargs)\u001B[39m\n\u001B[32m    133\u001B[39m \u001B[38;5;28;01mdef\u001B[39;00m\u001B[38;5;250m \u001B[39m\u001B[34mpatch\u001B[39m(url, data=\u001B[38;5;28;01mNone\u001B[39;00m, **kwargs):\n\u001B[32m    134\u001B[39m \u001B[38;5;250m    \u001B[39m\u001B[33mr\u001B[39m\u001B[33;03m\"\"\"Sends a PATCH request.\u001B[39;00m\n\u001B[32m    135\u001B[39m \n\u001B[32m    136\u001B[39m \u001B[33;03m    :param url: URL for the new :class:`Request` object.\u001B[39;00m\n\u001B[32m   (...)\u001B[39m\u001B[32m    142\u001B[39m \u001B[33;03m    :rtype: requests.Response\u001B[39;00m\n\u001B[32m    143\u001B[39m \u001B[33;03m    \"\"\"\u001B[39;00m\n\u001B[32m--> \u001B[39m\u001B[32m145\u001B[39m     \u001B[38;5;28;01mreturn\u001B[39;00m request(\u001B[33m\"\u001B[39m\u001B[33mpatch\u001B[39m\u001B[33m\"\u001B[39m, url, data=data, **kwargs)\n",
      "\u001B[36mFile \u001B[39m\u001B[32m/opt/homebrew/Caskroom/miniconda/base/lib/python3.12/site-packages/requests/api.py:59\u001B[39m, in \u001B[36mrequest\u001B[39m\u001B[34m(method, url, **kwargs)\u001B[39m\n\u001B[32m     55\u001B[39m \u001B[38;5;66;03m# By using the 'with' statement we are sure the session is closed, thus we\u001B[39;00m\n\u001B[32m     56\u001B[39m \u001B[38;5;66;03m# avoid leaving sockets open which can trigger a ResourceWarning in some\u001B[39;00m\n\u001B[32m     57\u001B[39m \u001B[38;5;66;03m# cases, and look like a memory leak in others.\u001B[39;00m\n\u001B[32m     58\u001B[39m \u001B[38;5;28;01mwith\u001B[39;00m sessions.Session() \u001B[38;5;28;01mas\u001B[39;00m session:\n\u001B[32m---> \u001B[39m\u001B[32m59\u001B[39m     \u001B[38;5;28;01mreturn\u001B[39;00m session.request(method=method, url=url, **kwargs)\n",
      "\u001B[36mFile \u001B[39m\u001B[32m/opt/homebrew/Caskroom/miniconda/base/lib/python3.12/site-packages/requests/sessions.py:589\u001B[39m, in \u001B[36mSession.request\u001B[39m\u001B[34m(self, method, url, params, data, headers, cookies, files, auth, timeout, allow_redirects, proxies, hooks, stream, verify, cert, json)\u001B[39m\n\u001B[32m    584\u001B[39m send_kwargs = {\n\u001B[32m    585\u001B[39m     \u001B[33m\"\u001B[39m\u001B[33mtimeout\u001B[39m\u001B[33m\"\u001B[39m: timeout,\n\u001B[32m    586\u001B[39m     \u001B[33m\"\u001B[39m\u001B[33mallow_redirects\u001B[39m\u001B[33m\"\u001B[39m: allow_redirects,\n\u001B[32m    587\u001B[39m }\n\u001B[32m    588\u001B[39m send_kwargs.update(settings)\n\u001B[32m--> \u001B[39m\u001B[32m589\u001B[39m resp = \u001B[38;5;28mself\u001B[39m.send(prep, **send_kwargs)\n\u001B[32m    591\u001B[39m \u001B[38;5;28;01mreturn\u001B[39;00m resp\n",
      "\u001B[36mFile \u001B[39m\u001B[32m/opt/homebrew/Caskroom/miniconda/base/lib/python3.12/site-packages/requests/sessions.py:703\u001B[39m, in \u001B[36mSession.send\u001B[39m\u001B[34m(self, request, **kwargs)\u001B[39m\n\u001B[32m    700\u001B[39m start = preferred_clock()\n\u001B[32m    702\u001B[39m \u001B[38;5;66;03m# Send the request\u001B[39;00m\n\u001B[32m--> \u001B[39m\u001B[32m703\u001B[39m r = adapter.send(request, **kwargs)\n\u001B[32m    705\u001B[39m \u001B[38;5;66;03m# Total elapsed time of the request (approximately)\u001B[39;00m\n\u001B[32m    706\u001B[39m elapsed = preferred_clock() - start\n",
      "\u001B[36mFile \u001B[39m\u001B[32m/opt/homebrew/Caskroom/miniconda/base/lib/python3.12/site-packages/requests/adapters.py:667\u001B[39m, in \u001B[36mHTTPAdapter.send\u001B[39m\u001B[34m(self, request, stream, timeout, verify, cert, proxies)\u001B[39m\n\u001B[32m    664\u001B[39m     timeout = TimeoutSauce(connect=timeout, read=timeout)\n\u001B[32m    666\u001B[39m \u001B[38;5;28;01mtry\u001B[39;00m:\n\u001B[32m--> \u001B[39m\u001B[32m667\u001B[39m     resp = conn.urlopen(\n\u001B[32m    668\u001B[39m         method=request.method,\n\u001B[32m    669\u001B[39m         url=url,\n\u001B[32m    670\u001B[39m         body=request.body,\n\u001B[32m    671\u001B[39m         headers=request.headers,\n\u001B[32m    672\u001B[39m         redirect=\u001B[38;5;28;01mFalse\u001B[39;00m,\n\u001B[32m    673\u001B[39m         assert_same_host=\u001B[38;5;28;01mFalse\u001B[39;00m,\n\u001B[32m    674\u001B[39m         preload_content=\u001B[38;5;28;01mFalse\u001B[39;00m,\n\u001B[32m    675\u001B[39m         decode_content=\u001B[38;5;28;01mFalse\u001B[39;00m,\n\u001B[32m    676\u001B[39m         retries=\u001B[38;5;28mself\u001B[39m.max_retries,\n\u001B[32m    677\u001B[39m         timeout=timeout,\n\u001B[32m    678\u001B[39m         chunked=chunked,\n\u001B[32m    679\u001B[39m     )\n\u001B[32m    681\u001B[39m \u001B[38;5;28;01mexcept\u001B[39;00m (ProtocolError, \u001B[38;5;167;01mOSError\u001B[39;00m) \u001B[38;5;28;01mas\u001B[39;00m err:\n\u001B[32m    682\u001B[39m     \u001B[38;5;28;01mraise\u001B[39;00m \u001B[38;5;167;01mConnectionError\u001B[39;00m(err, request=request)\n",
      "\u001B[36mFile \u001B[39m\u001B[32m/opt/homebrew/Caskroom/miniconda/base/lib/python3.12/site-packages/urllib3/connectionpool.py:787\u001B[39m, in \u001B[36mHTTPConnectionPool.urlopen\u001B[39m\u001B[34m(self, method, url, body, headers, retries, redirect, assert_same_host, timeout, pool_timeout, release_conn, chunked, body_pos, preload_content, decode_content, **response_kw)\u001B[39m\n\u001B[32m    784\u001B[39m response_conn = conn \u001B[38;5;28;01mif\u001B[39;00m \u001B[38;5;129;01mnot\u001B[39;00m release_conn \u001B[38;5;28;01melse\u001B[39;00m \u001B[38;5;28;01mNone\u001B[39;00m\n\u001B[32m    786\u001B[39m \u001B[38;5;66;03m# Make the request on the HTTPConnection object\u001B[39;00m\n\u001B[32m--> \u001B[39m\u001B[32m787\u001B[39m response = \u001B[38;5;28mself\u001B[39m._make_request(\n\u001B[32m    788\u001B[39m     conn,\n\u001B[32m    789\u001B[39m     method,\n\u001B[32m    790\u001B[39m     url,\n\u001B[32m    791\u001B[39m     timeout=timeout_obj,\n\u001B[32m    792\u001B[39m     body=body,\n\u001B[32m    793\u001B[39m     headers=headers,\n\u001B[32m    794\u001B[39m     chunked=chunked,\n\u001B[32m    795\u001B[39m     retries=retries,\n\u001B[32m    796\u001B[39m     response_conn=response_conn,\n\u001B[32m    797\u001B[39m     preload_content=preload_content,\n\u001B[32m    798\u001B[39m     decode_content=decode_content,\n\u001B[32m    799\u001B[39m     **response_kw,\n\u001B[32m    800\u001B[39m )\n\u001B[32m    802\u001B[39m \u001B[38;5;66;03m# Everything went great!\u001B[39;00m\n\u001B[32m    803\u001B[39m clean_exit = \u001B[38;5;28;01mTrue\u001B[39;00m\n",
      "\u001B[36mFile \u001B[39m\u001B[32m/opt/homebrew/Caskroom/miniconda/base/lib/python3.12/site-packages/urllib3/connectionpool.py:534\u001B[39m, in \u001B[36mHTTPConnectionPool._make_request\u001B[39m\u001B[34m(self, conn, method, url, body, headers, retries, timeout, chunked, response_conn, preload_content, decode_content, enforce_content_length)\u001B[39m\n\u001B[32m    532\u001B[39m \u001B[38;5;66;03m# Receive the response from the server\u001B[39;00m\n\u001B[32m    533\u001B[39m \u001B[38;5;28;01mtry\u001B[39;00m:\n\u001B[32m--> \u001B[39m\u001B[32m534\u001B[39m     response = conn.getresponse()\n\u001B[32m    535\u001B[39m \u001B[38;5;28;01mexcept\u001B[39;00m (BaseSSLError, \u001B[38;5;167;01mOSError\u001B[39;00m) \u001B[38;5;28;01mas\u001B[39;00m e:\n\u001B[32m    536\u001B[39m     \u001B[38;5;28mself\u001B[39m._raise_timeout(err=e, url=url, timeout_value=read_timeout)\n",
      "\u001B[36mFile \u001B[39m\u001B[32m/opt/homebrew/Caskroom/miniconda/base/lib/python3.12/site-packages/urllib3/connection.py:565\u001B[39m, in \u001B[36mHTTPConnection.getresponse\u001B[39m\u001B[34m(self)\u001B[39m\n\u001B[32m    562\u001B[39m _shutdown = \u001B[38;5;28mgetattr\u001B[39m(\u001B[38;5;28mself\u001B[39m.sock, \u001B[33m\"\u001B[39m\u001B[33mshutdown\u001B[39m\u001B[33m\"\u001B[39m, \u001B[38;5;28;01mNone\u001B[39;00m)\n\u001B[32m    564\u001B[39m \u001B[38;5;66;03m# Get the response from http.client.HTTPConnection\u001B[39;00m\n\u001B[32m--> \u001B[39m\u001B[32m565\u001B[39m httplib_response = \u001B[38;5;28msuper\u001B[39m().getresponse()\n\u001B[32m    567\u001B[39m \u001B[38;5;28;01mtry\u001B[39;00m:\n\u001B[32m    568\u001B[39m     assert_header_parsing(httplib_response.msg)\n",
      "\u001B[36mFile \u001B[39m\u001B[32m/opt/homebrew/Caskroom/miniconda/base/lib/python3.12/http/client.py:1428\u001B[39m, in \u001B[36mHTTPConnection.getresponse\u001B[39m\u001B[34m(self)\u001B[39m\n\u001B[32m   1426\u001B[39m \u001B[38;5;28;01mtry\u001B[39;00m:\n\u001B[32m   1427\u001B[39m     \u001B[38;5;28;01mtry\u001B[39;00m:\n\u001B[32m-> \u001B[39m\u001B[32m1428\u001B[39m         response.begin()\n\u001B[32m   1429\u001B[39m     \u001B[38;5;28;01mexcept\u001B[39;00m \u001B[38;5;167;01mConnectionError\u001B[39;00m:\n\u001B[32m   1430\u001B[39m         \u001B[38;5;28mself\u001B[39m.close()\n",
      "\u001B[36mFile \u001B[39m\u001B[32m/opt/homebrew/Caskroom/miniconda/base/lib/python3.12/http/client.py:331\u001B[39m, in \u001B[36mHTTPResponse.begin\u001B[39m\u001B[34m(self)\u001B[39m\n\u001B[32m    329\u001B[39m \u001B[38;5;66;03m# read until we get a non-100 response\u001B[39;00m\n\u001B[32m    330\u001B[39m \u001B[38;5;28;01mwhile\u001B[39;00m \u001B[38;5;28;01mTrue\u001B[39;00m:\n\u001B[32m--> \u001B[39m\u001B[32m331\u001B[39m     version, status, reason = \u001B[38;5;28mself\u001B[39m._read_status()\n\u001B[32m    332\u001B[39m     \u001B[38;5;28;01mif\u001B[39;00m status != CONTINUE:\n\u001B[32m    333\u001B[39m         \u001B[38;5;28;01mbreak\u001B[39;00m\n",
      "\u001B[36mFile \u001B[39m\u001B[32m/opt/homebrew/Caskroom/miniconda/base/lib/python3.12/http/client.py:292\u001B[39m, in \u001B[36mHTTPResponse._read_status\u001B[39m\u001B[34m(self)\u001B[39m\n\u001B[32m    291\u001B[39m \u001B[38;5;28;01mdef\u001B[39;00m\u001B[38;5;250m \u001B[39m\u001B[34m_read_status\u001B[39m(\u001B[38;5;28mself\u001B[39m):\n\u001B[32m--> \u001B[39m\u001B[32m292\u001B[39m     line = \u001B[38;5;28mstr\u001B[39m(\u001B[38;5;28mself\u001B[39m.fp.readline(_MAXLINE + \u001B[32m1\u001B[39m), \u001B[33m\"\u001B[39m\u001B[33miso-8859-1\u001B[39m\u001B[33m\"\u001B[39m)\n\u001B[32m    293\u001B[39m     \u001B[38;5;28;01mif\u001B[39;00m \u001B[38;5;28mlen\u001B[39m(line) > _MAXLINE:\n\u001B[32m    294\u001B[39m         \u001B[38;5;28;01mraise\u001B[39;00m LineTooLong(\u001B[33m\"\u001B[39m\u001B[33mstatus line\u001B[39m\u001B[33m\"\u001B[39m)\n",
      "\u001B[36mFile \u001B[39m\u001B[32m/opt/homebrew/Caskroom/miniconda/base/lib/python3.12/socket.py:707\u001B[39m, in \u001B[36mSocketIO.readinto\u001B[39m\u001B[34m(self, b)\u001B[39m\n\u001B[32m    705\u001B[39m \u001B[38;5;28;01mwhile\u001B[39;00m \u001B[38;5;28;01mTrue\u001B[39;00m:\n\u001B[32m    706\u001B[39m     \u001B[38;5;28;01mtry\u001B[39;00m:\n\u001B[32m--> \u001B[39m\u001B[32m707\u001B[39m         \u001B[38;5;28;01mreturn\u001B[39;00m \u001B[38;5;28mself\u001B[39m._sock.recv_into(b)\n\u001B[32m    708\u001B[39m     \u001B[38;5;28;01mexcept\u001B[39;00m timeout:\n\u001B[32m    709\u001B[39m         \u001B[38;5;28mself\u001B[39m._timeout_occurred = \u001B[38;5;28;01mTrue\u001B[39;00m\n",
      "\u001B[36mFile \u001B[39m\u001B[32m/opt/homebrew/Caskroom/miniconda/base/lib/python3.12/ssl.py:1252\u001B[39m, in \u001B[36mSSLSocket.recv_into\u001B[39m\u001B[34m(self, buffer, nbytes, flags)\u001B[39m\n\u001B[32m   1248\u001B[39m     \u001B[38;5;28;01mif\u001B[39;00m flags != \u001B[32m0\u001B[39m:\n\u001B[32m   1249\u001B[39m         \u001B[38;5;28;01mraise\u001B[39;00m \u001B[38;5;167;01mValueError\u001B[39;00m(\n\u001B[32m   1250\u001B[39m           \u001B[33m\"\u001B[39m\u001B[33mnon-zero flags not allowed in calls to recv_into() on \u001B[39m\u001B[38;5;132;01m%s\u001B[39;00m\u001B[33m\"\u001B[39m %\n\u001B[32m   1251\u001B[39m           \u001B[38;5;28mself\u001B[39m.\u001B[34m__class__\u001B[39m)\n\u001B[32m-> \u001B[39m\u001B[32m1252\u001B[39m     \u001B[38;5;28;01mreturn\u001B[39;00m \u001B[38;5;28mself\u001B[39m.read(nbytes, buffer)\n\u001B[32m   1253\u001B[39m \u001B[38;5;28;01melse\u001B[39;00m:\n\u001B[32m   1254\u001B[39m     \u001B[38;5;28;01mreturn\u001B[39;00m \u001B[38;5;28msuper\u001B[39m().recv_into(buffer, nbytes, flags)\n",
      "\u001B[36mFile \u001B[39m\u001B[32m/opt/homebrew/Caskroom/miniconda/base/lib/python3.12/ssl.py:1104\u001B[39m, in \u001B[36mSSLSocket.read\u001B[39m\u001B[34m(self, len, buffer)\u001B[39m\n\u001B[32m   1102\u001B[39m \u001B[38;5;28;01mtry\u001B[39;00m:\n\u001B[32m   1103\u001B[39m     \u001B[38;5;28;01mif\u001B[39;00m buffer \u001B[38;5;129;01mis\u001B[39;00m \u001B[38;5;129;01mnot\u001B[39;00m \u001B[38;5;28;01mNone\u001B[39;00m:\n\u001B[32m-> \u001B[39m\u001B[32m1104\u001B[39m         \u001B[38;5;28;01mreturn\u001B[39;00m \u001B[38;5;28mself\u001B[39m._sslobj.read(\u001B[38;5;28mlen\u001B[39m, buffer)\n\u001B[32m   1105\u001B[39m     \u001B[38;5;28;01melse\u001B[39;00m:\n\u001B[32m   1106\u001B[39m         \u001B[38;5;28;01mreturn\u001B[39;00m \u001B[38;5;28mself\u001B[39m._sslobj.read(\u001B[38;5;28mlen\u001B[39m)\n",
      "\u001B[31mKeyboardInterrupt\u001B[39m: "
     ]
    }
   ],
   "execution_count": 5
  },
  {
   "cell_type": "code",
   "execution_count": 7,
   "metadata": {},
   "outputs": [
    {
     "data": {
      "application/vnd.microsoft.datawrangler.viewer.v0+json": {
       "columns": [
        {
         "name": "index",
         "rawType": "int64",
         "type": "integer"
        },
        {
         "name": "name",
         "rawType": "object",
         "type": "string"
        },
        {
         "name": "id",
         "rawType": "int64",
         "type": "integer"
        },
        {
         "name": "created_at",
         "rawType": "object",
         "type": "string"
        },
        {
         "name": "created_by",
         "rawType": "object",
         "type": "string"
        }
       ],
       "ref": "31368c65-731d-45ee-9e13-e08f1b96e4b1",
       "rows": [
        [
         "170",
         "Population|Risk of Hunger",
         "171",
         "2025-03-28T12:04:32.245190",
         "@unknown"
        ],
        [
         "1065",
         "Terrestrial Biodiversity|Shannon Crop Diversity Index",
         "1066",
         "2025-04-07T11:32:05.677782",
         "@unknown"
        ],
        [
         "1169",
         "Terrestrial Biodiversity|Biodiversity Intactness Index",
         "1170",
         "2025-04-09T07:54:50.497128",
         "@unknown"
        ],
        [
         "1170",
         "Terrestrial Biodiversity|Mean Species Abundance|Plants",
         "1171",
         "2025-04-09T07:54:50.544049",
         "@unknown"
        ]
       ],
       "shape": {
        "columns": 4,
        "rows": 4
       }
      },
      "text/html": [
       "<div>\n",
       "<style scoped>\n",
       "    .dataframe tbody tr th:only-of-type {\n",
       "        vertical-align: middle;\n",
       "    }\n",
       "\n",
       "    .dataframe tbody tr th {\n",
       "        vertical-align: top;\n",
       "    }\n",
       "\n",
       "    .dataframe thead th {\n",
       "        text-align: right;\n",
       "    }\n",
       "</style>\n",
       "<table border=\"1\" class=\"dataframe\">\n",
       "  <thead>\n",
       "    <tr style=\"text-align: right;\">\n",
       "      <th></th>\n",
       "      <th>name</th>\n",
       "      <th>id</th>\n",
       "      <th>created_at</th>\n",
       "      <th>created_by</th>\n",
       "    </tr>\n",
       "  </thead>\n",
       "  <tbody>\n",
       "    <tr>\n",
       "      <th>170</th>\n",
       "      <td>Population|Risk of Hunger</td>\n",
       "      <td>171</td>\n",
       "      <td>2025-03-28T12:04:32.245190</td>\n",
       "      <td>@unknown</td>\n",
       "    </tr>\n",
       "    <tr>\n",
       "      <th>1065</th>\n",
       "      <td>Terrestrial Biodiversity|Shannon Crop Diversit...</td>\n",
       "      <td>1066</td>\n",
       "      <td>2025-04-07T11:32:05.677782</td>\n",
       "      <td>@unknown</td>\n",
       "    </tr>\n",
       "    <tr>\n",
       "      <th>1169</th>\n",
       "      <td>Terrestrial Biodiversity|Biodiversity Intactne...</td>\n",
       "      <td>1170</td>\n",
       "      <td>2025-04-09T07:54:50.497128</td>\n",
       "      <td>@unknown</td>\n",
       "    </tr>\n",
       "    <tr>\n",
       "      <th>1170</th>\n",
       "      <td>Terrestrial Biodiversity|Mean Species Abundanc...</td>\n",
       "      <td>1171</td>\n",
       "      <td>2025-04-09T07:54:50.544049</td>\n",
       "      <td>@unknown</td>\n",
       "    </tr>\n",
       "  </tbody>\n",
       "</table>\n",
       "</div>"
      ],
      "text/plain": [
       "                                                   name    id  \\\n",
       "170                           Population|Risk of Hunger   171   \n",
       "1065  Terrestrial Biodiversity|Shannon Crop Diversit...  1066   \n",
       "1169  Terrestrial Biodiversity|Biodiversity Intactne...  1170   \n",
       "1170  Terrestrial Biodiversity|Mean Species Abundanc...  1171   \n",
       "\n",
       "                      created_at created_by  \n",
       "170   2025-03-28T12:04:32.245190   @unknown  \n",
       "1065  2025-04-07T11:32:05.677782   @unknown  \n",
       "1169  2025-04-09T07:54:50.497128   @unknown  \n",
       "1170  2025-04-09T07:54:50.544049   @unknown  "
      ]
     },
     "execution_count": 7,
     "metadata": {},
     "output_type": "execute_result"
    }
   ],
   "source": [
    "variables[\n",
    "    variables[\"name\"].str.contains(\"Hunger\", case=False)\n",
    "    | variables[\"name\"].str.contains(\"biodiversity\", case=False)\n",
    "    ]"
   ]
  },
  {
   "cell_type": "code",
   "execution_count": 8,
   "metadata": {},
   "outputs": [
    {
     "data": {
      "application/vnd.microsoft.datawrangler.viewer.v0+json": {
       "columns": [
        {
         "name": "index",
         "rawType": "int64",
         "type": "integer"
        },
        {
         "name": "category",
         "rawType": "object",
         "type": "string"
        },
        {
         "name": "sub_category",
         "rawType": "object",
         "type": "unknown"
        },
        {
         "name": "2",
         "rawType": "object",
         "type": "unknown"
        },
        {
         "name": "3",
         "rawType": "object",
         "type": "unknown"
        },
        {
         "name": "4",
         "rawType": "object",
         "type": "unknown"
        },
        {
         "name": "5",
         "rawType": "object",
         "type": "unknown"
        }
       ],
       "ref": "518caf93-0365-4b4d-849f-cae19230e45f",
       "rows": [
        [
         "290",
         "Agricultural Demand",
         "Crops",
         "Bioenergy",
         null,
         null,
         null
        ],
        [
         "291",
         "Agricultural Demand",
         "Crops",
         "Bioenergy",
         "1st Generation",
         null,
         null
        ],
        [
         "292",
         "Agricultural Demand",
         "Crops",
         "Bioenergy",
         "2nd Generation",
         null,
         null
        ],
        [
         "1067",
         "Agricultural Demand",
         "Crops",
         null,
         null,
         null,
         null
        ],
        [
         "1068",
         "Agricultural Demand",
         "Crops",
         "Feed",
         null,
         null,
         null
        ],
        [
         "1069",
         "Agricultural Demand",
         "Crops",
         "Food",
         null,
         null,
         null
        ],
        [
         "1070",
         "Agricultural Demand",
         "Crops",
         "Other",
         null,
         null,
         null
        ],
        [
         "1071",
         "Agricultural Demand",
         "Livestock",
         null,
         null,
         null,
         null
        ],
        [
         "1083",
         "Agricultural Demand",
         "Livestock",
         "Food",
         null,
         null,
         null
        ],
        [
         "1092",
         "Agricultural Demand",
         "Livestock",
         "Other",
         null,
         null,
         null
        ],
        [
         "0",
         "Agricultural Demand",
         null,
         null,
         null,
         null,
         null
        ],
        [
         "1040",
         "Agricultural Material Footprint [per capita]",
         null,
         null,
         null,
         null,
         null
        ],
        [
         "1",
         "Agricultural Production",
         "Crops",
         "Energy Crops",
         null,
         null,
         null
        ],
        [
         "293",
         "Agricultural Production",
         null,
         null,
         null,
         null,
         null
        ],
        [
         "12",
         "Capacity",
         "Electricity",
         null,
         null,
         null,
         null
        ],
        [
         "13",
         "Capacity",
         "Electricity",
         "Biomass",
         null,
         null,
         null
        ],
        [
         "14",
         "Capacity",
         "Electricity",
         "Biomass",
         "w/ CCS",
         null,
         null
        ],
        [
         "15",
         "Capacity",
         "Electricity",
         "Biomass",
         "w/o CCS",
         null,
         null
        ],
        [
         "16",
         "Capacity",
         "Electricity",
         "Coal",
         null,
         null,
         null
        ],
        [
         "17",
         "Capacity",
         "Electricity",
         "Coal",
         "w/ CCS",
         null,
         null
        ],
        [
         "18",
         "Capacity",
         "Electricity",
         "Coal",
         "w/o CCS",
         null,
         null
        ],
        [
         "19",
         "Capacity",
         "Electricity",
         "Gas",
         null,
         null,
         null
        ],
        [
         "20",
         "Capacity",
         "Electricity",
         "Gas",
         "w/ CCS",
         null,
         null
        ],
        [
         "21",
         "Capacity",
         "Electricity",
         "Gas",
         "w/o CCS",
         null,
         null
        ],
        [
         "22",
         "Capacity",
         "Electricity",
         "Geothermal",
         null,
         null,
         null
        ],
        [
         "23",
         "Capacity",
         "Electricity",
         "Hydro",
         null,
         null,
         null
        ],
        [
         "24",
         "Capacity",
         "Electricity",
         "Nuclear",
         null,
         null,
         null
        ],
        [
         "25",
         "Capacity",
         "Electricity",
         "Oil",
         null,
         null,
         null
        ],
        [
         "26",
         "Capacity",
         "Electricity",
         "Oil",
         "w/ CCS",
         null,
         null
        ],
        [
         "27",
         "Capacity",
         "Electricity",
         "Oil",
         "w/o CCS",
         null,
         null
        ],
        [
         "28",
         "Capacity",
         "Electricity",
         "Other",
         null,
         null,
         null
        ],
        [
         "29",
         "Capacity",
         "Electricity",
         "Solar",
         null,
         null,
         null
        ],
        [
         "30",
         "Capacity",
         "Electricity",
         "Solar",
         "PV",
         null,
         null
        ],
        [
         "31",
         "Capacity",
         "Electricity",
         "Wind",
         null,
         null,
         null
        ],
        [
         "32",
         "Capacity",
         "Electricity",
         "Wind",
         "Onshore",
         null,
         null
        ],
        [
         "222",
         "Capacity",
         "Electricity",
         "Solar",
         "CSP",
         null,
         null
        ],
        [
         "223",
         "Capacity",
         "Electricity",
         "Wind",
         "Offshore",
         null,
         null
        ],
        [
         "1102",
         "Capacity",
         "Electricity",
         "Hydrogen",
         null,
         null,
         null
        ],
        [
         "304",
         "Capacity",
         "Gases",
         "Biomass",
         null,
         null,
         null
        ],
        [
         "305",
         "Capacity",
         "Gases",
         "Biomass",
         "w/o CCS",
         null,
         null
        ],
        [
         "306",
         "Capacity",
         "Gases",
         "Coal",
         null,
         null,
         null
        ],
        [
         "307",
         "Capacity",
         "Gases",
         "Coal",
         "w/o CCS",
         null,
         null
        ],
        [
         "1084",
         "Capacity",
         "Gases",
         null,
         null,
         null,
         null
        ],
        [
         "308",
         "Capacity",
         "Hydrogen",
         "Biomass",
         null,
         null,
         null
        ],
        [
         "309",
         "Capacity",
         "Hydrogen",
         "Biomass",
         "w/ CCS",
         null,
         null
        ],
        [
         "310",
         "Capacity",
         "Hydrogen",
         "Biomass",
         "w/o CCS",
         null,
         null
        ],
        [
         "311",
         "Capacity",
         "Hydrogen",
         "Coal",
         null,
         null,
         null
        ],
        [
         "312",
         "Capacity",
         "Hydrogen",
         "Coal",
         "w/ CCS",
         null,
         null
        ],
        [
         "313",
         "Capacity",
         "Hydrogen",
         "Coal",
         "w/o CCS",
         null,
         null
        ],
        [
         "314",
         "Capacity",
         "Hydrogen",
         "Electricity",
         null,
         null,
         null
        ]
       ],
       "shape": {
        "columns": 6,
        "rows": 1843
       }
      },
      "text/html": [
       "<div>\n",
       "<style scoped>\n",
       "    .dataframe tbody tr th:only-of-type {\n",
       "        vertical-align: middle;\n",
       "    }\n",
       "\n",
       "    .dataframe tbody tr th {\n",
       "        vertical-align: top;\n",
       "    }\n",
       "\n",
       "    .dataframe thead th {\n",
       "        text-align: right;\n",
       "    }\n",
       "</style>\n",
       "<table border=\"1\" class=\"dataframe\">\n",
       "  <thead>\n",
       "    <tr style=\"text-align: right;\">\n",
       "      <th></th>\n",
       "      <th>category</th>\n",
       "      <th>sub_category</th>\n",
       "      <th>2</th>\n",
       "      <th>3</th>\n",
       "      <th>4</th>\n",
       "      <th>5</th>\n",
       "    </tr>\n",
       "  </thead>\n",
       "  <tbody>\n",
       "    <tr>\n",
       "      <th>290</th>\n",
       "      <td>Agricultural Demand</td>\n",
       "      <td>Crops</td>\n",
       "      <td>Bioenergy</td>\n",
       "      <td>None</td>\n",
       "      <td>None</td>\n",
       "      <td>None</td>\n",
       "    </tr>\n",
       "    <tr>\n",
       "      <th>291</th>\n",
       "      <td>Agricultural Demand</td>\n",
       "      <td>Crops</td>\n",
       "      <td>Bioenergy</td>\n",
       "      <td>1st Generation</td>\n",
       "      <td>None</td>\n",
       "      <td>None</td>\n",
       "    </tr>\n",
       "    <tr>\n",
       "      <th>292</th>\n",
       "      <td>Agricultural Demand</td>\n",
       "      <td>Crops</td>\n",
       "      <td>Bioenergy</td>\n",
       "      <td>2nd Generation</td>\n",
       "      <td>None</td>\n",
       "      <td>None</td>\n",
       "    </tr>\n",
       "    <tr>\n",
       "      <th>1067</th>\n",
       "      <td>Agricultural Demand</td>\n",
       "      <td>Crops</td>\n",
       "      <td>None</td>\n",
       "      <td>None</td>\n",
       "      <td>None</td>\n",
       "      <td>None</td>\n",
       "    </tr>\n",
       "    <tr>\n",
       "      <th>1068</th>\n",
       "      <td>Agricultural Demand</td>\n",
       "      <td>Crops</td>\n",
       "      <td>Feed</td>\n",
       "      <td>None</td>\n",
       "      <td>None</td>\n",
       "      <td>None</td>\n",
       "    </tr>\n",
       "    <tr>\n",
       "      <th>...</th>\n",
       "      <td>...</td>\n",
       "      <td>...</td>\n",
       "      <td>...</td>\n",
       "      <td>...</td>\n",
       "      <td>...</td>\n",
       "      <td>...</td>\n",
       "    </tr>\n",
       "    <tr>\n",
       "      <th>1177</th>\n",
       "      <td>Water Withdrawal</td>\n",
       "      <td>Municipal Water</td>\n",
       "      <td>None</td>\n",
       "      <td>None</td>\n",
       "      <td>None</td>\n",
       "      <td>None</td>\n",
       "    </tr>\n",
       "    <tr>\n",
       "      <th>649</th>\n",
       "      <td>Water Withdrawal</td>\n",
       "      <td>None</td>\n",
       "      <td>None</td>\n",
       "      <td>None</td>\n",
       "      <td>None</td>\n",
       "      <td>None</td>\n",
       "    </tr>\n",
       "    <tr>\n",
       "      <th>672</th>\n",
       "      <td>Yield</td>\n",
       "      <td>Cropland</td>\n",
       "      <td>Cereals</td>\n",
       "      <td>None</td>\n",
       "      <td>None</td>\n",
       "      <td>None</td>\n",
       "    </tr>\n",
       "    <tr>\n",
       "      <th>673</th>\n",
       "      <td>Yield</td>\n",
       "      <td>Cropland</td>\n",
       "      <td>Oil Crops</td>\n",
       "      <td>None</td>\n",
       "      <td>None</td>\n",
       "      <td>None</td>\n",
       "    </tr>\n",
       "    <tr>\n",
       "      <th>674</th>\n",
       "      <td>Yield</td>\n",
       "      <td>Cropland</td>\n",
       "      <td>Sugar Crops</td>\n",
       "      <td>None</td>\n",
       "      <td>None</td>\n",
       "      <td>None</td>\n",
       "    </tr>\n",
       "  </tbody>\n",
       "</table>\n",
       "<p>1843 rows × 6 columns</p>\n",
       "</div>"
      ],
      "text/plain": [
       "                 category     sub_category            2               3     4  \\\n",
       "290   Agricultural Demand            Crops    Bioenergy            None  None   \n",
       "291   Agricultural Demand            Crops    Bioenergy  1st Generation  None   \n",
       "292   Agricultural Demand            Crops    Bioenergy  2nd Generation  None   \n",
       "1067  Agricultural Demand            Crops         None            None  None   \n",
       "1068  Agricultural Demand            Crops         Feed            None  None   \n",
       "...                   ...              ...          ...             ...   ...   \n",
       "1177     Water Withdrawal  Municipal Water         None            None  None   \n",
       "649      Water Withdrawal             None         None            None  None   \n",
       "672                 Yield         Cropland      Cereals            None  None   \n",
       "673                 Yield         Cropland    Oil Crops            None  None   \n",
       "674                 Yield         Cropland  Sugar Crops            None  None   \n",
       "\n",
       "         5  \n",
       "290   None  \n",
       "291   None  \n",
       "292   None  \n",
       "1067  None  \n",
       "1068  None  \n",
       "...    ...  \n",
       "1177  None  \n",
       "649   None  \n",
       "672   None  \n",
       "673   None  \n",
       "674   None  \n",
       "\n",
       "[1843 rows x 6 columns]"
      ]
     },
     "execution_count": 8,
     "metadata": {},
     "output_type": "execute_result"
    }
   ],
   "source": [
    "## variables categorization and groups\n",
    "categories = variables.name.str.split(\"|\", expand=True)\n",
    "categories.sort_values(by=[0, 1], inplace=True)\n",
    "categories = categories.rename(columns={0: \"category\", 1: \"sub_category\"})\n",
    "categories"
   ]
  },
  {
   "cell_type": "code",
   "execution_count": 9,
   "metadata": {},
   "outputs": [
    {
     "data": {
      "text/plain": [
       "array(['Agricultural Demand',\n",
       "       'Agricultural Material Footprint [per capita]',\n",
       "       'Agricultural Production', 'Capacity', 'Capacity Additions',\n",
       "       'Capital Cost', 'Capital Formation', 'Capital Stock',\n",
       "       'Carbon Capture', 'Carbon Removal', 'Climate Assessment',\n",
       "       'Consumption', 'Efficiency', 'Emissions', 'Energy Service',\n",
       "       'Expenditure', 'Fertilizer Use', 'Final Energy',\n",
       "       'Final Energy (w/o bunkers)', 'Forestry Demand',\n",
       "       'Forestry Production', 'Freshwater', 'GDP', 'Gross Emissions',\n",
       "       'Health', 'Income', 'Inequality', 'Investment', 'Labor Force',\n",
       "       'Land Cover', 'Lifetime', 'Policy Cost', 'Pollution', 'Population',\n",
       "       'Price', 'Primary Energy', 'Production', 'Resource',\n",
       "       'Secondary Energy', 'Terrestrial Biodiversity', 'Trade',\n",
       "       'Value Added', 'Water Consumption', 'Water Quality',\n",
       "       'Water Withdrawal', 'Yield'], dtype=object)"
      ]
     },
     "execution_count": 9,
     "metadata": {},
     "output_type": "execute_result"
    }
   ],
   "source": [
    "categories.category.unique()"
   ]
  },
  {
   "cell_type": "code",
   "execution_count": null,
   "metadata": {},
   "outputs": [
    {
     "data": {
      "text/plain": [
       "array(['ENGAGE-INDCi2030-1000f', 'ENGAGE-INDCi2030-1200',\n",
       "       'ENGAGE-INDCi2030-1200f', 'ENGAGE-INDCi2030-1400',\n",
       "       'ENGAGE-INDCi2030-1400f', 'ENGAGE-INDCi2030-1600',\n",
       "       'ENGAGE-INDCi2030-1600f', 'ENGAGE-INDCi2030-1800',\n",
       "       'ENGAGE-INDCi2030-1800f', 'ENGAGE-INDCi2030-800f',\n",
       "       'ENGAGE-INDCi2030-900f', 'ENGAGE-INDCi2100', 'ENGAGE-NPi2020-1000',\n",
       "       'ENGAGE-NPi2020-1000f', 'ENGAGE-NPi2020-1200',\n",
       "       'ENGAGE-NPi2020-1200f', 'ENGAGE-NPi2020-1400',\n",
       "       'ENGAGE-NPi2020-1400f', 'ENGAGE-NPi2020-1600',\n",
       "       'ENGAGE-NPi2020-1600f', 'ENGAGE-NPi2020-1800',\n",
       "       'ENGAGE-NPi2020-1800f', 'ENGAGE-NPi2020-300f',\n",
       "       'ENGAGE-NPi2020-400f', 'ENGAGE-NPi2020-500f', 'ENGAGE-NPi2020-600',\n",
       "       'ENGAGE-NPi2020-600f', 'ENGAGE-NPi2020-700', 'ENGAGE-NPi2020-700f',\n",
       "       'ENGAGE-NPi2020-800', 'ENGAGE-NPi2020-800f', 'ENGAGE-NPi2020-900',\n",
       "       'ENGAGE-NPi2020-900f', 'ENGAGE-NPi2100', 'ENGAGE-INDCi2030-1000',\n",
       "       'ENGAGE-INDCi2030-1000-COV', 'ENGAGE-INDCi2030-1000-COV-NDCp',\n",
       "       'ENGAGE-INDCi2030-1000-NDCp', 'ENGAGE-INDCi2030-1000f-COV',\n",
       "       'ENGAGE-INDCi2030-1000f-COV-NDCp', 'ENGAGE-INDCi2030-1000f-NDCp',\n",
       "       'ENGAGE-INDCi2030-1200-COV', 'ENGAGE-INDCi2030-1200-COV-NDCp',\n",
       "       'ENGAGE-INDCi2030-1200-NDCp', 'ENGAGE-INDCi2030-1200f-COV',\n",
       "       'ENGAGE-INDCi2030-1200f-COV-NDCp', 'ENGAGE-INDCi2030-1200f-NDCp',\n",
       "       'ENGAGE-INDCi2030-1400-COV', 'ENGAGE-INDCi2030-1400-COV-NDCp',\n",
       "       'ENGAGE-INDCi2030-1400-NDCp', 'ENGAGE-INDCi2030-1400f-COV',\n",
       "       'ENGAGE-INDCi2030-1400f-COV-NDCp', 'ENGAGE-INDCi2030-1400f-NDCp',\n",
       "       'ENGAGE-INDCi2030-1600-COV', 'ENGAGE-INDCi2030-1600-COV-NDCp',\n",
       "       'ENGAGE-INDCi2030-1600-NDCp', 'ENGAGE-INDCi2030-1600f-COV',\n",
       "       'ENGAGE-INDCi2030-1600f-COV-NDCp', 'ENGAGE-INDCi2030-1600f-NDCp',\n",
       "       'ENGAGE-INDCi2030-1800-COV', 'ENGAGE-INDCi2030-1800-COV-NDCp',\n",
       "       'ENGAGE-INDCi2030-1800-NDCp', 'ENGAGE-INDCi2030-1800f-COV',\n",
       "       'ENGAGE-INDCi2030-1800f-COV-NDCp', 'ENGAGE-INDCi2030-1800f-NDCp',\n",
       "       'ENGAGE-INDCi2030-2000', 'ENGAGE-INDCi2030-2000-COV',\n",
       "       'ENGAGE-INDCi2030-2000-COV-NDCp', 'ENGAGE-INDCi2030-2000-NDCp',\n",
       "       'ENGAGE-INDCi2030-2000f', 'ENGAGE-INDCi2030-2000f-COV',\n",
       "       'ENGAGE-INDCi2030-2000f-COV-NDCp', 'ENGAGE-INDCi2030-2000f-NDCp',\n",
       "       'ENGAGE-INDCi2030-2500', 'ENGAGE-INDCi2030-2500-COV',\n",
       "       'ENGAGE-INDCi2030-2500-COV-NDCp', 'ENGAGE-INDCi2030-2500-NDCp',\n",
       "       'ENGAGE-INDCi2030-2500f', 'ENGAGE-INDCi2030-2500f-COV',\n",
       "       'ENGAGE-INDCi2030-2500f-COV-NDCp', 'ENGAGE-INDCi2030-2500f-NDCp',\n",
       "       'ENGAGE-INDCi2030-3000', 'ENGAGE-INDCi2030-3000-COV',\n",
       "       'ENGAGE-INDCi2030-3000-COV-NDCp', 'ENGAGE-INDCi2030-3000-NDCp',\n",
       "       'ENGAGE-INDCi2030-3000f', 'ENGAGE-INDCi2030-3000f-COV',\n",
       "       'ENGAGE-INDCi2030-3000f-COV-NDCp', 'ENGAGE-INDCi2030-3000f-NDCp',\n",
       "       'ENGAGE-INDCi2030-600f-COV', 'ENGAGE-INDCi2030-600f-COV-NDCp',\n",
       "       'ENGAGE-INDCi2030-700f', 'ENGAGE-INDCi2030-700f-COV',\n",
       "       'ENGAGE-INDCi2030-700f-COV-NDCp', 'ENGAGE-INDCi2030-700f-NDCp',\n",
       "       'ENGAGE-INDCi2030-800f-COV', 'ENGAGE-INDCi2030-800f-COV-NDCp',\n",
       "       'ENGAGE-INDCi2030-800f-NDCp', 'ENGAGE-INDCi2030-900f-COV',\n",
       "       'ENGAGE-INDCi2030-900f-COV-NDCp', 'ENGAGE-INDCi2030-900f-NDCp',\n",
       "       'ENGAGE-INDCi2030-950-COV', 'ENGAGE-INDCi2030-950-COV-NDCp',\n",
       "       'ENGAGE-INDCi2030-950f-COV', 'ENGAGE-INDCi2030-950f-COV-NDCp',\n",
       "       'ENGAGE-INDCi2100-COV', 'ENGAGE-INDCi2100-COV-NDCp',\n",
       "       'ENGAGE-INDCi2100-NDCp', 'ENGAGE-NPi2020-1000-COV',\n",
       "       'ENGAGE-NPi2020-1000-DR10p', 'ENGAGE-NPi2020-1000-DR1p',\n",
       "       'ENGAGE-NPi2020-1000-DR2p', 'ENGAGE-NPi2020-1000-DR3p',\n",
       "       'ENGAGE-NPi2020-1000-DR4p', 'ENGAGE-NPi2020-1000f-COV',\n",
       "       'ENGAGE-NPi2020-1000f-DR10p', 'ENGAGE-NPi2020-1000f-DR1p',\n",
       "       'ENGAGE-NPi2020-1000f-DR2p', 'ENGAGE-NPi2020-1000f-DR3p',\n",
       "       'ENGAGE-NPi2020-1000f-DR4p', 'ENGAGE-NPi2020-1200-COV',\n",
       "       'ENGAGE-NPi2020-1200f-COV', 'ENGAGE-NPi2020-1400-COV',\n",
       "       'ENGAGE-NPi2020-1400f-COV', 'ENGAGE-NPi2020-1600-COV',\n",
       "       'ENGAGE-NPi2020-1600f-COV', 'ENGAGE-NPi2020-1800-COV',\n",
       "       'ENGAGE-NPi2020-1800f-COV', 'ENGAGE-NPi2020-2000',\n",
       "       'ENGAGE-NPi2020-2000-COV', 'ENGAGE-NPi2020-2000f',\n",
       "       'ENGAGE-NPi2020-2000f-COV', 'ENGAGE-NPi2020-200f',\n",
       "       'ENGAGE-NPi2020-2500', 'ENGAGE-NPi2020-2500-COV',\n",
       "       'ENGAGE-NPi2020-2500f', 'ENGAGE-NPi2020-2500f-COV',\n",
       "       'ENGAGE-NPi2020-3000', 'ENGAGE-NPi2020-3000-COV',\n",
       "       'ENGAGE-NPi2020-3000f', 'ENGAGE-NPi2020-3000f-COV',\n",
       "       'ENGAGE-NPi2020-450', 'ENGAGE-NPi2020-450f', 'ENGAGE-NPi2020-500',\n",
       "       'ENGAGE-NPi2020-600-COV', 'ENGAGE-NPi2020-600-DR10p',\n",
       "       'ENGAGE-NPi2020-600-DR1p', 'ENGAGE-NPi2020-600-DR2p',\n",
       "       'ENGAGE-NPi2020-600-DR3p', 'ENGAGE-NPi2020-600-DR4p',\n",
       "       'ENGAGE-NPi2020-600f-COV', 'ENGAGE-NPi2020-600f-DR10p',\n",
       "       'ENGAGE-NPi2020-600f-DR1p', 'ENGAGE-NPi2020-600f-DR2p',\n",
       "       'ENGAGE-NPi2020-600f-DR3p', 'ENGAGE-NPi2020-600f-DR4p',\n",
       "       'ENGAGE-NPi2020-700-COV', 'ENGAGE-NPi2020-700f-COV',\n",
       "       'ENGAGE-NPi2020-800-COV', 'ENGAGE-NPi2020-800f-COV',\n",
       "       'ENGAGE-NPi2020-900-COV', 'ENGAGE-NPi2020-900f-COV',\n",
       "       'ENGAGE-NPi2100-COV', 'ENGAGE-NoPolicy', 'ENGAGE-INDCi2030-500f',\n",
       "       'ENGAGE-INDCi2030-600f', 'ENGAGE-INDCi2030-600f-NDCp',\n",
       "       'ENGAGE-INDCi2030-800', 'ENGAGE-INDCi2030-800-NDCp',\n",
       "       'ENGAGE-INDCi2030-900', 'ENGAGE-INDCi2030-900-NDCp',\n",
       "       'ENGAGE-INDCi2030-400f', 'ENGAGE-INDCi2030-500',\n",
       "       'ENGAGE-INDCi2030-600', 'ENGAGE-INDCi2030-600-COV-NDCp',\n",
       "       'ENGAGE-INDCi2030-600-NDCp', 'ENGAGE-INDCi2030-700',\n",
       "       'ENGAGE-NPi2020-400', 'ENGAGE-NPi2020-400-lowBECCS',\n",
       "       'ENGAGE-NPi2020-400f-lowBECCS', 'ENGAGE-INDCi2030-300f',\n",
       "       'GENIE DACCS DACl-MP-median-stor3-final_1000',\n",
       "       'GENIE DACCS DACl-MP-median-stor3-final_500',\n",
       "       'GENIE DACCS DACl-MP-median-stor3-final_700',\n",
       "       'GENIE DACCS DACm-HP-median-stor3-final_1000',\n",
       "       'GENIE DACCS DACm-HP-median-stor3-final_500',\n",
       "       'GENIE DACCS DACm-HP-median-stor3-final_700',\n",
       "       'GENIE DACCS DACm-HP-median-stor3-phs-govmSSP1-CO2total_1000',\n",
       "       'GENIE DACCS DACm-HP-median-stor3-phs-govmSSP1-CO2total_700',\n",
       "       'GENIE DACCS DACm-HP-median-stor3-phs-govmSSP2-CO2total_1000',\n",
       "       'GENIE DACCS DACm-LP-median-stor3-final_1000',\n",
       "       'GENIE DACCS DACm-LP-median-stor3-final_500',\n",
       "       'GENIE DACCS DACm-LP-median-stor3-final_700',\n",
       "       'GENIE DACCS DACm-LP-median-stor3-phs-govmSSP1-CO2total_1000',\n",
       "       'GENIE DACCS DACm-LP-median-stor3-phs-govmSSP1-CO2total_700',\n",
       "       'GENIE DACCS DACm-LP-median-stor3-phs-govmSSP2-CO2total_1000',\n",
       "       'GENIE DACCS DACm-MP-median-stor3-final_1000',\n",
       "       'GENIE DACCS DACm-MP-median-stor3-final_500',\n",
       "       'GENIE DACCS DACm-MP-median-stor3-final_700',\n",
       "       'GENIE DACCS DACm-MP-median-stor3-phs-govmSSP1-CO2total_1000',\n",
       "       'GENIE DACCS DACm-MP-median-stor3-phs-govmSSP1-CO2total_700',\n",
       "       'GENIE DACCS DACm-MP-median-stor3-phs-govmSSP2-CO2total_1000',\n",
       "       'ENGAGE-INDCi2030-600-COV', 'NAVIGATE Demand-1.5°C-act_u',\n",
       "       'NAVIGATE Demand-1.5°C-all_u', 'NAVIGATE Demand-1.5°C-ele_u',\n",
       "       'NAVIGATE Demand-1.5°C-ref', 'NAVIGATE Demand-1.5°C-tec_u',\n",
       "       'NAVIGATE Demand-2.0°C-act_u', 'NAVIGATE Demand-2.0°C-all_u',\n",
       "       'NAVIGATE Demand-2.0°C-ele_u', 'NAVIGATE Demand-2.0°C-ref',\n",
       "       'NAVIGATE Demand-2.0°C-tec_u', 'NAVIGATE Demand-NPi-act',\n",
       "       'NAVIGATE Demand-NPi-all', 'NAVIGATE Demand-NPi-ele',\n",
       "       'NAVIGATE Demand-NPi-ref', 'NAVIGATE Demand-NPi-tec',\n",
       "       'SHAPE-SDP-EI-1.5°C', 'SHAPE-SDP-MC-1.5°C', 'SHAPE-SDP-RC-1.5°C',\n",
       "       'SHAPE-SSP-NPi', 'SHAPE-SSP2-1.5°C', 'NGFS Phase 5-Below 2°C',\n",
       "       'NGFS Phase 5-Current Policies', 'NGFS Phase 5-Delayed Transition',\n",
       "       'NGFS Phase 5-Fragmented World', 'NGFS Phase 5-Low Demand',\n",
       "       'NGFS Phase 5-Nationally Determined Contributions (NDCs)',\n",
       "       'NGFS Phase 5-Net-Zero 2050'], dtype=object)"
      ]
     },
     "execution_count": 27,
     "metadata": {},
     "output_type": "execute_result"
    }
   ],
   "source": [
    "# create_df_from_api_response(\n",
    "#     client.get_data(\n",
    "#         \"meta/\",\n",
    "#         params={\"join_run_index\": \"true\", \"table\": \"true\"},\n",
    "#         body={\"run\": {\"default_only\": False}},\n",
    "#     )\n",
    "# )\n",
    "# metaindicators.reset_index().scenario.unique()\n"
   ]
  },
  {
   "cell_type": "code",
   "metadata": {
    "ExecuteTime": {
     "end_time": "2025-08-04T14:02:37.451651Z",
     "start_time": "2025-08-04T14:02:35.282179Z"
    }
   },
   "source": [
    "# explore meta indicators\n",
    "metaindicators = create_df_from_api_response(\n",
    "    client.get_data(\n",
    "        \"meta/\",\n",
    "        params={\"join_run_index\": \"false\", \"table\": \"true\"},\n",
    "        body={\"run\": {\"default_only\": False}},\n",
    "    )\n",
    ")\n",
    "\n",
    "metaindicators"
   ],
   "outputs": [
    {
     "data": {
      "text/plain": [
       "       run__id                                                key     id  \\\n",
       "0            1                                            Project      1   \n",
       "1            1                   Scientific Manuscript (Citation)      2   \n",
       "2            1                        Scientific Manuscript (DOI)      3   \n",
       "3            1                                  Data Source (DOI)      4   \n",
       "4            2                                            Project      5   \n",
       "...        ...                                                ...    ...   \n",
       "49995     1011  Climate Assessment|Year of Peak Warming|67th P...  84278   \n",
       "49996     1011  Climate Assessment|Year of Peak Warming|75th P...  84279   \n",
       "49997     1011  Climate Assessment|Year of Peak Warming|83th P...  84280   \n",
       "49998     1011  Climate Assessment|Year of Peak Warming|90th P...  84281   \n",
       "49999     1011  Climate Assessment|Year of Peak Warming|95th P...  84282   \n",
       "\n",
       "                            value type  \n",
       "0                    H2020 ENGAGE  STR  \n",
       "1             Riahi et al. (2021)  STR  \n",
       "2      10.1038/s41558-021-01215-2  STR  \n",
       "3          10.5281/zenodo.5553976  STR  \n",
       "4                    H2020 ENGAGE  STR  \n",
       "...                           ...  ...  \n",
       "49995                      2069.0  INT  \n",
       "49996                      2070.0  INT  \n",
       "49997                      2082.0  INT  \n",
       "49998                      2093.0  INT  \n",
       "49999                      2093.0  INT  \n",
       "\n",
       "[50000 rows x 5 columns]"
      ],
      "text/html": [
       "<div>\n",
       "<style scoped>\n",
       "    .dataframe tbody tr th:only-of-type {\n",
       "        vertical-align: middle;\n",
       "    }\n",
       "\n",
       "    .dataframe tbody tr th {\n",
       "        vertical-align: top;\n",
       "    }\n",
       "\n",
       "    .dataframe thead th {\n",
       "        text-align: right;\n",
       "    }\n",
       "</style>\n",
       "<table border=\"1\" class=\"dataframe\">\n",
       "  <thead>\n",
       "    <tr style=\"text-align: right;\">\n",
       "      <th></th>\n",
       "      <th>run__id</th>\n",
       "      <th>key</th>\n",
       "      <th>id</th>\n",
       "      <th>value</th>\n",
       "      <th>type</th>\n",
       "    </tr>\n",
       "  </thead>\n",
       "  <tbody>\n",
       "    <tr>\n",
       "      <th>0</th>\n",
       "      <td>1</td>\n",
       "      <td>Project</td>\n",
       "      <td>1</td>\n",
       "      <td>H2020 ENGAGE</td>\n",
       "      <td>STR</td>\n",
       "    </tr>\n",
       "    <tr>\n",
       "      <th>1</th>\n",
       "      <td>1</td>\n",
       "      <td>Scientific Manuscript (Citation)</td>\n",
       "      <td>2</td>\n",
       "      <td>Riahi et al. (2021)</td>\n",
       "      <td>STR</td>\n",
       "    </tr>\n",
       "    <tr>\n",
       "      <th>2</th>\n",
       "      <td>1</td>\n",
       "      <td>Scientific Manuscript (DOI)</td>\n",
       "      <td>3</td>\n",
       "      <td>10.1038/s41558-021-01215-2</td>\n",
       "      <td>STR</td>\n",
       "    </tr>\n",
       "    <tr>\n",
       "      <th>3</th>\n",
       "      <td>1</td>\n",
       "      <td>Data Source (DOI)</td>\n",
       "      <td>4</td>\n",
       "      <td>10.5281/zenodo.5553976</td>\n",
       "      <td>STR</td>\n",
       "    </tr>\n",
       "    <tr>\n",
       "      <th>4</th>\n",
       "      <td>2</td>\n",
       "      <td>Project</td>\n",
       "      <td>5</td>\n",
       "      <td>H2020 ENGAGE</td>\n",
       "      <td>STR</td>\n",
       "    </tr>\n",
       "    <tr>\n",
       "      <th>...</th>\n",
       "      <td>...</td>\n",
       "      <td>...</td>\n",
       "      <td>...</td>\n",
       "      <td>...</td>\n",
       "      <td>...</td>\n",
       "    </tr>\n",
       "    <tr>\n",
       "      <th>49995</th>\n",
       "      <td>1011</td>\n",
       "      <td>Climate Assessment|Year of Peak Warming|67th P...</td>\n",
       "      <td>84278</td>\n",
       "      <td>2069.0</td>\n",
       "      <td>INT</td>\n",
       "    </tr>\n",
       "    <tr>\n",
       "      <th>49996</th>\n",
       "      <td>1011</td>\n",
       "      <td>Climate Assessment|Year of Peak Warming|75th P...</td>\n",
       "      <td>84279</td>\n",
       "      <td>2070.0</td>\n",
       "      <td>INT</td>\n",
       "    </tr>\n",
       "    <tr>\n",
       "      <th>49997</th>\n",
       "      <td>1011</td>\n",
       "      <td>Climate Assessment|Year of Peak Warming|83th P...</td>\n",
       "      <td>84280</td>\n",
       "      <td>2082.0</td>\n",
       "      <td>INT</td>\n",
       "    </tr>\n",
       "    <tr>\n",
       "      <th>49998</th>\n",
       "      <td>1011</td>\n",
       "      <td>Climate Assessment|Year of Peak Warming|90th P...</td>\n",
       "      <td>84281</td>\n",
       "      <td>2093.0</td>\n",
       "      <td>INT</td>\n",
       "    </tr>\n",
       "    <tr>\n",
       "      <th>49999</th>\n",
       "      <td>1011</td>\n",
       "      <td>Climate Assessment|Year of Peak Warming|95th P...</td>\n",
       "      <td>84282</td>\n",
       "      <td>2093.0</td>\n",
       "      <td>INT</td>\n",
       "    </tr>\n",
       "  </tbody>\n",
       "</table>\n",
       "<p>50000 rows × 5 columns</p>\n",
       "</div>"
      ]
     },
     "execution_count": 8,
     "metadata": {},
     "output_type": "execute_result"
    }
   ],
   "execution_count": 8
  },
  {
   "cell_type": "code",
   "execution_count": 13,
   "metadata": {},
   "outputs": [
    {
     "data": {
      "text/plain": [
       "array(['AIM/CGE V2.2', 'MESSAGEix-GLOBIOM 1.1', 'IMAGE 3.0', 'WITCH 5.0',\n",
       "       'COFFEE 1.1', 'GEM-E3 V2021', 'POLES-JRC ENGAGE',\n",
       "       'REMIND-MAgPIE 2.1-4.2', 'TIAM-ECN 1.1', 'REMIND 3.0',\n",
       "       'PROMETHEUS V1', 'COFFEE 1.5', 'MESSAGEix-GLOBIOM 1.1-BMT-R12',\n",
       "       'IMACLIM 2.0', 'MESSAGEix-GLOBIOM 1.1-BM-R12', 'ODYM-RECC 2.5',\n",
       "       'REMIND-MAgPIE 3.2-4.6', 'GCAM 6.0 NGFS',\n",
       "       'MESSAGEix-GLOBIOM 2.0-M-R12-NGFS', 'REMIND-MAgPIE 3.3-4.8',\n",
       "       'IMAGE 3.3'], dtype=object)"
      ]
     },
     "execution_count": 13,
     "metadata": {},
     "output_type": "execute_result"
    }
   ],
   "source": [
    "metaindicators.model.unique()\n"
   ]
  },
  {
   "cell_type": "code",
   "execution_count": 11,
   "metadata": {},
   "outputs": [
    {
     "data": {
      "text/plain": [
       "array(['C3: Likely below 2°C', 'C4: Below 2°C', 'C5: Below 2.5°C',\n",
       "       'C6: Below 3.0°C', 'C1b: Below 1.5°C with low OS',\n",
       "       'C2: Below 1.5°C with high OS', 'C7: Below 4.0°C'], dtype=object)"
      ]
     },
     "execution_count": 11,
     "metadata": {},
     "output_type": "execute_result"
    }
   ],
   "source": [
    "metaindicators[metaindicators[\"key\"].str.contains(\"Name\")].value.unique()"
   ]
  },
  {
   "cell_type": "code",
   "execution_count": 12,
   "metadata": {},
   "outputs": [
    {
     "data": {
      "text/plain": [
       "array([1.363005605076402, 1.457082683960506, 1.542026347481938, ...,\n",
       "       1.818705129741388, 1.937520556952889, 2.034847000532907],\n",
       "      dtype=object)"
      ]
     },
     "execution_count": 12,
     "metadata": {},
     "output_type": "execute_result"
    }
   ],
   "source": [
    "metaindicators[metaindicators[\"key\"].str.contains(\"Peak Warming\")].value.unique()\n"
   ]
  },
  {
   "cell_type": "code",
   "execution_count": 13,
   "metadata": {},
   "outputs": [
    {
     "data": {
      "text/plain": [
       "array([2048.0, 2049.0, 2059.0, 2068.0, 2069.0, 2070.0, 2060.0, 2094.0,\n",
       "       2100.0, 2061.0, 2081.0, 2093.0, 2082.0, 2083.0, 2071.0, 2050.0,\n",
       "       2058.0, 2038.0, 2037.0, 2047.0, 2057.0, 2080.0, 2084.0, 2095.0,\n",
       "       2072.0, 2079.0, 2092.0, 2098.0, 2040.0, 2062.0, 2051.0, 2077.0,\n",
       "       2064.0, 2073.0, 2036.0, 2039.0, 2035.0, 2045.0, 2099.0, 2046.0,\n",
       "       2041.0, 2044.0, 2066.0, 2096.0, 2026.0, 2027.0, 2028.0, 2086.0,\n",
       "       2076.0, 2074.0, 2078.0, 2085.0, 2090.0, 2091.0, 2063.0, 2042.0,\n",
       "       2052.0, 2089.0, 2067.0, 2054.0, 2034.0, 2031.0], dtype=object)"
      ]
     },
     "execution_count": 13,
     "metadata": {},
     "output_type": "execute_result"
    }
   ],
   "source": [
    "metaindicators[metaindicators[\"key\"].str.contains(\"Year of Peak Warming\")].value.unique()\n"
   ]
  },
  {
   "cell_type": "code",
   "execution_count": 14,
   "metadata": {},
   "outputs": [
    {
     "data": {
      "application/vnd.microsoft.datawrangler.viewer.v0+json": {
       "columns": [
        {
         "name": "index",
         "rawType": "int64",
         "type": "integer"
        },
        {
         "name": "model",
         "rawType": "object",
         "type": "string"
        },
        {
         "name": "scenario",
         "rawType": "object",
         "type": "string"
        },
        {
         "name": "version",
         "rawType": "int64",
         "type": "integer"
        },
        {
         "name": "key",
         "rawType": "object",
         "type": "string"
        },
        {
         "name": "id",
         "rawType": "int64",
         "type": "integer"
        },
        {
         "name": "value",
         "rawType": "object",
         "type": "unknown"
        },
        {
         "name": "type",
         "rawType": "object",
         "type": "string"
        }
       ],
       "ref": "b4bc641b-de5a-402d-bac9-efeae2f2bb68",
       "rows": [
        [
         "0",
         "AIM/CGE V2.2",
         "ENGAGE-INDCi2030-1000f",
         "1",
         "Project",
         "1",
         "H2020 ENGAGE",
         "STR"
        ],
        [
         "1",
         "AIM/CGE V2.2",
         "ENGAGE-INDCi2030-1000f",
         "1",
         "Scientific Manuscript (Citation)",
         "2",
         "Riahi et al. (2021)",
         "STR"
        ],
        [
         "2",
         "AIM/CGE V2.2",
         "ENGAGE-INDCi2030-1000f",
         "1",
         "Scientific Manuscript (DOI)",
         "3",
         "10.1038/s41558-021-01215-2",
         "STR"
        ],
        [
         "3",
         "AIM/CGE V2.2",
         "ENGAGE-INDCi2030-1000f",
         "1",
         "Data Source (DOI)",
         "4",
         "10.5281/zenodo.5553976",
         "STR"
        ],
        [
         "4",
         "AIM/CGE V2.2",
         "ENGAGE-INDCi2030-1200",
         "1",
         "Project",
         "5",
         "H2020 ENGAGE",
         "STR"
        ],
        [
         "5",
         "AIM/CGE V2.2",
         "ENGAGE-INDCi2030-1200",
         "1",
         "Scientific Manuscript (Citation)",
         "6",
         "Riahi et al. (2021)",
         "STR"
        ],
        [
         "6",
         "AIM/CGE V2.2",
         "ENGAGE-INDCi2030-1200",
         "1",
         "Scientific Manuscript (DOI)",
         "7",
         "10.1038/s41558-021-01215-2",
         "STR"
        ],
        [
         "7",
         "AIM/CGE V2.2",
         "ENGAGE-INDCi2030-1200",
         "1",
         "Data Source (DOI)",
         "8",
         "10.5281/zenodo.5553976",
         "STR"
        ],
        [
         "8",
         "AIM/CGE V2.2",
         "ENGAGE-INDCi2030-1200f",
         "1",
         "Project",
         "9",
         "H2020 ENGAGE",
         "STR"
        ],
        [
         "9",
         "AIM/CGE V2.2",
         "ENGAGE-INDCi2030-1200f",
         "1",
         "Scientific Manuscript (Citation)",
         "10",
         "Riahi et al. (2021)",
         "STR"
        ],
        [
         "10",
         "AIM/CGE V2.2",
         "ENGAGE-INDCi2030-1200f",
         "1",
         "Scientific Manuscript (DOI)",
         "11",
         "10.1038/s41558-021-01215-2",
         "STR"
        ],
        [
         "11",
         "AIM/CGE V2.2",
         "ENGAGE-INDCi2030-1200f",
         "1",
         "Data Source (DOI)",
         "12",
         "10.5281/zenodo.5553976",
         "STR"
        ],
        [
         "12",
         "AIM/CGE V2.2",
         "ENGAGE-INDCi2030-1400",
         "1",
         "Project",
         "13",
         "H2020 ENGAGE",
         "STR"
        ],
        [
         "13",
         "AIM/CGE V2.2",
         "ENGAGE-INDCi2030-1400",
         "1",
         "Scientific Manuscript (Citation)",
         "14",
         "Riahi et al. (2021)",
         "STR"
        ],
        [
         "14",
         "AIM/CGE V2.2",
         "ENGAGE-INDCi2030-1400",
         "1",
         "Scientific Manuscript (DOI)",
         "15",
         "10.1038/s41558-021-01215-2",
         "STR"
        ],
        [
         "15",
         "AIM/CGE V2.2",
         "ENGAGE-INDCi2030-1400",
         "1",
         "Data Source (DOI)",
         "16",
         "10.5281/zenodo.5553976",
         "STR"
        ],
        [
         "16",
         "AIM/CGE V2.2",
         "ENGAGE-INDCi2030-1400f",
         "1",
         "Project",
         "17",
         "H2020 ENGAGE",
         "STR"
        ],
        [
         "17",
         "AIM/CGE V2.2",
         "ENGAGE-INDCi2030-1400f",
         "1",
         "Scientific Manuscript (Citation)",
         "18",
         "Riahi et al. (2021)",
         "STR"
        ],
        [
         "18",
         "AIM/CGE V2.2",
         "ENGAGE-INDCi2030-1400f",
         "1",
         "Scientific Manuscript (DOI)",
         "19",
         "10.1038/s41558-021-01215-2",
         "STR"
        ],
        [
         "19",
         "AIM/CGE V2.2",
         "ENGAGE-INDCi2030-1400f",
         "1",
         "Data Source (DOI)",
         "20",
         "10.5281/zenodo.5553976",
         "STR"
        ],
        [
         "20",
         "AIM/CGE V2.2",
         "ENGAGE-INDCi2030-1600",
         "1",
         "Project",
         "21",
         "H2020 ENGAGE",
         "STR"
        ],
        [
         "21",
         "AIM/CGE V2.2",
         "ENGAGE-INDCi2030-1600",
         "1",
         "Scientific Manuscript (Citation)",
         "22",
         "Riahi et al. (2021)",
         "STR"
        ],
        [
         "22",
         "AIM/CGE V2.2",
         "ENGAGE-INDCi2030-1600",
         "1",
         "Scientific Manuscript (DOI)",
         "23",
         "10.1038/s41558-021-01215-2",
         "STR"
        ],
        [
         "23",
         "AIM/CGE V2.2",
         "ENGAGE-INDCi2030-1600",
         "1",
         "Data Source (DOI)",
         "24",
         "10.5281/zenodo.5553976",
         "STR"
        ],
        [
         "24",
         "AIM/CGE V2.2",
         "ENGAGE-INDCi2030-1600f",
         "1",
         "Project",
         "25",
         "H2020 ENGAGE",
         "STR"
        ],
        [
         "25",
         "AIM/CGE V2.2",
         "ENGAGE-INDCi2030-1600f",
         "1",
         "Scientific Manuscript (Citation)",
         "26",
         "Riahi et al. (2021)",
         "STR"
        ],
        [
         "26",
         "AIM/CGE V2.2",
         "ENGAGE-INDCi2030-1600f",
         "1",
         "Scientific Manuscript (DOI)",
         "27",
         "10.1038/s41558-021-01215-2",
         "STR"
        ],
        [
         "27",
         "AIM/CGE V2.2",
         "ENGAGE-INDCi2030-1600f",
         "1",
         "Data Source (DOI)",
         "28",
         "10.5281/zenodo.5553976",
         "STR"
        ],
        [
         "28",
         "AIM/CGE V2.2",
         "ENGAGE-INDCi2030-1800",
         "1",
         "Project",
         "29",
         "H2020 ENGAGE",
         "STR"
        ],
        [
         "29",
         "AIM/CGE V2.2",
         "ENGAGE-INDCi2030-1800",
         "1",
         "Scientific Manuscript (Citation)",
         "30",
         "Riahi et al. (2021)",
         "STR"
        ],
        [
         "30",
         "AIM/CGE V2.2",
         "ENGAGE-INDCi2030-1800",
         "1",
         "Scientific Manuscript (DOI)",
         "31",
         "10.1038/s41558-021-01215-2",
         "STR"
        ],
        [
         "31",
         "AIM/CGE V2.2",
         "ENGAGE-INDCi2030-1800",
         "1",
         "Data Source (DOI)",
         "32",
         "10.5281/zenodo.5553976",
         "STR"
        ],
        [
         "32",
         "AIM/CGE V2.2",
         "ENGAGE-INDCi2030-1800f",
         "1",
         "Project",
         "33",
         "H2020 ENGAGE",
         "STR"
        ],
        [
         "33",
         "AIM/CGE V2.2",
         "ENGAGE-INDCi2030-1800f",
         "1",
         "Scientific Manuscript (Citation)",
         "34",
         "Riahi et al. (2021)",
         "STR"
        ],
        [
         "34",
         "AIM/CGE V2.2",
         "ENGAGE-INDCi2030-1800f",
         "1",
         "Scientific Manuscript (DOI)",
         "35",
         "10.1038/s41558-021-01215-2",
         "STR"
        ],
        [
         "35",
         "AIM/CGE V2.2",
         "ENGAGE-INDCi2030-1800f",
         "1",
         "Data Source (DOI)",
         "36",
         "10.5281/zenodo.5553976",
         "STR"
        ],
        [
         "36",
         "AIM/CGE V2.2",
         "ENGAGE-INDCi2030-800f",
         "1",
         "Project",
         "37",
         "H2020 ENGAGE",
         "STR"
        ],
        [
         "37",
         "AIM/CGE V2.2",
         "ENGAGE-INDCi2030-800f",
         "1",
         "Scientific Manuscript (Citation)",
         "38",
         "Riahi et al. (2021)",
         "STR"
        ],
        [
         "38",
         "AIM/CGE V2.2",
         "ENGAGE-INDCi2030-800f",
         "1",
         "Scientific Manuscript (DOI)",
         "39",
         "10.1038/s41558-021-01215-2",
         "STR"
        ],
        [
         "39",
         "AIM/CGE V2.2",
         "ENGAGE-INDCi2030-800f",
         "1",
         "Data Source (DOI)",
         "40",
         "10.5281/zenodo.5553976",
         "STR"
        ],
        [
         "40",
         "AIM/CGE V2.2",
         "ENGAGE-INDCi2030-900f",
         "1",
         "Project",
         "41",
         "H2020 ENGAGE",
         "STR"
        ],
        [
         "41",
         "AIM/CGE V2.2",
         "ENGAGE-INDCi2030-900f",
         "1",
         "Scientific Manuscript (Citation)",
         "42",
         "Riahi et al. (2021)",
         "STR"
        ],
        [
         "42",
         "AIM/CGE V2.2",
         "ENGAGE-INDCi2030-900f",
         "1",
         "Scientific Manuscript (DOI)",
         "43",
         "10.1038/s41558-021-01215-2",
         "STR"
        ],
        [
         "43",
         "AIM/CGE V2.2",
         "ENGAGE-INDCi2030-900f",
         "1",
         "Data Source (DOI)",
         "44",
         "10.5281/zenodo.5553976",
         "STR"
        ],
        [
         "44",
         "AIM/CGE V2.2",
         "ENGAGE-INDCi2100",
         "1",
         "Project",
         "45",
         "H2020 ENGAGE",
         "STR"
        ],
        [
         "45",
         "AIM/CGE V2.2",
         "ENGAGE-INDCi2100",
         "1",
         "Scientific Manuscript (Citation)",
         "46",
         "Riahi et al. (2021)",
         "STR"
        ],
        [
         "46",
         "AIM/CGE V2.2",
         "ENGAGE-INDCi2100",
         "1",
         "Scientific Manuscript (DOI)",
         "47",
         "10.1038/s41558-021-01215-2",
         "STR"
        ],
        [
         "47",
         "AIM/CGE V2.2",
         "ENGAGE-INDCi2100",
         "1",
         "Data Source (DOI)",
         "48",
         "10.5281/zenodo.5553976",
         "STR"
        ],
        [
         "48",
         "AIM/CGE V2.2",
         "ENGAGE-NPi2020-1000",
         "1",
         "Project",
         "49",
         "H2020 ENGAGE",
         "STR"
        ],
        [
         "49",
         "AIM/CGE V2.2",
         "ENGAGE-NPi2020-1000",
         "1",
         "Scientific Manuscript (Citation)",
         "50",
         "Riahi et al. (2021)",
         "STR"
        ]
       ],
       "shape": {
        "columns": 7,
        "rows": 35545
       }
      },
      "text/html": [
       "<div>\n",
       "<style scoped>\n",
       "    .dataframe tbody tr th:only-of-type {\n",
       "        vertical-align: middle;\n",
       "    }\n",
       "\n",
       "    .dataframe tbody tr th {\n",
       "        vertical-align: top;\n",
       "    }\n",
       "\n",
       "    .dataframe thead th {\n",
       "        text-align: right;\n",
       "    }\n",
       "</style>\n",
       "<table border=\"1\" class=\"dataframe\">\n",
       "  <thead>\n",
       "    <tr style=\"text-align: right;\">\n",
       "      <th></th>\n",
       "      <th>model</th>\n",
       "      <th>scenario</th>\n",
       "      <th>version</th>\n",
       "      <th>key</th>\n",
       "      <th>id</th>\n",
       "      <th>value</th>\n",
       "      <th>type</th>\n",
       "    </tr>\n",
       "  </thead>\n",
       "  <tbody>\n",
       "    <tr>\n",
       "      <th>0</th>\n",
       "      <td>AIM/CGE V2.2</td>\n",
       "      <td>ENGAGE-INDCi2030-1000f</td>\n",
       "      <td>1</td>\n",
       "      <td>Project</td>\n",
       "      <td>1</td>\n",
       "      <td>H2020 ENGAGE</td>\n",
       "      <td>STR</td>\n",
       "    </tr>\n",
       "    <tr>\n",
       "      <th>1</th>\n",
       "      <td>AIM/CGE V2.2</td>\n",
       "      <td>ENGAGE-INDCi2030-1000f</td>\n",
       "      <td>1</td>\n",
       "      <td>Scientific Manuscript (Citation)</td>\n",
       "      <td>2</td>\n",
       "      <td>Riahi et al. (2021)</td>\n",
       "      <td>STR</td>\n",
       "    </tr>\n",
       "    <tr>\n",
       "      <th>2</th>\n",
       "      <td>AIM/CGE V2.2</td>\n",
       "      <td>ENGAGE-INDCi2030-1000f</td>\n",
       "      <td>1</td>\n",
       "      <td>Scientific Manuscript (DOI)</td>\n",
       "      <td>3</td>\n",
       "      <td>10.1038/s41558-021-01215-2</td>\n",
       "      <td>STR</td>\n",
       "    </tr>\n",
       "    <tr>\n",
       "      <th>3</th>\n",
       "      <td>AIM/CGE V2.2</td>\n",
       "      <td>ENGAGE-INDCi2030-1000f</td>\n",
       "      <td>1</td>\n",
       "      <td>Data Source (DOI)</td>\n",
       "      <td>4</td>\n",
       "      <td>10.5281/zenodo.5553976</td>\n",
       "      <td>STR</td>\n",
       "    </tr>\n",
       "    <tr>\n",
       "      <th>4</th>\n",
       "      <td>AIM/CGE V2.2</td>\n",
       "      <td>ENGAGE-INDCi2030-1200</td>\n",
       "      <td>1</td>\n",
       "      <td>Project</td>\n",
       "      <td>5</td>\n",
       "      <td>H2020 ENGAGE</td>\n",
       "      <td>STR</td>\n",
       "    </tr>\n",
       "    <tr>\n",
       "      <th>...</th>\n",
       "      <td>...</td>\n",
       "      <td>...</td>\n",
       "      <td>...</td>\n",
       "      <td>...</td>\n",
       "      <td>...</td>\n",
       "      <td>...</td>\n",
       "      <td>...</td>\n",
       "    </tr>\n",
       "    <tr>\n",
       "      <th>35540</th>\n",
       "      <td>IMAGE 3.3</td>\n",
       "      <td>SHAPE-SSP2-1.5°C</td>\n",
       "      <td>1</td>\n",
       "      <td>Climate Assessment|Category [Name]</td>\n",
       "      <td>61291</td>\n",
       "      <td>C1b: Below 1.5°C with low OS</td>\n",
       "      <td>STR</td>\n",
       "    </tr>\n",
       "    <tr>\n",
       "      <th>35541</th>\n",
       "      <td>IMAGE 3.3</td>\n",
       "      <td>SHAPE-SSP2-1.5°C</td>\n",
       "      <td>1</td>\n",
       "      <td>Climate Assessment|Processing|Harmonization</td>\n",
       "      <td>61292</td>\n",
       "      <td>aneris (version: 0.3.1)</td>\n",
       "      <td>STR</td>\n",
       "    </tr>\n",
       "    <tr>\n",
       "      <th>35542</th>\n",
       "      <td>IMAGE 3.3</td>\n",
       "      <td>SHAPE-SSP2-1.5°C</td>\n",
       "      <td>1</td>\n",
       "      <td>Climate Assessment|Processing|Infilling</td>\n",
       "      <td>61293</td>\n",
       "      <td>silicone (version: 1.3.0)</td>\n",
       "      <td>STR</td>\n",
       "    </tr>\n",
       "    <tr>\n",
       "      <th>35543</th>\n",
       "      <td>IMAGE 3.3</td>\n",
       "      <td>SHAPE-SSP2-1.5°C</td>\n",
       "      <td>1</td>\n",
       "      <td>Climate Assessment|Processing|Runner</td>\n",
       "      <td>61294</td>\n",
       "      <td>openscm_runner (version: 0.12.1)</td>\n",
       "      <td>STR</td>\n",
       "    </tr>\n",
       "    <tr>\n",
       "      <th>35544</th>\n",
       "      <td>IMAGE 3.3</td>\n",
       "      <td>SHAPE-SSP2-1.5°C</td>\n",
       "      <td>1</td>\n",
       "      <td>Climate Assessment|Processing|Package</td>\n",
       "      <td>61295</td>\n",
       "      <td>climate-assessment (version: 0.1.4a0)</td>\n",
       "      <td>STR</td>\n",
       "    </tr>\n",
       "  </tbody>\n",
       "</table>\n",
       "<p>35545 rows × 7 columns</p>\n",
       "</div>"
      ],
      "text/plain": [
       "              model                scenario  version  \\\n",
       "0      AIM/CGE V2.2  ENGAGE-INDCi2030-1000f        1   \n",
       "1      AIM/CGE V2.2  ENGAGE-INDCi2030-1000f        1   \n",
       "2      AIM/CGE V2.2  ENGAGE-INDCi2030-1000f        1   \n",
       "3      AIM/CGE V2.2  ENGAGE-INDCi2030-1000f        1   \n",
       "4      AIM/CGE V2.2   ENGAGE-INDCi2030-1200        1   \n",
       "...             ...                     ...      ...   \n",
       "35540     IMAGE 3.3        SHAPE-SSP2-1.5°C        1   \n",
       "35541     IMAGE 3.3        SHAPE-SSP2-1.5°C        1   \n",
       "35542     IMAGE 3.3        SHAPE-SSP2-1.5°C        1   \n",
       "35543     IMAGE 3.3        SHAPE-SSP2-1.5°C        1   \n",
       "35544     IMAGE 3.3        SHAPE-SSP2-1.5°C        1   \n",
       "\n",
       "                                               key     id  \\\n",
       "0                                          Project      1   \n",
       "1                 Scientific Manuscript (Citation)      2   \n",
       "2                      Scientific Manuscript (DOI)      3   \n",
       "3                                Data Source (DOI)      4   \n",
       "4                                          Project      5   \n",
       "...                                            ...    ...   \n",
       "35540           Climate Assessment|Category [Name]  61291   \n",
       "35541  Climate Assessment|Processing|Harmonization  61292   \n",
       "35542      Climate Assessment|Processing|Infilling  61293   \n",
       "35543         Climate Assessment|Processing|Runner  61294   \n",
       "35544        Climate Assessment|Processing|Package  61295   \n",
       "\n",
       "                                       value type  \n",
       "0                               H2020 ENGAGE  STR  \n",
       "1                        Riahi et al. (2021)  STR  \n",
       "2                 10.1038/s41558-021-01215-2  STR  \n",
       "3                     10.5281/zenodo.5553976  STR  \n",
       "4                               H2020 ENGAGE  STR  \n",
       "...                                      ...  ...  \n",
       "35540           C1b: Below 1.5°C with low OS  STR  \n",
       "35541                aneris (version: 0.3.1)  STR  \n",
       "35542              silicone (version: 1.3.0)  STR  \n",
       "35543       openscm_runner (version: 0.12.1)  STR  \n",
       "35544  climate-assessment (version: 0.1.4a0)  STR  \n",
       "\n",
       "[35545 rows x 7 columns]"
      ]
     },
     "execution_count": 14,
     "metadata": {},
     "output_type": "execute_result"
    }
   ],
   "source": [
    "metaindicators\n"
   ]
  },
  {
   "cell_type": "code",
   "metadata": {
    "ExecuteTime": {
     "end_time": "2025-08-04T14:51:07.032707Z",
     "start_time": "2025-08-04T14:51:06.220242Z"
    }
   },
   "source": [
    "data = create_df_from_api_response(\n",
    "    client.get_data(\n",
    "        \"iamc/datapoints/\",\n",
    "        params={\"join_parameters\": \"true\", \"join_runs\": \"true\", \"table\": \"true\"},\n",
    "        body={\n",
    "            \"run\": {\"id__in\": [1, 2]},\n",
    "            \"variable\": {\"name__in\": [\"Agricultural Demand\"]},\n",
    "            \"region\": {\"name__in\": [\"World\"]},\n",
    "        },\n",
    "    )\n",
    ")\n",
    "\n",
    "data"
   ],
   "outputs": [
    {
     "data": {
      "text/plain": [
       "           model                scenario  version region             unit  \\\n",
       "14  AIM/CGE V2.2  ENGAGE-INDCi2030-1000f        1  World  million t DM/yr   \n",
       "11  AIM/CGE V2.2  ENGAGE-INDCi2030-1000f        1  World  million t DM/yr   \n",
       "9   AIM/CGE V2.2  ENGAGE-INDCi2030-1000f        1  World  million t DM/yr   \n",
       "13  AIM/CGE V2.2  ENGAGE-INDCi2030-1000f        1  World  million t DM/yr   \n",
       "18  AIM/CGE V2.2  ENGAGE-INDCi2030-1000f        1  World  million t DM/yr   \n",
       "15  AIM/CGE V2.2  ENGAGE-INDCi2030-1000f        1  World  million t DM/yr   \n",
       "16  AIM/CGE V2.2  ENGAGE-INDCi2030-1000f        1  World  million t DM/yr   \n",
       "17  AIM/CGE V2.2  ENGAGE-INDCi2030-1000f        1  World  million t DM/yr   \n",
       "10  AIM/CGE V2.2  ENGAGE-INDCi2030-1000f        1  World  million t DM/yr   \n",
       "12  AIM/CGE V2.2  ENGAGE-INDCi2030-1000f        1  World  million t DM/yr   \n",
       "8   AIM/CGE V2.2  ENGAGE-INDCi2030-1000f        1  World  million t DM/yr   \n",
       "0   AIM/CGE V2.2  ENGAGE-INDCi2030-1000f        1  World  million t DM/yr   \n",
       "7   AIM/CGE V2.2  ENGAGE-INDCi2030-1000f        1  World  million t DM/yr   \n",
       "6   AIM/CGE V2.2  ENGAGE-INDCi2030-1000f        1  World  million t DM/yr   \n",
       "5   AIM/CGE V2.2  ENGAGE-INDCi2030-1000f        1  World  million t DM/yr   \n",
       "4   AIM/CGE V2.2  ENGAGE-INDCi2030-1000f        1  World  million t DM/yr   \n",
       "3   AIM/CGE V2.2  ENGAGE-INDCi2030-1000f        1  World  million t DM/yr   \n",
       "2   AIM/CGE V2.2  ENGAGE-INDCi2030-1000f        1  World  million t DM/yr   \n",
       "1   AIM/CGE V2.2  ENGAGE-INDCi2030-1000f        1  World  million t DM/yr   \n",
       "33  AIM/CGE V2.2   ENGAGE-INDCi2030-1200        1  World  million t DM/yr   \n",
       "30  AIM/CGE V2.2   ENGAGE-INDCi2030-1200        1  World  million t DM/yr   \n",
       "28  AIM/CGE V2.2   ENGAGE-INDCi2030-1200        1  World  million t DM/yr   \n",
       "32  AIM/CGE V2.2   ENGAGE-INDCi2030-1200        1  World  million t DM/yr   \n",
       "37  AIM/CGE V2.2   ENGAGE-INDCi2030-1200        1  World  million t DM/yr   \n",
       "34  AIM/CGE V2.2   ENGAGE-INDCi2030-1200        1  World  million t DM/yr   \n",
       "35  AIM/CGE V2.2   ENGAGE-INDCi2030-1200        1  World  million t DM/yr   \n",
       "36  AIM/CGE V2.2   ENGAGE-INDCi2030-1200        1  World  million t DM/yr   \n",
       "29  AIM/CGE V2.2   ENGAGE-INDCi2030-1200        1  World  million t DM/yr   \n",
       "31  AIM/CGE V2.2   ENGAGE-INDCi2030-1200        1  World  million t DM/yr   \n",
       "27  AIM/CGE V2.2   ENGAGE-INDCi2030-1200        1  World  million t DM/yr   \n",
       "19  AIM/CGE V2.2   ENGAGE-INDCi2030-1200        1  World  million t DM/yr   \n",
       "26  AIM/CGE V2.2   ENGAGE-INDCi2030-1200        1  World  million t DM/yr   \n",
       "25  AIM/CGE V2.2   ENGAGE-INDCi2030-1200        1  World  million t DM/yr   \n",
       "24  AIM/CGE V2.2   ENGAGE-INDCi2030-1200        1  World  million t DM/yr   \n",
       "23  AIM/CGE V2.2   ENGAGE-INDCi2030-1200        1  World  million t DM/yr   \n",
       "22  AIM/CGE V2.2   ENGAGE-INDCi2030-1200        1  World  million t DM/yr   \n",
       "21  AIM/CGE V2.2   ENGAGE-INDCi2030-1200        1  World  million t DM/yr   \n",
       "20  AIM/CGE V2.2   ENGAGE-INDCi2030-1200        1  World  million t DM/yr   \n",
       "\n",
       "               variable       value    type  step_year  time_series__id  \\\n",
       "14  Agricultural Demand   2729.9307  ANNUAL       2010             3026   \n",
       "11  Agricultural Demand   3179.6320  ANNUAL       2015             3026   \n",
       "9   Agricultural Demand   3515.3886  ANNUAL       2020             3026   \n",
       "13  Agricultural Demand   3804.1290  ANNUAL       2025             3026   \n",
       "18  Agricultural Demand   4010.6738  ANNUAL       2030             3026   \n",
       "15  Agricultural Demand   4183.8337  ANNUAL       2035             3026   \n",
       "16  Agricultural Demand   4621.8576  ANNUAL       2040             3026   \n",
       "17  Agricultural Demand   5003.9216  ANNUAL       2045             3026   \n",
       "10  Agricultural Demand   5362.0102  ANNUAL       2050             3026   \n",
       "12  Agricultural Demand   6090.5268  ANNUAL       2055             3026   \n",
       "8   Agricultural Demand   8152.3066  ANNUAL       2060             3026   \n",
       "0   Agricultural Demand  10369.6479  ANNUAL       2065             3026   \n",
       "7   Agricultural Demand  12301.7437  ANNUAL       2070             3026   \n",
       "6   Agricultural Demand  13955.3266  ANNUAL       2075             3026   \n",
       "5   Agricultural Demand  14123.2920  ANNUAL       2080             3026   \n",
       "4   Agricultural Demand  14366.8094  ANNUAL       2085             3026   \n",
       "3   Agricultural Demand  14608.1744  ANNUAL       2090             3026   \n",
       "2   Agricultural Demand  14821.4654  ANNUAL       2095             3026   \n",
       "1   Agricultural Demand  15016.6037  ANNUAL       2100             3026   \n",
       "33  Agricultural Demand   2729.9307  ANNUAL       2010             6273   \n",
       "30  Agricultural Demand   3179.6320  ANNUAL       2015             6273   \n",
       "28  Agricultural Demand   3515.3886  ANNUAL       2020             6273   \n",
       "32  Agricultural Demand   3804.1290  ANNUAL       2025             6273   \n",
       "37  Agricultural Demand   4010.6738  ANNUAL       2030             6273   \n",
       "34  Agricultural Demand   4183.8337  ANNUAL       2035             6273   \n",
       "35  Agricultural Demand   4606.4657  ANNUAL       2040             6273   \n",
       "36  Agricultural Demand   4939.7593  ANNUAL       2045             6273   \n",
       "29  Agricultural Demand   5335.8710  ANNUAL       2050             6273   \n",
       "31  Agricultural Demand   5930.2197  ANNUAL       2055             6273   \n",
       "27  Agricultural Demand   7991.7996  ANNUAL       2060             6273   \n",
       "19  Agricultural Demand  10099.3497  ANNUAL       2065             6273   \n",
       "26  Agricultural Demand  11071.2490  ANNUAL       2070             6273   \n",
       "25  Agricultural Demand  11369.7467  ANNUAL       2075             6273   \n",
       "24  Agricultural Demand  11617.7021  ANNUAL       2080             6273   \n",
       "23  Agricultural Demand  11832.8619  ANNUAL       2085             6273   \n",
       "22  Agricultural Demand  12038.7949  ANNUAL       2090             6273   \n",
       "21  Agricultural Demand  12201.0249  ANNUAL       2095             6273   \n",
       "20  Agricultural Demand  12299.2161  ANNUAL       2100             6273   \n",
       "\n",
       "        id  \n",
       "14   57490  \n",
       "11   57487  \n",
       "9    57485  \n",
       "13   57489  \n",
       "18   57494  \n",
       "15   57491  \n",
       "16   57492  \n",
       "17   57493  \n",
       "10   57486  \n",
       "12   57488  \n",
       "8    57484  \n",
       "0    57476  \n",
       "7    57483  \n",
       "6    57482  \n",
       "5    57481  \n",
       "4    57480  \n",
       "3    57479  \n",
       "2    57478  \n",
       "1    57477  \n",
       "33  119183  \n",
       "30  119180  \n",
       "28  119178  \n",
       "32  119182  \n",
       "37  119187  \n",
       "34  119184  \n",
       "35  119185  \n",
       "36  119186  \n",
       "29  119179  \n",
       "31  119181  \n",
       "27  119177  \n",
       "19  119169  \n",
       "26  119176  \n",
       "25  119175  \n",
       "24  119174  \n",
       "23  119173  \n",
       "22  119172  \n",
       "21  119171  \n",
       "20  119170  "
      ],
      "text/html": [
       "<div>\n",
       "<style scoped>\n",
       "    .dataframe tbody tr th:only-of-type {\n",
       "        vertical-align: middle;\n",
       "    }\n",
       "\n",
       "    .dataframe tbody tr th {\n",
       "        vertical-align: top;\n",
       "    }\n",
       "\n",
       "    .dataframe thead th {\n",
       "        text-align: right;\n",
       "    }\n",
       "</style>\n",
       "<table border=\"1\" class=\"dataframe\">\n",
       "  <thead>\n",
       "    <tr style=\"text-align: right;\">\n",
       "      <th></th>\n",
       "      <th>model</th>\n",
       "      <th>scenario</th>\n",
       "      <th>version</th>\n",
       "      <th>region</th>\n",
       "      <th>unit</th>\n",
       "      <th>variable</th>\n",
       "      <th>value</th>\n",
       "      <th>type</th>\n",
       "      <th>step_year</th>\n",
       "      <th>time_series__id</th>\n",
       "      <th>id</th>\n",
       "    </tr>\n",
       "  </thead>\n",
       "  <tbody>\n",
       "    <tr>\n",
       "      <th>14</th>\n",
       "      <td>AIM/CGE V2.2</td>\n",
       "      <td>ENGAGE-INDCi2030-1000f</td>\n",
       "      <td>1</td>\n",
       "      <td>World</td>\n",
       "      <td>million t DM/yr</td>\n",
       "      <td>Agricultural Demand</td>\n",
       "      <td>2729.9307</td>\n",
       "      <td>ANNUAL</td>\n",
       "      <td>2010</td>\n",
       "      <td>3026</td>\n",
       "      <td>57490</td>\n",
       "    </tr>\n",
       "    <tr>\n",
       "      <th>11</th>\n",
       "      <td>AIM/CGE V2.2</td>\n",
       "      <td>ENGAGE-INDCi2030-1000f</td>\n",
       "      <td>1</td>\n",
       "      <td>World</td>\n",
       "      <td>million t DM/yr</td>\n",
       "      <td>Agricultural Demand</td>\n",
       "      <td>3179.6320</td>\n",
       "      <td>ANNUAL</td>\n",
       "      <td>2015</td>\n",
       "      <td>3026</td>\n",
       "      <td>57487</td>\n",
       "    </tr>\n",
       "    <tr>\n",
       "      <th>9</th>\n",
       "      <td>AIM/CGE V2.2</td>\n",
       "      <td>ENGAGE-INDCi2030-1000f</td>\n",
       "      <td>1</td>\n",
       "      <td>World</td>\n",
       "      <td>million t DM/yr</td>\n",
       "      <td>Agricultural Demand</td>\n",
       "      <td>3515.3886</td>\n",
       "      <td>ANNUAL</td>\n",
       "      <td>2020</td>\n",
       "      <td>3026</td>\n",
       "      <td>57485</td>\n",
       "    </tr>\n",
       "    <tr>\n",
       "      <th>13</th>\n",
       "      <td>AIM/CGE V2.2</td>\n",
       "      <td>ENGAGE-INDCi2030-1000f</td>\n",
       "      <td>1</td>\n",
       "      <td>World</td>\n",
       "      <td>million t DM/yr</td>\n",
       "      <td>Agricultural Demand</td>\n",
       "      <td>3804.1290</td>\n",
       "      <td>ANNUAL</td>\n",
       "      <td>2025</td>\n",
       "      <td>3026</td>\n",
       "      <td>57489</td>\n",
       "    </tr>\n",
       "    <tr>\n",
       "      <th>18</th>\n",
       "      <td>AIM/CGE V2.2</td>\n",
       "      <td>ENGAGE-INDCi2030-1000f</td>\n",
       "      <td>1</td>\n",
       "      <td>World</td>\n",
       "      <td>million t DM/yr</td>\n",
       "      <td>Agricultural Demand</td>\n",
       "      <td>4010.6738</td>\n",
       "      <td>ANNUAL</td>\n",
       "      <td>2030</td>\n",
       "      <td>3026</td>\n",
       "      <td>57494</td>\n",
       "    </tr>\n",
       "    <tr>\n",
       "      <th>15</th>\n",
       "      <td>AIM/CGE V2.2</td>\n",
       "      <td>ENGAGE-INDCi2030-1000f</td>\n",
       "      <td>1</td>\n",
       "      <td>World</td>\n",
       "      <td>million t DM/yr</td>\n",
       "      <td>Agricultural Demand</td>\n",
       "      <td>4183.8337</td>\n",
       "      <td>ANNUAL</td>\n",
       "      <td>2035</td>\n",
       "      <td>3026</td>\n",
       "      <td>57491</td>\n",
       "    </tr>\n",
       "    <tr>\n",
       "      <th>16</th>\n",
       "      <td>AIM/CGE V2.2</td>\n",
       "      <td>ENGAGE-INDCi2030-1000f</td>\n",
       "      <td>1</td>\n",
       "      <td>World</td>\n",
       "      <td>million t DM/yr</td>\n",
       "      <td>Agricultural Demand</td>\n",
       "      <td>4621.8576</td>\n",
       "      <td>ANNUAL</td>\n",
       "      <td>2040</td>\n",
       "      <td>3026</td>\n",
       "      <td>57492</td>\n",
       "    </tr>\n",
       "    <tr>\n",
       "      <th>17</th>\n",
       "      <td>AIM/CGE V2.2</td>\n",
       "      <td>ENGAGE-INDCi2030-1000f</td>\n",
       "      <td>1</td>\n",
       "      <td>World</td>\n",
       "      <td>million t DM/yr</td>\n",
       "      <td>Agricultural Demand</td>\n",
       "      <td>5003.9216</td>\n",
       "      <td>ANNUAL</td>\n",
       "      <td>2045</td>\n",
       "      <td>3026</td>\n",
       "      <td>57493</td>\n",
       "    </tr>\n",
       "    <tr>\n",
       "      <th>10</th>\n",
       "      <td>AIM/CGE V2.2</td>\n",
       "      <td>ENGAGE-INDCi2030-1000f</td>\n",
       "      <td>1</td>\n",
       "      <td>World</td>\n",
       "      <td>million t DM/yr</td>\n",
       "      <td>Agricultural Demand</td>\n",
       "      <td>5362.0102</td>\n",
       "      <td>ANNUAL</td>\n",
       "      <td>2050</td>\n",
       "      <td>3026</td>\n",
       "      <td>57486</td>\n",
       "    </tr>\n",
       "    <tr>\n",
       "      <th>12</th>\n",
       "      <td>AIM/CGE V2.2</td>\n",
       "      <td>ENGAGE-INDCi2030-1000f</td>\n",
       "      <td>1</td>\n",
       "      <td>World</td>\n",
       "      <td>million t DM/yr</td>\n",
       "      <td>Agricultural Demand</td>\n",
       "      <td>6090.5268</td>\n",
       "      <td>ANNUAL</td>\n",
       "      <td>2055</td>\n",
       "      <td>3026</td>\n",
       "      <td>57488</td>\n",
       "    </tr>\n",
       "    <tr>\n",
       "      <th>8</th>\n",
       "      <td>AIM/CGE V2.2</td>\n",
       "      <td>ENGAGE-INDCi2030-1000f</td>\n",
       "      <td>1</td>\n",
       "      <td>World</td>\n",
       "      <td>million t DM/yr</td>\n",
       "      <td>Agricultural Demand</td>\n",
       "      <td>8152.3066</td>\n",
       "      <td>ANNUAL</td>\n",
       "      <td>2060</td>\n",
       "      <td>3026</td>\n",
       "      <td>57484</td>\n",
       "    </tr>\n",
       "    <tr>\n",
       "      <th>0</th>\n",
       "      <td>AIM/CGE V2.2</td>\n",
       "      <td>ENGAGE-INDCi2030-1000f</td>\n",
       "      <td>1</td>\n",
       "      <td>World</td>\n",
       "      <td>million t DM/yr</td>\n",
       "      <td>Agricultural Demand</td>\n",
       "      <td>10369.6479</td>\n",
       "      <td>ANNUAL</td>\n",
       "      <td>2065</td>\n",
       "      <td>3026</td>\n",
       "      <td>57476</td>\n",
       "    </tr>\n",
       "    <tr>\n",
       "      <th>7</th>\n",
       "      <td>AIM/CGE V2.2</td>\n",
       "      <td>ENGAGE-INDCi2030-1000f</td>\n",
       "      <td>1</td>\n",
       "      <td>World</td>\n",
       "      <td>million t DM/yr</td>\n",
       "      <td>Agricultural Demand</td>\n",
       "      <td>12301.7437</td>\n",
       "      <td>ANNUAL</td>\n",
       "      <td>2070</td>\n",
       "      <td>3026</td>\n",
       "      <td>57483</td>\n",
       "    </tr>\n",
       "    <tr>\n",
       "      <th>6</th>\n",
       "      <td>AIM/CGE V2.2</td>\n",
       "      <td>ENGAGE-INDCi2030-1000f</td>\n",
       "      <td>1</td>\n",
       "      <td>World</td>\n",
       "      <td>million t DM/yr</td>\n",
       "      <td>Agricultural Demand</td>\n",
       "      <td>13955.3266</td>\n",
       "      <td>ANNUAL</td>\n",
       "      <td>2075</td>\n",
       "      <td>3026</td>\n",
       "      <td>57482</td>\n",
       "    </tr>\n",
       "    <tr>\n",
       "      <th>5</th>\n",
       "      <td>AIM/CGE V2.2</td>\n",
       "      <td>ENGAGE-INDCi2030-1000f</td>\n",
       "      <td>1</td>\n",
       "      <td>World</td>\n",
       "      <td>million t DM/yr</td>\n",
       "      <td>Agricultural Demand</td>\n",
       "      <td>14123.2920</td>\n",
       "      <td>ANNUAL</td>\n",
       "      <td>2080</td>\n",
       "      <td>3026</td>\n",
       "      <td>57481</td>\n",
       "    </tr>\n",
       "    <tr>\n",
       "      <th>4</th>\n",
       "      <td>AIM/CGE V2.2</td>\n",
       "      <td>ENGAGE-INDCi2030-1000f</td>\n",
       "      <td>1</td>\n",
       "      <td>World</td>\n",
       "      <td>million t DM/yr</td>\n",
       "      <td>Agricultural Demand</td>\n",
       "      <td>14366.8094</td>\n",
       "      <td>ANNUAL</td>\n",
       "      <td>2085</td>\n",
       "      <td>3026</td>\n",
       "      <td>57480</td>\n",
       "    </tr>\n",
       "    <tr>\n",
       "      <th>3</th>\n",
       "      <td>AIM/CGE V2.2</td>\n",
       "      <td>ENGAGE-INDCi2030-1000f</td>\n",
       "      <td>1</td>\n",
       "      <td>World</td>\n",
       "      <td>million t DM/yr</td>\n",
       "      <td>Agricultural Demand</td>\n",
       "      <td>14608.1744</td>\n",
       "      <td>ANNUAL</td>\n",
       "      <td>2090</td>\n",
       "      <td>3026</td>\n",
       "      <td>57479</td>\n",
       "    </tr>\n",
       "    <tr>\n",
       "      <th>2</th>\n",
       "      <td>AIM/CGE V2.2</td>\n",
       "      <td>ENGAGE-INDCi2030-1000f</td>\n",
       "      <td>1</td>\n",
       "      <td>World</td>\n",
       "      <td>million t DM/yr</td>\n",
       "      <td>Agricultural Demand</td>\n",
       "      <td>14821.4654</td>\n",
       "      <td>ANNUAL</td>\n",
       "      <td>2095</td>\n",
       "      <td>3026</td>\n",
       "      <td>57478</td>\n",
       "    </tr>\n",
       "    <tr>\n",
       "      <th>1</th>\n",
       "      <td>AIM/CGE V2.2</td>\n",
       "      <td>ENGAGE-INDCi2030-1000f</td>\n",
       "      <td>1</td>\n",
       "      <td>World</td>\n",
       "      <td>million t DM/yr</td>\n",
       "      <td>Agricultural Demand</td>\n",
       "      <td>15016.6037</td>\n",
       "      <td>ANNUAL</td>\n",
       "      <td>2100</td>\n",
       "      <td>3026</td>\n",
       "      <td>57477</td>\n",
       "    </tr>\n",
       "    <tr>\n",
       "      <th>33</th>\n",
       "      <td>AIM/CGE V2.2</td>\n",
       "      <td>ENGAGE-INDCi2030-1200</td>\n",
       "      <td>1</td>\n",
       "      <td>World</td>\n",
       "      <td>million t DM/yr</td>\n",
       "      <td>Agricultural Demand</td>\n",
       "      <td>2729.9307</td>\n",
       "      <td>ANNUAL</td>\n",
       "      <td>2010</td>\n",
       "      <td>6273</td>\n",
       "      <td>119183</td>\n",
       "    </tr>\n",
       "    <tr>\n",
       "      <th>30</th>\n",
       "      <td>AIM/CGE V2.2</td>\n",
       "      <td>ENGAGE-INDCi2030-1200</td>\n",
       "      <td>1</td>\n",
       "      <td>World</td>\n",
       "      <td>million t DM/yr</td>\n",
       "      <td>Agricultural Demand</td>\n",
       "      <td>3179.6320</td>\n",
       "      <td>ANNUAL</td>\n",
       "      <td>2015</td>\n",
       "      <td>6273</td>\n",
       "      <td>119180</td>\n",
       "    </tr>\n",
       "    <tr>\n",
       "      <th>28</th>\n",
       "      <td>AIM/CGE V2.2</td>\n",
       "      <td>ENGAGE-INDCi2030-1200</td>\n",
       "      <td>1</td>\n",
       "      <td>World</td>\n",
       "      <td>million t DM/yr</td>\n",
       "      <td>Agricultural Demand</td>\n",
       "      <td>3515.3886</td>\n",
       "      <td>ANNUAL</td>\n",
       "      <td>2020</td>\n",
       "      <td>6273</td>\n",
       "      <td>119178</td>\n",
       "    </tr>\n",
       "    <tr>\n",
       "      <th>32</th>\n",
       "      <td>AIM/CGE V2.2</td>\n",
       "      <td>ENGAGE-INDCi2030-1200</td>\n",
       "      <td>1</td>\n",
       "      <td>World</td>\n",
       "      <td>million t DM/yr</td>\n",
       "      <td>Agricultural Demand</td>\n",
       "      <td>3804.1290</td>\n",
       "      <td>ANNUAL</td>\n",
       "      <td>2025</td>\n",
       "      <td>6273</td>\n",
       "      <td>119182</td>\n",
       "    </tr>\n",
       "    <tr>\n",
       "      <th>37</th>\n",
       "      <td>AIM/CGE V2.2</td>\n",
       "      <td>ENGAGE-INDCi2030-1200</td>\n",
       "      <td>1</td>\n",
       "      <td>World</td>\n",
       "      <td>million t DM/yr</td>\n",
       "      <td>Agricultural Demand</td>\n",
       "      <td>4010.6738</td>\n",
       "      <td>ANNUAL</td>\n",
       "      <td>2030</td>\n",
       "      <td>6273</td>\n",
       "      <td>119187</td>\n",
       "    </tr>\n",
       "    <tr>\n",
       "      <th>34</th>\n",
       "      <td>AIM/CGE V2.2</td>\n",
       "      <td>ENGAGE-INDCi2030-1200</td>\n",
       "      <td>1</td>\n",
       "      <td>World</td>\n",
       "      <td>million t DM/yr</td>\n",
       "      <td>Agricultural Demand</td>\n",
       "      <td>4183.8337</td>\n",
       "      <td>ANNUAL</td>\n",
       "      <td>2035</td>\n",
       "      <td>6273</td>\n",
       "      <td>119184</td>\n",
       "    </tr>\n",
       "    <tr>\n",
       "      <th>35</th>\n",
       "      <td>AIM/CGE V2.2</td>\n",
       "      <td>ENGAGE-INDCi2030-1200</td>\n",
       "      <td>1</td>\n",
       "      <td>World</td>\n",
       "      <td>million t DM/yr</td>\n",
       "      <td>Agricultural Demand</td>\n",
       "      <td>4606.4657</td>\n",
       "      <td>ANNUAL</td>\n",
       "      <td>2040</td>\n",
       "      <td>6273</td>\n",
       "      <td>119185</td>\n",
       "    </tr>\n",
       "    <tr>\n",
       "      <th>36</th>\n",
       "      <td>AIM/CGE V2.2</td>\n",
       "      <td>ENGAGE-INDCi2030-1200</td>\n",
       "      <td>1</td>\n",
       "      <td>World</td>\n",
       "      <td>million t DM/yr</td>\n",
       "      <td>Agricultural Demand</td>\n",
       "      <td>4939.7593</td>\n",
       "      <td>ANNUAL</td>\n",
       "      <td>2045</td>\n",
       "      <td>6273</td>\n",
       "      <td>119186</td>\n",
       "    </tr>\n",
       "    <tr>\n",
       "      <th>29</th>\n",
       "      <td>AIM/CGE V2.2</td>\n",
       "      <td>ENGAGE-INDCi2030-1200</td>\n",
       "      <td>1</td>\n",
       "      <td>World</td>\n",
       "      <td>million t DM/yr</td>\n",
       "      <td>Agricultural Demand</td>\n",
       "      <td>5335.8710</td>\n",
       "      <td>ANNUAL</td>\n",
       "      <td>2050</td>\n",
       "      <td>6273</td>\n",
       "      <td>119179</td>\n",
       "    </tr>\n",
       "    <tr>\n",
       "      <th>31</th>\n",
       "      <td>AIM/CGE V2.2</td>\n",
       "      <td>ENGAGE-INDCi2030-1200</td>\n",
       "      <td>1</td>\n",
       "      <td>World</td>\n",
       "      <td>million t DM/yr</td>\n",
       "      <td>Agricultural Demand</td>\n",
       "      <td>5930.2197</td>\n",
       "      <td>ANNUAL</td>\n",
       "      <td>2055</td>\n",
       "      <td>6273</td>\n",
       "      <td>119181</td>\n",
       "    </tr>\n",
       "    <tr>\n",
       "      <th>27</th>\n",
       "      <td>AIM/CGE V2.2</td>\n",
       "      <td>ENGAGE-INDCi2030-1200</td>\n",
       "      <td>1</td>\n",
       "      <td>World</td>\n",
       "      <td>million t DM/yr</td>\n",
       "      <td>Agricultural Demand</td>\n",
       "      <td>7991.7996</td>\n",
       "      <td>ANNUAL</td>\n",
       "      <td>2060</td>\n",
       "      <td>6273</td>\n",
       "      <td>119177</td>\n",
       "    </tr>\n",
       "    <tr>\n",
       "      <th>19</th>\n",
       "      <td>AIM/CGE V2.2</td>\n",
       "      <td>ENGAGE-INDCi2030-1200</td>\n",
       "      <td>1</td>\n",
       "      <td>World</td>\n",
       "      <td>million t DM/yr</td>\n",
       "      <td>Agricultural Demand</td>\n",
       "      <td>10099.3497</td>\n",
       "      <td>ANNUAL</td>\n",
       "      <td>2065</td>\n",
       "      <td>6273</td>\n",
       "      <td>119169</td>\n",
       "    </tr>\n",
       "    <tr>\n",
       "      <th>26</th>\n",
       "      <td>AIM/CGE V2.2</td>\n",
       "      <td>ENGAGE-INDCi2030-1200</td>\n",
       "      <td>1</td>\n",
       "      <td>World</td>\n",
       "      <td>million t DM/yr</td>\n",
       "      <td>Agricultural Demand</td>\n",
       "      <td>11071.2490</td>\n",
       "      <td>ANNUAL</td>\n",
       "      <td>2070</td>\n",
       "      <td>6273</td>\n",
       "      <td>119176</td>\n",
       "    </tr>\n",
       "    <tr>\n",
       "      <th>25</th>\n",
       "      <td>AIM/CGE V2.2</td>\n",
       "      <td>ENGAGE-INDCi2030-1200</td>\n",
       "      <td>1</td>\n",
       "      <td>World</td>\n",
       "      <td>million t DM/yr</td>\n",
       "      <td>Agricultural Demand</td>\n",
       "      <td>11369.7467</td>\n",
       "      <td>ANNUAL</td>\n",
       "      <td>2075</td>\n",
       "      <td>6273</td>\n",
       "      <td>119175</td>\n",
       "    </tr>\n",
       "    <tr>\n",
       "      <th>24</th>\n",
       "      <td>AIM/CGE V2.2</td>\n",
       "      <td>ENGAGE-INDCi2030-1200</td>\n",
       "      <td>1</td>\n",
       "      <td>World</td>\n",
       "      <td>million t DM/yr</td>\n",
       "      <td>Agricultural Demand</td>\n",
       "      <td>11617.7021</td>\n",
       "      <td>ANNUAL</td>\n",
       "      <td>2080</td>\n",
       "      <td>6273</td>\n",
       "      <td>119174</td>\n",
       "    </tr>\n",
       "    <tr>\n",
       "      <th>23</th>\n",
       "      <td>AIM/CGE V2.2</td>\n",
       "      <td>ENGAGE-INDCi2030-1200</td>\n",
       "      <td>1</td>\n",
       "      <td>World</td>\n",
       "      <td>million t DM/yr</td>\n",
       "      <td>Agricultural Demand</td>\n",
       "      <td>11832.8619</td>\n",
       "      <td>ANNUAL</td>\n",
       "      <td>2085</td>\n",
       "      <td>6273</td>\n",
       "      <td>119173</td>\n",
       "    </tr>\n",
       "    <tr>\n",
       "      <th>22</th>\n",
       "      <td>AIM/CGE V2.2</td>\n",
       "      <td>ENGAGE-INDCi2030-1200</td>\n",
       "      <td>1</td>\n",
       "      <td>World</td>\n",
       "      <td>million t DM/yr</td>\n",
       "      <td>Agricultural Demand</td>\n",
       "      <td>12038.7949</td>\n",
       "      <td>ANNUAL</td>\n",
       "      <td>2090</td>\n",
       "      <td>6273</td>\n",
       "      <td>119172</td>\n",
       "    </tr>\n",
       "    <tr>\n",
       "      <th>21</th>\n",
       "      <td>AIM/CGE V2.2</td>\n",
       "      <td>ENGAGE-INDCi2030-1200</td>\n",
       "      <td>1</td>\n",
       "      <td>World</td>\n",
       "      <td>million t DM/yr</td>\n",
       "      <td>Agricultural Demand</td>\n",
       "      <td>12201.0249</td>\n",
       "      <td>ANNUAL</td>\n",
       "      <td>2095</td>\n",
       "      <td>6273</td>\n",
       "      <td>119171</td>\n",
       "    </tr>\n",
       "    <tr>\n",
       "      <th>20</th>\n",
       "      <td>AIM/CGE V2.2</td>\n",
       "      <td>ENGAGE-INDCi2030-1200</td>\n",
       "      <td>1</td>\n",
       "      <td>World</td>\n",
       "      <td>million t DM/yr</td>\n",
       "      <td>Agricultural Demand</td>\n",
       "      <td>12299.2161</td>\n",
       "      <td>ANNUAL</td>\n",
       "      <td>2100</td>\n",
       "      <td>6273</td>\n",
       "      <td>119170</td>\n",
       "    </tr>\n",
       "  </tbody>\n",
       "</table>\n",
       "</div>"
      ]
     },
     "execution_count": 15,
     "metadata": {},
     "output_type": "execute_result"
    }
   ],
   "execution_count": 15
  },
  {
   "cell_type": "markdown",
   "metadata": {},
   "source": [
    "### Visualization exploration\n",
    "\n",
    "This section will focus on some variables to explore possible visualizations that can be done with the data."
   ]
  },
  {
   "cell_type": "code",
   "execution_count": 12,
   "metadata": {},
   "outputs": [],
   "source": [
    "def reshape_summary_data(df):\n",
    "    \"\"\"\n",
    "    Reshape the summary data to a long format.\n",
    "    \"\"\"\n",
    "    columns = df.columns.values\n",
    "    data = df.copy().assign(variables=df.index).reset_index()\n",
    "    return data.melt(\n",
    "        id_vars=[\"variables\"],\n",
    "        value_vars=columns,\n",
    "        var_name=\"year\",\n",
    "        value_name=\"value\",\n",
    "    ).dropna()"
   ]
  },
  {
   "cell_type": "code",
   "execution_count": null,
   "metadata": {},
   "outputs": [],
   "source": [
    "def filters_by_reasons_of_concern(reasons_of_concern):\n",
    "    \"\"\"\n",
    "    Generate filters to fecth scenarios by reasons of concern.\n",
    "    \"\"\"\n",
    "    filters_body = []\n",
    "    filters_meta = []\n",
    "    for reason in reasons_of_concern:\n",
    "        if reason == \"Peak Warming\":\n",
    "            filters_body.append({\"key\": \"Peak Warming\", \"value__isnull\": False})\n",
    "\n",
    "    return filters_body, filters_meta\n",
    "\n",
    "\n",
    "def build_criterias():\n",
    "    return None\n",
    "\n",
    "\n",
    "def get_data_for_variables_and_regions(variables, regions, reasons_of_concern=None):\n",
    "    \"\"\"\n",
    "    Get scenarios for a specific variable and region.\n",
    "    \"\"\"\n",
    "    body = {\n",
    "        \"variable\": {\"name__in\": variables},\n",
    "        \"region\": {\"name__in\": regions},\n",
    "    }\n",
    "\n",
    "    if reasons_of_concern:\n",
    "        filters_body, filters_meta = filters_by_reasons_of_concern(reasons_of_concern)\n",
    "        body.update({\"meta\": {\"key__in\": [f[\"key\"] for f in filters_body]}})\n",
    "\n",
    "    metaindicators = create_df_from_api_response(\n",
    "        client.get_data(\n",
    "            \"meta/\",\n",
    "            params={\"join_run_index\": \"true\", \"table\": \"true\"},\n",
    "            body={\"run\": {\"default_only\": False}},\n",
    "        )\n",
    "    )\n",
    "\n",
    "    return create_iamdf(\n",
    "        create_df_from_api_response(\n",
    "            client.get_data(\n",
    "                \"iamc/datapoints/\",\n",
    "                params={\"join_parameters\": \"true\", \"join_runs\": \"true\", \"table\": \"true\"},\n",
    "                body=body,\n",
    "            )\n",
    "        ),\n",
    "        metaindicators=metaindicators,\n",
    "    )"
   ]
  },
  {
   "cell_type": "code",
   "execution_count": null,
   "metadata": {},
   "outputs": [
    {
     "data": {
      "application/vnd.microsoft.datawrangler.viewer.v0+json": {
       "columns": [
        {
         "name": "('model', 'scenario')",
         "rawType": "object",
         "type": "unknown"
        },
        {
         "name": "version",
         "rawType": "int64",
         "type": "integer"
        },
        {
         "name": "key",
         "rawType": "object",
         "type": "string"
        },
        {
         "name": "id",
         "rawType": "int64",
         "type": "integer"
        },
        {
         "name": "value",
         "rawType": "object",
         "type": "unknown"
        },
        {
         "name": "type",
         "rawType": "object",
         "type": "string"
        }
       ],
       "ref": "1a61c326-ee85-4683-aaeb-173e9ff34e1b",
       "rows": [
        [
         "('AIM/CGE V2.2', 'ENGAGE-INDCi2030-1000f')",
         "1",
         "Project",
         "1",
         "H2020 ENGAGE",
         "STR"
        ],
        [
         "('AIM/CGE V2.2', 'ENGAGE-INDCi2030-1000f')",
         "1",
         "Scientific Manuscript (Citation)",
         "2",
         "Riahi et al. (2021)",
         "STR"
        ],
        [
         "('AIM/CGE V2.2', 'ENGAGE-INDCi2030-1000f')",
         "1",
         "Scientific Manuscript (DOI)",
         "3",
         "10.1038/s41558-021-01215-2",
         "STR"
        ],
        [
         "('AIM/CGE V2.2', 'ENGAGE-INDCi2030-1000f')",
         "1",
         "Data Source (DOI)",
         "4",
         "10.5281/zenodo.5553976",
         "STR"
        ],
        [
         "('AIM/CGE V2.2', 'ENGAGE-INDCi2030-1200')",
         "1",
         "Project",
         "5",
         "H2020 ENGAGE",
         "STR"
        ],
        [
         "('AIM/CGE V2.2', 'ENGAGE-INDCi2030-1200')",
         "1",
         "Scientific Manuscript (Citation)",
         "6",
         "Riahi et al. (2021)",
         "STR"
        ],
        [
         "('AIM/CGE V2.2', 'ENGAGE-INDCi2030-1200')",
         "1",
         "Scientific Manuscript (DOI)",
         "7",
         "10.1038/s41558-021-01215-2",
         "STR"
        ],
        [
         "('AIM/CGE V2.2', 'ENGAGE-INDCi2030-1200')",
         "1",
         "Data Source (DOI)",
         "8",
         "10.5281/zenodo.5553976",
         "STR"
        ],
        [
         "('AIM/CGE V2.2', 'ENGAGE-INDCi2030-1200f')",
         "1",
         "Project",
         "9",
         "H2020 ENGAGE",
         "STR"
        ],
        [
         "('AIM/CGE V2.2', 'ENGAGE-INDCi2030-1200f')",
         "1",
         "Scientific Manuscript (Citation)",
         "10",
         "Riahi et al. (2021)",
         "STR"
        ],
        [
         "('AIM/CGE V2.2', 'ENGAGE-INDCi2030-1200f')",
         "1",
         "Scientific Manuscript (DOI)",
         "11",
         "10.1038/s41558-021-01215-2",
         "STR"
        ],
        [
         "('AIM/CGE V2.2', 'ENGAGE-INDCi2030-1200f')",
         "1",
         "Data Source (DOI)",
         "12",
         "10.5281/zenodo.5553976",
         "STR"
        ],
        [
         "('AIM/CGE V2.2', 'ENGAGE-INDCi2030-1400')",
         "1",
         "Project",
         "13",
         "H2020 ENGAGE",
         "STR"
        ],
        [
         "('AIM/CGE V2.2', 'ENGAGE-INDCi2030-1400')",
         "1",
         "Scientific Manuscript (Citation)",
         "14",
         "Riahi et al. (2021)",
         "STR"
        ],
        [
         "('AIM/CGE V2.2', 'ENGAGE-INDCi2030-1400')",
         "1",
         "Scientific Manuscript (DOI)",
         "15",
         "10.1038/s41558-021-01215-2",
         "STR"
        ],
        [
         "('AIM/CGE V2.2', 'ENGAGE-INDCi2030-1400')",
         "1",
         "Data Source (DOI)",
         "16",
         "10.5281/zenodo.5553976",
         "STR"
        ],
        [
         "('AIM/CGE V2.2', 'ENGAGE-INDCi2030-1400f')",
         "1",
         "Project",
         "17",
         "H2020 ENGAGE",
         "STR"
        ],
        [
         "('AIM/CGE V2.2', 'ENGAGE-INDCi2030-1400f')",
         "1",
         "Scientific Manuscript (Citation)",
         "18",
         "Riahi et al. (2021)",
         "STR"
        ],
        [
         "('AIM/CGE V2.2', 'ENGAGE-INDCi2030-1400f')",
         "1",
         "Scientific Manuscript (DOI)",
         "19",
         "10.1038/s41558-021-01215-2",
         "STR"
        ],
        [
         "('AIM/CGE V2.2', 'ENGAGE-INDCi2030-1400f')",
         "1",
         "Data Source (DOI)",
         "20",
         "10.5281/zenodo.5553976",
         "STR"
        ],
        [
         "('AIM/CGE V2.2', 'ENGAGE-INDCi2030-1600')",
         "1",
         "Project",
         "21",
         "H2020 ENGAGE",
         "STR"
        ],
        [
         "('AIM/CGE V2.2', 'ENGAGE-INDCi2030-1600')",
         "1",
         "Scientific Manuscript (Citation)",
         "22",
         "Riahi et al. (2021)",
         "STR"
        ],
        [
         "('AIM/CGE V2.2', 'ENGAGE-INDCi2030-1600')",
         "1",
         "Scientific Manuscript (DOI)",
         "23",
         "10.1038/s41558-021-01215-2",
         "STR"
        ],
        [
         "('AIM/CGE V2.2', 'ENGAGE-INDCi2030-1600')",
         "1",
         "Data Source (DOI)",
         "24",
         "10.5281/zenodo.5553976",
         "STR"
        ],
        [
         "('AIM/CGE V2.2', 'ENGAGE-INDCi2030-1600f')",
         "1",
         "Project",
         "25",
         "H2020 ENGAGE",
         "STR"
        ],
        [
         "('AIM/CGE V2.2', 'ENGAGE-INDCi2030-1600f')",
         "1",
         "Scientific Manuscript (Citation)",
         "26",
         "Riahi et al. (2021)",
         "STR"
        ],
        [
         "('AIM/CGE V2.2', 'ENGAGE-INDCi2030-1600f')",
         "1",
         "Scientific Manuscript (DOI)",
         "27",
         "10.1038/s41558-021-01215-2",
         "STR"
        ],
        [
         "('AIM/CGE V2.2', 'ENGAGE-INDCi2030-1600f')",
         "1",
         "Data Source (DOI)",
         "28",
         "10.5281/zenodo.5553976",
         "STR"
        ],
        [
         "('AIM/CGE V2.2', 'ENGAGE-INDCi2030-1800')",
         "1",
         "Project",
         "29",
         "H2020 ENGAGE",
         "STR"
        ],
        [
         "('AIM/CGE V2.2', 'ENGAGE-INDCi2030-1800')",
         "1",
         "Scientific Manuscript (Citation)",
         "30",
         "Riahi et al. (2021)",
         "STR"
        ],
        [
         "('AIM/CGE V2.2', 'ENGAGE-INDCi2030-1800')",
         "1",
         "Scientific Manuscript (DOI)",
         "31",
         "10.1038/s41558-021-01215-2",
         "STR"
        ],
        [
         "('AIM/CGE V2.2', 'ENGAGE-INDCi2030-1800')",
         "1",
         "Data Source (DOI)",
         "32",
         "10.5281/zenodo.5553976",
         "STR"
        ],
        [
         "('AIM/CGE V2.2', 'ENGAGE-INDCi2030-1800f')",
         "1",
         "Project",
         "33",
         "H2020 ENGAGE",
         "STR"
        ],
        [
         "('AIM/CGE V2.2', 'ENGAGE-INDCi2030-1800f')",
         "1",
         "Scientific Manuscript (Citation)",
         "34",
         "Riahi et al. (2021)",
         "STR"
        ],
        [
         "('AIM/CGE V2.2', 'ENGAGE-INDCi2030-1800f')",
         "1",
         "Scientific Manuscript (DOI)",
         "35",
         "10.1038/s41558-021-01215-2",
         "STR"
        ],
        [
         "('AIM/CGE V2.2', 'ENGAGE-INDCi2030-1800f')",
         "1",
         "Data Source (DOI)",
         "36",
         "10.5281/zenodo.5553976",
         "STR"
        ],
        [
         "('AIM/CGE V2.2', 'ENGAGE-INDCi2030-800f')",
         "1",
         "Project",
         "37",
         "H2020 ENGAGE",
         "STR"
        ],
        [
         "('AIM/CGE V2.2', 'ENGAGE-INDCi2030-800f')",
         "1",
         "Scientific Manuscript (Citation)",
         "38",
         "Riahi et al. (2021)",
         "STR"
        ],
        [
         "('AIM/CGE V2.2', 'ENGAGE-INDCi2030-800f')",
         "1",
         "Scientific Manuscript (DOI)",
         "39",
         "10.1038/s41558-021-01215-2",
         "STR"
        ],
        [
         "('AIM/CGE V2.2', 'ENGAGE-INDCi2030-800f')",
         "1",
         "Data Source (DOI)",
         "40",
         "10.5281/zenodo.5553976",
         "STR"
        ],
        [
         "('AIM/CGE V2.2', 'ENGAGE-INDCi2030-900f')",
         "1",
         "Project",
         "41",
         "H2020 ENGAGE",
         "STR"
        ],
        [
         "('AIM/CGE V2.2', 'ENGAGE-INDCi2030-900f')",
         "1",
         "Scientific Manuscript (Citation)",
         "42",
         "Riahi et al. (2021)",
         "STR"
        ],
        [
         "('AIM/CGE V2.2', 'ENGAGE-INDCi2030-900f')",
         "1",
         "Scientific Manuscript (DOI)",
         "43",
         "10.1038/s41558-021-01215-2",
         "STR"
        ],
        [
         "('AIM/CGE V2.2', 'ENGAGE-INDCi2030-900f')",
         "1",
         "Data Source (DOI)",
         "44",
         "10.5281/zenodo.5553976",
         "STR"
        ],
        [
         "('AIM/CGE V2.2', 'ENGAGE-INDCi2100')",
         "1",
         "Project",
         "45",
         "H2020 ENGAGE",
         "STR"
        ],
        [
         "('AIM/CGE V2.2', 'ENGAGE-INDCi2100')",
         "1",
         "Scientific Manuscript (Citation)",
         "46",
         "Riahi et al. (2021)",
         "STR"
        ],
        [
         "('AIM/CGE V2.2', 'ENGAGE-INDCi2100')",
         "1",
         "Scientific Manuscript (DOI)",
         "47",
         "10.1038/s41558-021-01215-2",
         "STR"
        ],
        [
         "('AIM/CGE V2.2', 'ENGAGE-INDCi2100')",
         "1",
         "Data Source (DOI)",
         "48",
         "10.5281/zenodo.5553976",
         "STR"
        ],
        [
         "('AIM/CGE V2.2', 'ENGAGE-NPi2020-1000')",
         "1",
         "Project",
         "49",
         "H2020 ENGAGE",
         "STR"
        ],
        [
         "('AIM/CGE V2.2', 'ENGAGE-NPi2020-1000')",
         "1",
         "Scientific Manuscript (Citation)",
         "50",
         "Riahi et al. (2021)",
         "STR"
        ]
       ],
       "shape": {
        "columns": 5,
        "rows": 35545
       }
      },
      "text/html": [
       "<div>\n",
       "<style scoped>\n",
       "    .dataframe tbody tr th:only-of-type {\n",
       "        vertical-align: middle;\n",
       "    }\n",
       "\n",
       "    .dataframe tbody tr th {\n",
       "        vertical-align: top;\n",
       "    }\n",
       "\n",
       "    .dataframe thead th {\n",
       "        text-align: right;\n",
       "    }\n",
       "</style>\n",
       "<table border=\"1\" class=\"dataframe\">\n",
       "  <thead>\n",
       "    <tr style=\"text-align: right;\">\n",
       "      <th></th>\n",
       "      <th></th>\n",
       "      <th>version</th>\n",
       "      <th>key</th>\n",
       "      <th>id</th>\n",
       "      <th>value</th>\n",
       "      <th>type</th>\n",
       "    </tr>\n",
       "    <tr>\n",
       "      <th>model</th>\n",
       "      <th>scenario</th>\n",
       "      <th></th>\n",
       "      <th></th>\n",
       "      <th></th>\n",
       "      <th></th>\n",
       "      <th></th>\n",
       "    </tr>\n",
       "  </thead>\n",
       "  <tbody>\n",
       "    <tr>\n",
       "      <th rowspan=\"5\" valign=\"top\">AIM/CGE V2.2</th>\n",
       "      <th>ENGAGE-INDCi2030-1000f</th>\n",
       "      <td>1</td>\n",
       "      <td>Project</td>\n",
       "      <td>1</td>\n",
       "      <td>H2020 ENGAGE</td>\n",
       "      <td>STR</td>\n",
       "    </tr>\n",
       "    <tr>\n",
       "      <th>ENGAGE-INDCi2030-1000f</th>\n",
       "      <td>1</td>\n",
       "      <td>Scientific Manuscript (Citation)</td>\n",
       "      <td>2</td>\n",
       "      <td>Riahi et al. (2021)</td>\n",
       "      <td>STR</td>\n",
       "    </tr>\n",
       "    <tr>\n",
       "      <th>ENGAGE-INDCi2030-1000f</th>\n",
       "      <td>1</td>\n",
       "      <td>Scientific Manuscript (DOI)</td>\n",
       "      <td>3</td>\n",
       "      <td>10.1038/s41558-021-01215-2</td>\n",
       "      <td>STR</td>\n",
       "    </tr>\n",
       "    <tr>\n",
       "      <th>ENGAGE-INDCi2030-1000f</th>\n",
       "      <td>1</td>\n",
       "      <td>Data Source (DOI)</td>\n",
       "      <td>4</td>\n",
       "      <td>10.5281/zenodo.5553976</td>\n",
       "      <td>STR</td>\n",
       "    </tr>\n",
       "    <tr>\n",
       "      <th>ENGAGE-INDCi2030-1200</th>\n",
       "      <td>1</td>\n",
       "      <td>Project</td>\n",
       "      <td>5</td>\n",
       "      <td>H2020 ENGAGE</td>\n",
       "      <td>STR</td>\n",
       "    </tr>\n",
       "    <tr>\n",
       "      <th>...</th>\n",
       "      <th>...</th>\n",
       "      <td>...</td>\n",
       "      <td>...</td>\n",
       "      <td>...</td>\n",
       "      <td>...</td>\n",
       "      <td>...</td>\n",
       "    </tr>\n",
       "    <tr>\n",
       "      <th rowspan=\"5\" valign=\"top\">IMAGE 3.3</th>\n",
       "      <th>SHAPE-SSP2-1.5°C</th>\n",
       "      <td>1</td>\n",
       "      <td>Climate Assessment|Category [Name]</td>\n",
       "      <td>61291</td>\n",
       "      <td>C1b: Below 1.5°C with low OS</td>\n",
       "      <td>STR</td>\n",
       "    </tr>\n",
       "    <tr>\n",
       "      <th>SHAPE-SSP2-1.5°C</th>\n",
       "      <td>1</td>\n",
       "      <td>Climate Assessment|Processing|Harmonization</td>\n",
       "      <td>61292</td>\n",
       "      <td>aneris (version: 0.3.1)</td>\n",
       "      <td>STR</td>\n",
       "    </tr>\n",
       "    <tr>\n",
       "      <th>SHAPE-SSP2-1.5°C</th>\n",
       "      <td>1</td>\n",
       "      <td>Climate Assessment|Processing|Infilling</td>\n",
       "      <td>61293</td>\n",
       "      <td>silicone (version: 1.3.0)</td>\n",
       "      <td>STR</td>\n",
       "    </tr>\n",
       "    <tr>\n",
       "      <th>SHAPE-SSP2-1.5°C</th>\n",
       "      <td>1</td>\n",
       "      <td>Climate Assessment|Processing|Runner</td>\n",
       "      <td>61294</td>\n",
       "      <td>openscm_runner (version: 0.12.1)</td>\n",
       "      <td>STR</td>\n",
       "    </tr>\n",
       "    <tr>\n",
       "      <th>SHAPE-SSP2-1.5°C</th>\n",
       "      <td>1</td>\n",
       "      <td>Climate Assessment|Processing|Package</td>\n",
       "      <td>61295</td>\n",
       "      <td>climate-assessment (version: 0.1.4a0)</td>\n",
       "      <td>STR</td>\n",
       "    </tr>\n",
       "  </tbody>\n",
       "</table>\n",
       "<p>35545 rows × 5 columns</p>\n",
       "</div>"
      ],
      "text/plain": [
       "                                     version  \\\n",
       "model        scenario                          \n",
       "AIM/CGE V2.2 ENGAGE-INDCi2030-1000f        1   \n",
       "             ENGAGE-INDCi2030-1000f        1   \n",
       "             ENGAGE-INDCi2030-1000f        1   \n",
       "             ENGAGE-INDCi2030-1000f        1   \n",
       "             ENGAGE-INDCi2030-1200         1   \n",
       "...                                      ...   \n",
       "IMAGE 3.3    SHAPE-SSP2-1.5°C              1   \n",
       "             SHAPE-SSP2-1.5°C              1   \n",
       "             SHAPE-SSP2-1.5°C              1   \n",
       "             SHAPE-SSP2-1.5°C              1   \n",
       "             SHAPE-SSP2-1.5°C              1   \n",
       "\n",
       "                                                                             key  \\\n",
       "model        scenario                                                              \n",
       "AIM/CGE V2.2 ENGAGE-INDCi2030-1000f                                      Project   \n",
       "             ENGAGE-INDCi2030-1000f             Scientific Manuscript (Citation)   \n",
       "             ENGAGE-INDCi2030-1000f                  Scientific Manuscript (DOI)   \n",
       "             ENGAGE-INDCi2030-1000f                            Data Source (DOI)   \n",
       "             ENGAGE-INDCi2030-1200                                       Project   \n",
       "...                                                                          ...   \n",
       "IMAGE 3.3    SHAPE-SSP2-1.5°C                 Climate Assessment|Category [Name]   \n",
       "             SHAPE-SSP2-1.5°C        Climate Assessment|Processing|Harmonization   \n",
       "             SHAPE-SSP2-1.5°C            Climate Assessment|Processing|Infilling   \n",
       "             SHAPE-SSP2-1.5°C               Climate Assessment|Processing|Runner   \n",
       "             SHAPE-SSP2-1.5°C              Climate Assessment|Processing|Package   \n",
       "\n",
       "                                        id  \\\n",
       "model        scenario                        \n",
       "AIM/CGE V2.2 ENGAGE-INDCi2030-1000f      1   \n",
       "             ENGAGE-INDCi2030-1000f      2   \n",
       "             ENGAGE-INDCi2030-1000f      3   \n",
       "             ENGAGE-INDCi2030-1000f      4   \n",
       "             ENGAGE-INDCi2030-1200       5   \n",
       "...                                    ...   \n",
       "IMAGE 3.3    SHAPE-SSP2-1.5°C        61291   \n",
       "             SHAPE-SSP2-1.5°C        61292   \n",
       "             SHAPE-SSP2-1.5°C        61293   \n",
       "             SHAPE-SSP2-1.5°C        61294   \n",
       "             SHAPE-SSP2-1.5°C        61295   \n",
       "\n",
       "                                                                     value  \\\n",
       "model        scenario                                                        \n",
       "AIM/CGE V2.2 ENGAGE-INDCi2030-1000f                           H2020 ENGAGE   \n",
       "             ENGAGE-INDCi2030-1000f                    Riahi et al. (2021)   \n",
       "             ENGAGE-INDCi2030-1000f             10.1038/s41558-021-01215-2   \n",
       "             ENGAGE-INDCi2030-1000f                 10.5281/zenodo.5553976   \n",
       "             ENGAGE-INDCi2030-1200                            H2020 ENGAGE   \n",
       "...                                                                    ...   \n",
       "IMAGE 3.3    SHAPE-SSP2-1.5°C                 C1b: Below 1.5°C with low OS   \n",
       "             SHAPE-SSP2-1.5°C                      aneris (version: 0.3.1)   \n",
       "             SHAPE-SSP2-1.5°C                    silicone (version: 1.3.0)   \n",
       "             SHAPE-SSP2-1.5°C             openscm_runner (version: 0.12.1)   \n",
       "             SHAPE-SSP2-1.5°C        climate-assessment (version: 0.1.4a0)   \n",
       "\n",
       "                                    type  \n",
       "model        scenario                     \n",
       "AIM/CGE V2.2 ENGAGE-INDCi2030-1000f  STR  \n",
       "             ENGAGE-INDCi2030-1000f  STR  \n",
       "             ENGAGE-INDCi2030-1000f  STR  \n",
       "             ENGAGE-INDCi2030-1000f  STR  \n",
       "             ENGAGE-INDCi2030-1200   STR  \n",
       "...                                  ...  \n",
       "IMAGE 3.3    SHAPE-SSP2-1.5°C        STR  \n",
       "             SHAPE-SSP2-1.5°C        STR  \n",
       "             SHAPE-SSP2-1.5°C        STR  \n",
       "             SHAPE-SSP2-1.5°C        STR  \n",
       "             SHAPE-SSP2-1.5°C        STR  \n",
       "\n",
       "[35545 rows x 5 columns]"
      ]
     },
     "execution_count": 40,
     "metadata": {},
     "output_type": "execute_result"
    }
   ],
   "source": [
    "metaindicators\n"
   ]
  },
  {
   "cell_type": "code",
   "execution_count": 13,
   "metadata": {},
   "outputs": [
    {
     "data": {
      "text/plain": [
       "<class 'pyam.core.IamDataFrame'>\n",
       "Index:\n",
       " * model           : AIM/CGE V2.2, GCAM 6.0 NGFS, IMAGE 3.0, ... WITCH 5.0 (11)\n",
       " * scenario        : ENGAGE-INDCi2030-1000, ... SHAPE-SSP2-1.5°C (225)\n",
       "Timeseries data coordinates:\n",
       "   region          : World (1)\n",
       "   variable        : Agricultural Demand (1)\n",
       "   unit            : million t DM/yr (1)\n",
       "   year            : 1990, 1995, 2000, 2005, 2010, 2015, 2020, ... 2110 (24)\n",
       "   version         : 1 (1)\n",
       "   type            : ANNUAL (1)\n",
       "   time_series__id : 3026, 6273, 9520, 12767, 16014, 19261, ... 4449465 (471)"
      ]
     },
     "execution_count": 13,
     "metadata": {},
     "output_type": "execute_result"
    }
   ],
   "source": [
    "data.filter(variable=\"Agricultural Demand\", region=\"World\")\n"
   ]
  },
  {
   "cell_type": "code",
   "execution_count": 14,
   "metadata": {},
   "outputs": [
    {
     "data": {
      "application/vnd.microsoft.datawrangler.viewer.v0+json": {
       "columns": [
        {
         "name": "index",
         "rawType": "int64",
         "type": "integer"
        },
        {
         "name": "model",
         "rawType": "object",
         "type": "string"
        },
        {
         "name": "scenario",
         "rawType": "object",
         "type": "string"
        },
        {
         "name": "region",
         "rawType": "object",
         "type": "string"
        },
        {
         "name": "variable",
         "rawType": "object",
         "type": "string"
        },
        {
         "name": "unit",
         "rawType": "object",
         "type": "string"
        },
        {
         "name": "year",
         "rawType": "int64",
         "type": "integer"
        },
        {
         "name": "version",
         "rawType": "int64",
         "type": "integer"
        },
        {
         "name": "type",
         "rawType": "object",
         "type": "string"
        },
        {
         "name": "time_series__id",
         "rawType": "int64",
         "type": "integer"
        },
        {
         "name": "value",
         "rawType": "float64",
         "type": "float"
        }
       ],
       "conversionMethod": "pd.DataFrame",
       "ref": "4b376081-b63a-4b5e-8def-d16468897dba",
       "rows": [
        [
         "0",
         "AIM/CGE V2.2",
         "ENGAGE-INDCi2030-1000f",
         "World",
         "Agricultural Demand",
         "million t DM/yr",
         "2010",
         "1",
         "ANNUAL",
         "3026",
         "2729.9307"
        ],
        [
         "1",
         "AIM/CGE V2.2",
         "ENGAGE-INDCi2030-1000f",
         "World",
         "Agricultural Demand",
         "million t DM/yr",
         "2015",
         "1",
         "ANNUAL",
         "3026",
         "3179.632"
        ],
        [
         "2",
         "AIM/CGE V2.2",
         "ENGAGE-INDCi2030-1000f",
         "World",
         "Agricultural Demand",
         "million t DM/yr",
         "2020",
         "1",
         "ANNUAL",
         "3026",
         "3515.3886"
        ],
        [
         "3",
         "AIM/CGE V2.2",
         "ENGAGE-INDCi2030-1000f",
         "World",
         "Agricultural Demand",
         "million t DM/yr",
         "2025",
         "1",
         "ANNUAL",
         "3026",
         "3804.129"
        ],
        [
         "4",
         "AIM/CGE V2.2",
         "ENGAGE-INDCi2030-1000f",
         "World",
         "Agricultural Demand",
         "million t DM/yr",
         "2030",
         "1",
         "ANNUAL",
         "3026",
         "4010.6738"
        ],
        [
         "5",
         "AIM/CGE V2.2",
         "ENGAGE-INDCi2030-1000f",
         "World",
         "Agricultural Demand",
         "million t DM/yr",
         "2035",
         "1",
         "ANNUAL",
         "3026",
         "4183.8337"
        ],
        [
         "6",
         "AIM/CGE V2.2",
         "ENGAGE-INDCi2030-1000f",
         "World",
         "Agricultural Demand",
         "million t DM/yr",
         "2040",
         "1",
         "ANNUAL",
         "3026",
         "4621.8576"
        ],
        [
         "7",
         "AIM/CGE V2.2",
         "ENGAGE-INDCi2030-1000f",
         "World",
         "Agricultural Demand",
         "million t DM/yr",
         "2045",
         "1",
         "ANNUAL",
         "3026",
         "5003.9216"
        ],
        [
         "8",
         "AIM/CGE V2.2",
         "ENGAGE-INDCi2030-1000f",
         "World",
         "Agricultural Demand",
         "million t DM/yr",
         "2050",
         "1",
         "ANNUAL",
         "3026",
         "5362.0102"
        ],
        [
         "9",
         "AIM/CGE V2.2",
         "ENGAGE-INDCi2030-1000f",
         "World",
         "Agricultural Demand",
         "million t DM/yr",
         "2055",
         "1",
         "ANNUAL",
         "3026",
         "6090.5268"
        ],
        [
         "10",
         "AIM/CGE V2.2",
         "ENGAGE-INDCi2030-1000f",
         "World",
         "Agricultural Demand",
         "million t DM/yr",
         "2060",
         "1",
         "ANNUAL",
         "3026",
         "8152.3066"
        ],
        [
         "11",
         "AIM/CGE V2.2",
         "ENGAGE-INDCi2030-1000f",
         "World",
         "Agricultural Demand",
         "million t DM/yr",
         "2065",
         "1",
         "ANNUAL",
         "3026",
         "10369.6479"
        ],
        [
         "12",
         "AIM/CGE V2.2",
         "ENGAGE-INDCi2030-1000f",
         "World",
         "Agricultural Demand",
         "million t DM/yr",
         "2070",
         "1",
         "ANNUAL",
         "3026",
         "12301.7437"
        ],
        [
         "13",
         "AIM/CGE V2.2",
         "ENGAGE-INDCi2030-1000f",
         "World",
         "Agricultural Demand",
         "million t DM/yr",
         "2075",
         "1",
         "ANNUAL",
         "3026",
         "13955.3266"
        ],
        [
         "14",
         "AIM/CGE V2.2",
         "ENGAGE-INDCi2030-1000f",
         "World",
         "Agricultural Demand",
         "million t DM/yr",
         "2080",
         "1",
         "ANNUAL",
         "3026",
         "14123.292"
        ],
        [
         "15",
         "AIM/CGE V2.2",
         "ENGAGE-INDCi2030-1000f",
         "World",
         "Agricultural Demand",
         "million t DM/yr",
         "2085",
         "1",
         "ANNUAL",
         "3026",
         "14366.8094"
        ],
        [
         "16",
         "AIM/CGE V2.2",
         "ENGAGE-INDCi2030-1000f",
         "World",
         "Agricultural Demand",
         "million t DM/yr",
         "2090",
         "1",
         "ANNUAL",
         "3026",
         "14608.1744"
        ],
        [
         "17",
         "AIM/CGE V2.2",
         "ENGAGE-INDCi2030-1000f",
         "World",
         "Agricultural Demand",
         "million t DM/yr",
         "2095",
         "1",
         "ANNUAL",
         "3026",
         "14821.4654"
        ],
        [
         "18",
         "AIM/CGE V2.2",
         "ENGAGE-INDCi2030-1000f",
         "World",
         "Agricultural Demand",
         "million t DM/yr",
         "2100",
         "1",
         "ANNUAL",
         "3026",
         "15016.6037"
        ],
        [
         "19",
         "AIM/CGE V2.2",
         "ENGAGE-INDCi2030-1200",
         "World",
         "Agricultural Demand",
         "million t DM/yr",
         "2010",
         "1",
         "ANNUAL",
         "6273",
         "2729.9307"
        ],
        [
         "20",
         "AIM/CGE V2.2",
         "ENGAGE-INDCi2030-1200",
         "World",
         "Agricultural Demand",
         "million t DM/yr",
         "2015",
         "1",
         "ANNUAL",
         "6273",
         "3179.632"
        ],
        [
         "21",
         "AIM/CGE V2.2",
         "ENGAGE-INDCi2030-1200",
         "World",
         "Agricultural Demand",
         "million t DM/yr",
         "2020",
         "1",
         "ANNUAL",
         "6273",
         "3515.3886"
        ],
        [
         "22",
         "AIM/CGE V2.2",
         "ENGAGE-INDCi2030-1200",
         "World",
         "Agricultural Demand",
         "million t DM/yr",
         "2025",
         "1",
         "ANNUAL",
         "6273",
         "3804.129"
        ],
        [
         "23",
         "AIM/CGE V2.2",
         "ENGAGE-INDCi2030-1200",
         "World",
         "Agricultural Demand",
         "million t DM/yr",
         "2030",
         "1",
         "ANNUAL",
         "6273",
         "4010.6738"
        ],
        [
         "24",
         "AIM/CGE V2.2",
         "ENGAGE-INDCi2030-1200",
         "World",
         "Agricultural Demand",
         "million t DM/yr",
         "2035",
         "1",
         "ANNUAL",
         "6273",
         "4183.8337"
        ],
        [
         "25",
         "AIM/CGE V2.2",
         "ENGAGE-INDCi2030-1200",
         "World",
         "Agricultural Demand",
         "million t DM/yr",
         "2040",
         "1",
         "ANNUAL",
         "6273",
         "4606.4657"
        ],
        [
         "26",
         "AIM/CGE V2.2",
         "ENGAGE-INDCi2030-1200",
         "World",
         "Agricultural Demand",
         "million t DM/yr",
         "2045",
         "1",
         "ANNUAL",
         "6273",
         "4939.7593"
        ],
        [
         "27",
         "AIM/CGE V2.2",
         "ENGAGE-INDCi2030-1200",
         "World",
         "Agricultural Demand",
         "million t DM/yr",
         "2050",
         "1",
         "ANNUAL",
         "6273",
         "5335.871"
        ],
        [
         "28",
         "AIM/CGE V2.2",
         "ENGAGE-INDCi2030-1200",
         "World",
         "Agricultural Demand",
         "million t DM/yr",
         "2055",
         "1",
         "ANNUAL",
         "6273",
         "5930.2197"
        ],
        [
         "29",
         "AIM/CGE V2.2",
         "ENGAGE-INDCi2030-1200",
         "World",
         "Agricultural Demand",
         "million t DM/yr",
         "2060",
         "1",
         "ANNUAL",
         "6273",
         "7991.7996"
        ],
        [
         "30",
         "AIM/CGE V2.2",
         "ENGAGE-INDCi2030-1200",
         "World",
         "Agricultural Demand",
         "million t DM/yr",
         "2065",
         "1",
         "ANNUAL",
         "6273",
         "10099.3497"
        ],
        [
         "31",
         "AIM/CGE V2.2",
         "ENGAGE-INDCi2030-1200",
         "World",
         "Agricultural Demand",
         "million t DM/yr",
         "2070",
         "1",
         "ANNUAL",
         "6273",
         "11071.249"
        ],
        [
         "32",
         "AIM/CGE V2.2",
         "ENGAGE-INDCi2030-1200",
         "World",
         "Agricultural Demand",
         "million t DM/yr",
         "2075",
         "1",
         "ANNUAL",
         "6273",
         "11369.7467"
        ],
        [
         "33",
         "AIM/CGE V2.2",
         "ENGAGE-INDCi2030-1200",
         "World",
         "Agricultural Demand",
         "million t DM/yr",
         "2080",
         "1",
         "ANNUAL",
         "6273",
         "11617.7021"
        ],
        [
         "34",
         "AIM/CGE V2.2",
         "ENGAGE-INDCi2030-1200",
         "World",
         "Agricultural Demand",
         "million t DM/yr",
         "2085",
         "1",
         "ANNUAL",
         "6273",
         "11832.8619"
        ],
        [
         "35",
         "AIM/CGE V2.2",
         "ENGAGE-INDCi2030-1200",
         "World",
         "Agricultural Demand",
         "million t DM/yr",
         "2090",
         "1",
         "ANNUAL",
         "6273",
         "12038.7949"
        ],
        [
         "36",
         "AIM/CGE V2.2",
         "ENGAGE-INDCi2030-1200",
         "World",
         "Agricultural Demand",
         "million t DM/yr",
         "2095",
         "1",
         "ANNUAL",
         "6273",
         "12201.0249"
        ],
        [
         "37",
         "AIM/CGE V2.2",
         "ENGAGE-INDCi2030-1200",
         "World",
         "Agricultural Demand",
         "million t DM/yr",
         "2100",
         "1",
         "ANNUAL",
         "6273",
         "12299.2161"
        ],
        [
         "38",
         "AIM/CGE V2.2",
         "ENGAGE-INDCi2030-1200f",
         "World",
         "Agricultural Demand",
         "million t DM/yr",
         "2010",
         "1",
         "ANNUAL",
         "9520",
         "2729.9307"
        ],
        [
         "39",
         "AIM/CGE V2.2",
         "ENGAGE-INDCi2030-1200f",
         "World",
         "Agricultural Demand",
         "million t DM/yr",
         "2015",
         "1",
         "ANNUAL",
         "9520",
         "3179.632"
        ],
        [
         "40",
         "AIM/CGE V2.2",
         "ENGAGE-INDCi2030-1200f",
         "World",
         "Agricultural Demand",
         "million t DM/yr",
         "2020",
         "1",
         "ANNUAL",
         "9520",
         "3515.3886"
        ],
        [
         "41",
         "AIM/CGE V2.2",
         "ENGAGE-INDCi2030-1200f",
         "World",
         "Agricultural Demand",
         "million t DM/yr",
         "2025",
         "1",
         "ANNUAL",
         "9520",
         "3804.129"
        ],
        [
         "42",
         "AIM/CGE V2.2",
         "ENGAGE-INDCi2030-1200f",
         "World",
         "Agricultural Demand",
         "million t DM/yr",
         "2030",
         "1",
         "ANNUAL",
         "9520",
         "4010.6738"
        ],
        [
         "43",
         "AIM/CGE V2.2",
         "ENGAGE-INDCi2030-1200f",
         "World",
         "Agricultural Demand",
         "million t DM/yr",
         "2035",
         "1",
         "ANNUAL",
         "9520",
         "4183.8337"
        ],
        [
         "44",
         "AIM/CGE V2.2",
         "ENGAGE-INDCi2030-1200f",
         "World",
         "Agricultural Demand",
         "million t DM/yr",
         "2040",
         "1",
         "ANNUAL",
         "9520",
         "4534.4265"
        ],
        [
         "45",
         "AIM/CGE V2.2",
         "ENGAGE-INDCi2030-1200f",
         "World",
         "Agricultural Demand",
         "million t DM/yr",
         "2045",
         "1",
         "ANNUAL",
         "9520",
         "4833.0532"
        ],
        [
         "46",
         "AIM/CGE V2.2",
         "ENGAGE-INDCi2030-1200f",
         "World",
         "Agricultural Demand",
         "million t DM/yr",
         "2050",
         "1",
         "ANNUAL",
         "9520",
         "5273.8641"
        ],
        [
         "47",
         "AIM/CGE V2.2",
         "ENGAGE-INDCi2030-1200f",
         "World",
         "Agricultural Demand",
         "million t DM/yr",
         "2055",
         "1",
         "ANNUAL",
         "9520",
         "5646.4685"
        ],
        [
         "48",
         "AIM/CGE V2.2",
         "ENGAGE-INDCi2030-1200f",
         "World",
         "Agricultural Demand",
         "million t DM/yr",
         "2060",
         "1",
         "ANNUAL",
         "9520",
         "6716.341"
        ],
        [
         "49",
         "AIM/CGE V2.2",
         "ENGAGE-INDCi2030-1200f",
         "World",
         "Agricultural Demand",
         "million t DM/yr",
         "2065",
         "1",
         "ANNUAL",
         "9520",
         "9099.1334"
        ]
       ],
       "shape": {
        "columns": 10,
        "rows": 8207
       }
      },
      "text/html": [
       "<div>\n",
       "<style scoped>\n",
       "    .dataframe tbody tr th:only-of-type {\n",
       "        vertical-align: middle;\n",
       "    }\n",
       "\n",
       "    .dataframe tbody tr th {\n",
       "        vertical-align: top;\n",
       "    }\n",
       "\n",
       "    .dataframe thead th {\n",
       "        text-align: right;\n",
       "    }\n",
       "</style>\n",
       "<table border=\"1\" class=\"dataframe\">\n",
       "  <thead>\n",
       "    <tr style=\"text-align: right;\">\n",
       "      <th></th>\n",
       "      <th>model</th>\n",
       "      <th>scenario</th>\n",
       "      <th>region</th>\n",
       "      <th>variable</th>\n",
       "      <th>unit</th>\n",
       "      <th>year</th>\n",
       "      <th>version</th>\n",
       "      <th>type</th>\n",
       "      <th>time_series__id</th>\n",
       "      <th>value</th>\n",
       "    </tr>\n",
       "  </thead>\n",
       "  <tbody>\n",
       "    <tr>\n",
       "      <th>0</th>\n",
       "      <td>AIM/CGE V2.2</td>\n",
       "      <td>ENGAGE-INDCi2030-1000f</td>\n",
       "      <td>World</td>\n",
       "      <td>Agricultural Demand</td>\n",
       "      <td>million t DM/yr</td>\n",
       "      <td>2010</td>\n",
       "      <td>1</td>\n",
       "      <td>ANNUAL</td>\n",
       "      <td>3026</td>\n",
       "      <td>2729.930700</td>\n",
       "    </tr>\n",
       "    <tr>\n",
       "      <th>1</th>\n",
       "      <td>AIM/CGE V2.2</td>\n",
       "      <td>ENGAGE-INDCi2030-1000f</td>\n",
       "      <td>World</td>\n",
       "      <td>Agricultural Demand</td>\n",
       "      <td>million t DM/yr</td>\n",
       "      <td>2015</td>\n",
       "      <td>1</td>\n",
       "      <td>ANNUAL</td>\n",
       "      <td>3026</td>\n",
       "      <td>3179.632000</td>\n",
       "    </tr>\n",
       "    <tr>\n",
       "      <th>2</th>\n",
       "      <td>AIM/CGE V2.2</td>\n",
       "      <td>ENGAGE-INDCi2030-1000f</td>\n",
       "      <td>World</td>\n",
       "      <td>Agricultural Demand</td>\n",
       "      <td>million t DM/yr</td>\n",
       "      <td>2020</td>\n",
       "      <td>1</td>\n",
       "      <td>ANNUAL</td>\n",
       "      <td>3026</td>\n",
       "      <td>3515.388600</td>\n",
       "    </tr>\n",
       "    <tr>\n",
       "      <th>3</th>\n",
       "      <td>AIM/CGE V2.2</td>\n",
       "      <td>ENGAGE-INDCi2030-1000f</td>\n",
       "      <td>World</td>\n",
       "      <td>Agricultural Demand</td>\n",
       "      <td>million t DM/yr</td>\n",
       "      <td>2025</td>\n",
       "      <td>1</td>\n",
       "      <td>ANNUAL</td>\n",
       "      <td>3026</td>\n",
       "      <td>3804.129000</td>\n",
       "    </tr>\n",
       "    <tr>\n",
       "      <th>4</th>\n",
       "      <td>AIM/CGE V2.2</td>\n",
       "      <td>ENGAGE-INDCi2030-1000f</td>\n",
       "      <td>World</td>\n",
       "      <td>Agricultural Demand</td>\n",
       "      <td>million t DM/yr</td>\n",
       "      <td>2030</td>\n",
       "      <td>1</td>\n",
       "      <td>ANNUAL</td>\n",
       "      <td>3026</td>\n",
       "      <td>4010.673800</td>\n",
       "    </tr>\n",
       "    <tr>\n",
       "      <th>...</th>\n",
       "      <td>...</td>\n",
       "      <td>...</td>\n",
       "      <td>...</td>\n",
       "      <td>...</td>\n",
       "      <td>...</td>\n",
       "      <td>...</td>\n",
       "      <td>...</td>\n",
       "      <td>...</td>\n",
       "      <td>...</td>\n",
       "      <td>...</td>\n",
       "    </tr>\n",
       "    <tr>\n",
       "      <th>8202</th>\n",
       "      <td>WITCH 5.0</td>\n",
       "      <td>NAVIGATE Demand-NPi-tec</td>\n",
       "      <td>World</td>\n",
       "      <td>Agricultural Demand</td>\n",
       "      <td>million t DM/yr</td>\n",
       "      <td>2080</td>\n",
       "      <td>1</td>\n",
       "      <td>ANNUAL</td>\n",
       "      <td>2798943</td>\n",
       "      <td>6319.442477</td>\n",
       "    </tr>\n",
       "    <tr>\n",
       "      <th>8203</th>\n",
       "      <td>WITCH 5.0</td>\n",
       "      <td>NAVIGATE Demand-NPi-tec</td>\n",
       "      <td>World</td>\n",
       "      <td>Agricultural Demand</td>\n",
       "      <td>million t DM/yr</td>\n",
       "      <td>2085</td>\n",
       "      <td>1</td>\n",
       "      <td>ANNUAL</td>\n",
       "      <td>2798943</td>\n",
       "      <td>6404.990193</td>\n",
       "    </tr>\n",
       "    <tr>\n",
       "      <th>8204</th>\n",
       "      <td>WITCH 5.0</td>\n",
       "      <td>NAVIGATE Demand-NPi-tec</td>\n",
       "      <td>World</td>\n",
       "      <td>Agricultural Demand</td>\n",
       "      <td>million t DM/yr</td>\n",
       "      <td>2090</td>\n",
       "      <td>1</td>\n",
       "      <td>ANNUAL</td>\n",
       "      <td>2798943</td>\n",
       "      <td>6448.801891</td>\n",
       "    </tr>\n",
       "    <tr>\n",
       "      <th>8205</th>\n",
       "      <td>WITCH 5.0</td>\n",
       "      <td>NAVIGATE Demand-NPi-tec</td>\n",
       "      <td>World</td>\n",
       "      <td>Agricultural Demand</td>\n",
       "      <td>million t DM/yr</td>\n",
       "      <td>2095</td>\n",
       "      <td>1</td>\n",
       "      <td>ANNUAL</td>\n",
       "      <td>2798943</td>\n",
       "      <td>6422.047257</td>\n",
       "    </tr>\n",
       "    <tr>\n",
       "      <th>8206</th>\n",
       "      <td>WITCH 5.0</td>\n",
       "      <td>NAVIGATE Demand-NPi-tec</td>\n",
       "      <td>World</td>\n",
       "      <td>Agricultural Demand</td>\n",
       "      <td>million t DM/yr</td>\n",
       "      <td>2100</td>\n",
       "      <td>1</td>\n",
       "      <td>ANNUAL</td>\n",
       "      <td>2798943</td>\n",
       "      <td>6391.221300</td>\n",
       "    </tr>\n",
       "  </tbody>\n",
       "</table>\n",
       "<p>8207 rows × 10 columns</p>\n",
       "</div>"
      ],
      "text/plain": [
       "             model                 scenario region             variable  \\\n",
       "0     AIM/CGE V2.2   ENGAGE-INDCi2030-1000f  World  Agricultural Demand   \n",
       "1     AIM/CGE V2.2   ENGAGE-INDCi2030-1000f  World  Agricultural Demand   \n",
       "2     AIM/CGE V2.2   ENGAGE-INDCi2030-1000f  World  Agricultural Demand   \n",
       "3     AIM/CGE V2.2   ENGAGE-INDCi2030-1000f  World  Agricultural Demand   \n",
       "4     AIM/CGE V2.2   ENGAGE-INDCi2030-1000f  World  Agricultural Demand   \n",
       "...            ...                      ...    ...                  ...   \n",
       "8202     WITCH 5.0  NAVIGATE Demand-NPi-tec  World  Agricultural Demand   \n",
       "8203     WITCH 5.0  NAVIGATE Demand-NPi-tec  World  Agricultural Demand   \n",
       "8204     WITCH 5.0  NAVIGATE Demand-NPi-tec  World  Agricultural Demand   \n",
       "8205     WITCH 5.0  NAVIGATE Demand-NPi-tec  World  Agricultural Demand   \n",
       "8206     WITCH 5.0  NAVIGATE Demand-NPi-tec  World  Agricultural Demand   \n",
       "\n",
       "                 unit  year  version    type  time_series__id        value  \n",
       "0     million t DM/yr  2010        1  ANNUAL             3026  2729.930700  \n",
       "1     million t DM/yr  2015        1  ANNUAL             3026  3179.632000  \n",
       "2     million t DM/yr  2020        1  ANNUAL             3026  3515.388600  \n",
       "3     million t DM/yr  2025        1  ANNUAL             3026  3804.129000  \n",
       "4     million t DM/yr  2030        1  ANNUAL             3026  4010.673800  \n",
       "...               ...   ...      ...     ...              ...          ...  \n",
       "8202  million t DM/yr  2080        1  ANNUAL          2798943  6319.442477  \n",
       "8203  million t DM/yr  2085        1  ANNUAL          2798943  6404.990193  \n",
       "8204  million t DM/yr  2090        1  ANNUAL          2798943  6448.801891  \n",
       "8205  million t DM/yr  2095        1  ANNUAL          2798943  6422.047257  \n",
       "8206  million t DM/yr  2100        1  ANNUAL          2798943  6391.221300  \n",
       "\n",
       "[8207 rows x 10 columns]"
      ]
     },
     "execution_count": 14,
     "metadata": {},
     "output_type": "execute_result"
    }
   ],
   "source": [
    "data.filter(variable=\"Agricultural Demand\").data"
   ]
  },
  {
   "cell_type": "code",
   "execution_count": 17,
   "metadata": {},
   "outputs": [
    {
     "data": {
      "application/vnd.microsoft.datawrangler.viewer.v0+json": {
       "columns": [
        {
         "name": "index",
         "rawType": "int64",
         "type": "integer"
        },
        {
         "name": "model",
         "rawType": "object",
         "type": "string"
        },
        {
         "name": "scenario",
         "rawType": "object",
         "type": "string"
        },
        {
         "name": "region",
         "rawType": "object",
         "type": "string"
        },
        {
         "name": "variable",
         "rawType": "object",
         "type": "string"
        },
        {
         "name": "unit",
         "rawType": "object",
         "type": "string"
        },
        {
         "name": "year",
         "rawType": "int64",
         "type": "integer"
        },
        {
         "name": "version",
         "rawType": "int64",
         "type": "integer"
        },
        {
         "name": "type",
         "rawType": "object",
         "type": "string"
        },
        {
         "name": "time_series__id",
         "rawType": "int64",
         "type": "integer"
        },
        {
         "name": "value",
         "rawType": "float64",
         "type": "float"
        }
       ],
       "ref": "c885f71e-2792-4da3-953a-0e57843dc2c7",
       "rows": [
        [
         "0",
         "AIM/CGE V2.2",
         "ENGAGE-INDCi2030-1000f",
         "World",
         "Agricultural Demand",
         "million t DM/yr",
         "2010",
         "1",
         "ANNUAL",
         "3026",
         "2729.9307"
        ],
        [
         "1",
         "AIM/CGE V2.2",
         "ENGAGE-INDCi2030-1000f",
         "World",
         "Agricultural Demand",
         "million t DM/yr",
         "2015",
         "1",
         "ANNUAL",
         "3026",
         "3179.632"
        ],
        [
         "2",
         "AIM/CGE V2.2",
         "ENGAGE-INDCi2030-1000f",
         "World",
         "Agricultural Demand",
         "million t DM/yr",
         "2020",
         "1",
         "ANNUAL",
         "3026",
         "3515.3886"
        ],
        [
         "3",
         "AIM/CGE V2.2",
         "ENGAGE-INDCi2030-1000f",
         "World",
         "Agricultural Demand",
         "million t DM/yr",
         "2025",
         "1",
         "ANNUAL",
         "3026",
         "3804.129"
        ],
        [
         "4",
         "AIM/CGE V2.2",
         "ENGAGE-INDCi2030-1000f",
         "World",
         "Agricultural Demand",
         "million t DM/yr",
         "2030",
         "1",
         "ANNUAL",
         "3026",
         "4010.6738"
        ],
        [
         "5",
         "AIM/CGE V2.2",
         "ENGAGE-INDCi2030-1000f",
         "World",
         "Agricultural Demand",
         "million t DM/yr",
         "2035",
         "1",
         "ANNUAL",
         "3026",
         "4183.8337"
        ],
        [
         "6",
         "AIM/CGE V2.2",
         "ENGAGE-INDCi2030-1000f",
         "World",
         "Agricultural Demand",
         "million t DM/yr",
         "2040",
         "1",
         "ANNUAL",
         "3026",
         "4621.8576"
        ],
        [
         "7",
         "AIM/CGE V2.2",
         "ENGAGE-INDCi2030-1000f",
         "World",
         "Agricultural Demand",
         "million t DM/yr",
         "2045",
         "1",
         "ANNUAL",
         "3026",
         "5003.9216"
        ],
        [
         "8",
         "AIM/CGE V2.2",
         "ENGAGE-INDCi2030-1000f",
         "World",
         "Agricultural Demand",
         "million t DM/yr",
         "2050",
         "1",
         "ANNUAL",
         "3026",
         "5362.0102"
        ],
        [
         "9",
         "AIM/CGE V2.2",
         "ENGAGE-INDCi2030-1000f",
         "World",
         "Agricultural Demand",
         "million t DM/yr",
         "2055",
         "1",
         "ANNUAL",
         "3026",
         "6090.5268"
        ],
        [
         "10",
         "AIM/CGE V2.2",
         "ENGAGE-INDCi2030-1000f",
         "World",
         "Agricultural Demand",
         "million t DM/yr",
         "2060",
         "1",
         "ANNUAL",
         "3026",
         "8152.3066"
        ],
        [
         "11",
         "AIM/CGE V2.2",
         "ENGAGE-INDCi2030-1000f",
         "World",
         "Agricultural Demand",
         "million t DM/yr",
         "2065",
         "1",
         "ANNUAL",
         "3026",
         "10369.6479"
        ],
        [
         "12",
         "AIM/CGE V2.2",
         "ENGAGE-INDCi2030-1000f",
         "World",
         "Agricultural Demand",
         "million t DM/yr",
         "2070",
         "1",
         "ANNUAL",
         "3026",
         "12301.7437"
        ],
        [
         "13",
         "AIM/CGE V2.2",
         "ENGAGE-INDCi2030-1000f",
         "World",
         "Agricultural Demand",
         "million t DM/yr",
         "2075",
         "1",
         "ANNUAL",
         "3026",
         "13955.3266"
        ],
        [
         "14",
         "AIM/CGE V2.2",
         "ENGAGE-INDCi2030-1000f",
         "World",
         "Agricultural Demand",
         "million t DM/yr",
         "2080",
         "1",
         "ANNUAL",
         "3026",
         "14123.292"
        ],
        [
         "15",
         "AIM/CGE V2.2",
         "ENGAGE-INDCi2030-1000f",
         "World",
         "Agricultural Demand",
         "million t DM/yr",
         "2085",
         "1",
         "ANNUAL",
         "3026",
         "14366.8094"
        ],
        [
         "16",
         "AIM/CGE V2.2",
         "ENGAGE-INDCi2030-1000f",
         "World",
         "Agricultural Demand",
         "million t DM/yr",
         "2090",
         "1",
         "ANNUAL",
         "3026",
         "14608.1744"
        ],
        [
         "17",
         "AIM/CGE V2.2",
         "ENGAGE-INDCi2030-1000f",
         "World",
         "Agricultural Demand",
         "million t DM/yr",
         "2095",
         "1",
         "ANNUAL",
         "3026",
         "14821.4654"
        ],
        [
         "18",
         "AIM/CGE V2.2",
         "ENGAGE-INDCi2030-1000f",
         "World",
         "Agricultural Demand",
         "million t DM/yr",
         "2100",
         "1",
         "ANNUAL",
         "3026",
         "15016.6037"
        ],
        [
         "19",
         "AIM/CGE V2.2",
         "ENGAGE-INDCi2030-1200",
         "World",
         "Agricultural Demand",
         "million t DM/yr",
         "2010",
         "1",
         "ANNUAL",
         "6273",
         "2729.9307"
        ],
        [
         "20",
         "AIM/CGE V2.2",
         "ENGAGE-INDCi2030-1200",
         "World",
         "Agricultural Demand",
         "million t DM/yr",
         "2015",
         "1",
         "ANNUAL",
         "6273",
         "3179.632"
        ],
        [
         "21",
         "AIM/CGE V2.2",
         "ENGAGE-INDCi2030-1200",
         "World",
         "Agricultural Demand",
         "million t DM/yr",
         "2020",
         "1",
         "ANNUAL",
         "6273",
         "3515.3886"
        ],
        [
         "22",
         "AIM/CGE V2.2",
         "ENGAGE-INDCi2030-1200",
         "World",
         "Agricultural Demand",
         "million t DM/yr",
         "2025",
         "1",
         "ANNUAL",
         "6273",
         "3804.129"
        ],
        [
         "23",
         "AIM/CGE V2.2",
         "ENGAGE-INDCi2030-1200",
         "World",
         "Agricultural Demand",
         "million t DM/yr",
         "2030",
         "1",
         "ANNUAL",
         "6273",
         "4010.6738"
        ],
        [
         "24",
         "AIM/CGE V2.2",
         "ENGAGE-INDCi2030-1200",
         "World",
         "Agricultural Demand",
         "million t DM/yr",
         "2035",
         "1",
         "ANNUAL",
         "6273",
         "4183.8337"
        ],
        [
         "25",
         "AIM/CGE V2.2",
         "ENGAGE-INDCi2030-1200",
         "World",
         "Agricultural Demand",
         "million t DM/yr",
         "2040",
         "1",
         "ANNUAL",
         "6273",
         "4606.4657"
        ],
        [
         "26",
         "AIM/CGE V2.2",
         "ENGAGE-INDCi2030-1200",
         "World",
         "Agricultural Demand",
         "million t DM/yr",
         "2045",
         "1",
         "ANNUAL",
         "6273",
         "4939.7593"
        ],
        [
         "27",
         "AIM/CGE V2.2",
         "ENGAGE-INDCi2030-1200",
         "World",
         "Agricultural Demand",
         "million t DM/yr",
         "2050",
         "1",
         "ANNUAL",
         "6273",
         "5335.871"
        ],
        [
         "28",
         "AIM/CGE V2.2",
         "ENGAGE-INDCi2030-1200",
         "World",
         "Agricultural Demand",
         "million t DM/yr",
         "2055",
         "1",
         "ANNUAL",
         "6273",
         "5930.2197"
        ],
        [
         "29",
         "AIM/CGE V2.2",
         "ENGAGE-INDCi2030-1200",
         "World",
         "Agricultural Demand",
         "million t DM/yr",
         "2060",
         "1",
         "ANNUAL",
         "6273",
         "7991.7996"
        ],
        [
         "30",
         "AIM/CGE V2.2",
         "ENGAGE-INDCi2030-1200",
         "World",
         "Agricultural Demand",
         "million t DM/yr",
         "2065",
         "1",
         "ANNUAL",
         "6273",
         "10099.3497"
        ],
        [
         "31",
         "AIM/CGE V2.2",
         "ENGAGE-INDCi2030-1200",
         "World",
         "Agricultural Demand",
         "million t DM/yr",
         "2070",
         "1",
         "ANNUAL",
         "6273",
         "11071.249"
        ],
        [
         "32",
         "AIM/CGE V2.2",
         "ENGAGE-INDCi2030-1200",
         "World",
         "Agricultural Demand",
         "million t DM/yr",
         "2075",
         "1",
         "ANNUAL",
         "6273",
         "11369.7467"
        ],
        [
         "33",
         "AIM/CGE V2.2",
         "ENGAGE-INDCi2030-1200",
         "World",
         "Agricultural Demand",
         "million t DM/yr",
         "2080",
         "1",
         "ANNUAL",
         "6273",
         "11617.7021"
        ],
        [
         "34",
         "AIM/CGE V2.2",
         "ENGAGE-INDCi2030-1200",
         "World",
         "Agricultural Demand",
         "million t DM/yr",
         "2085",
         "1",
         "ANNUAL",
         "6273",
         "11832.8619"
        ],
        [
         "35",
         "AIM/CGE V2.2",
         "ENGAGE-INDCi2030-1200",
         "World",
         "Agricultural Demand",
         "million t DM/yr",
         "2090",
         "1",
         "ANNUAL",
         "6273",
         "12038.7949"
        ],
        [
         "36",
         "AIM/CGE V2.2",
         "ENGAGE-INDCi2030-1200",
         "World",
         "Agricultural Demand",
         "million t DM/yr",
         "2095",
         "1",
         "ANNUAL",
         "6273",
         "12201.0249"
        ],
        [
         "37",
         "AIM/CGE V2.2",
         "ENGAGE-INDCi2030-1200",
         "World",
         "Agricultural Demand",
         "million t DM/yr",
         "2100",
         "1",
         "ANNUAL",
         "6273",
         "12299.2161"
        ],
        [
         "38",
         "AIM/CGE V2.2",
         "ENGAGE-INDCi2030-1200f",
         "World",
         "Agricultural Demand",
         "million t DM/yr",
         "2010",
         "1",
         "ANNUAL",
         "9520",
         "2729.9307"
        ],
        [
         "39",
         "AIM/CGE V2.2",
         "ENGAGE-INDCi2030-1200f",
         "World",
         "Agricultural Demand",
         "million t DM/yr",
         "2015",
         "1",
         "ANNUAL",
         "9520",
         "3179.632"
        ],
        [
         "40",
         "AIM/CGE V2.2",
         "ENGAGE-INDCi2030-1200f",
         "World",
         "Agricultural Demand",
         "million t DM/yr",
         "2020",
         "1",
         "ANNUAL",
         "9520",
         "3515.3886"
        ],
        [
         "41",
         "AIM/CGE V2.2",
         "ENGAGE-INDCi2030-1200f",
         "World",
         "Agricultural Demand",
         "million t DM/yr",
         "2025",
         "1",
         "ANNUAL",
         "9520",
         "3804.129"
        ],
        [
         "42",
         "AIM/CGE V2.2",
         "ENGAGE-INDCi2030-1200f",
         "World",
         "Agricultural Demand",
         "million t DM/yr",
         "2030",
         "1",
         "ANNUAL",
         "9520",
         "4010.6738"
        ],
        [
         "43",
         "AIM/CGE V2.2",
         "ENGAGE-INDCi2030-1200f",
         "World",
         "Agricultural Demand",
         "million t DM/yr",
         "2035",
         "1",
         "ANNUAL",
         "9520",
         "4183.8337"
        ],
        [
         "44",
         "AIM/CGE V2.2",
         "ENGAGE-INDCi2030-1200f",
         "World",
         "Agricultural Demand",
         "million t DM/yr",
         "2040",
         "1",
         "ANNUAL",
         "9520",
         "4534.4265"
        ],
        [
         "45",
         "AIM/CGE V2.2",
         "ENGAGE-INDCi2030-1200f",
         "World",
         "Agricultural Demand",
         "million t DM/yr",
         "2045",
         "1",
         "ANNUAL",
         "9520",
         "4833.0532"
        ],
        [
         "46",
         "AIM/CGE V2.2",
         "ENGAGE-INDCi2030-1200f",
         "World",
         "Agricultural Demand",
         "million t DM/yr",
         "2050",
         "1",
         "ANNUAL",
         "9520",
         "5273.8641"
        ],
        [
         "47",
         "AIM/CGE V2.2",
         "ENGAGE-INDCi2030-1200f",
         "World",
         "Agricultural Demand",
         "million t DM/yr",
         "2055",
         "1",
         "ANNUAL",
         "9520",
         "5646.4685"
        ],
        [
         "48",
         "AIM/CGE V2.2",
         "ENGAGE-INDCi2030-1200f",
         "World",
         "Agricultural Demand",
         "million t DM/yr",
         "2060",
         "1",
         "ANNUAL",
         "9520",
         "6716.341"
        ],
        [
         "49",
         "AIM/CGE V2.2",
         "ENGAGE-INDCi2030-1200f",
         "World",
         "Agricultural Demand",
         "million t DM/yr",
         "2065",
         "1",
         "ANNUAL",
         "9520",
         "9099.1334"
        ]
       ],
       "shape": {
        "columns": 10,
        "rows": 8207
       }
      },
      "text/html": [
       "<div>\n",
       "<style scoped>\n",
       "    .dataframe tbody tr th:only-of-type {\n",
       "        vertical-align: middle;\n",
       "    }\n",
       "\n",
       "    .dataframe tbody tr th {\n",
       "        vertical-align: top;\n",
       "    }\n",
       "\n",
       "    .dataframe thead th {\n",
       "        text-align: right;\n",
       "    }\n",
       "</style>\n",
       "<table border=\"1\" class=\"dataframe\">\n",
       "  <thead>\n",
       "    <tr style=\"text-align: right;\">\n",
       "      <th></th>\n",
       "      <th>model</th>\n",
       "      <th>scenario</th>\n",
       "      <th>region</th>\n",
       "      <th>variable</th>\n",
       "      <th>unit</th>\n",
       "      <th>year</th>\n",
       "      <th>version</th>\n",
       "      <th>type</th>\n",
       "      <th>time_series__id</th>\n",
       "      <th>value</th>\n",
       "    </tr>\n",
       "  </thead>\n",
       "  <tbody>\n",
       "    <tr>\n",
       "      <th>0</th>\n",
       "      <td>AIM/CGE V2.2</td>\n",
       "      <td>ENGAGE-INDCi2030-1000f</td>\n",
       "      <td>World</td>\n",
       "      <td>Agricultural Demand</td>\n",
       "      <td>million t DM/yr</td>\n",
       "      <td>2010</td>\n",
       "      <td>1</td>\n",
       "      <td>ANNUAL</td>\n",
       "      <td>3026</td>\n",
       "      <td>2729.930700</td>\n",
       "    </tr>\n",
       "    <tr>\n",
       "      <th>1</th>\n",
       "      <td>AIM/CGE V2.2</td>\n",
       "      <td>ENGAGE-INDCi2030-1000f</td>\n",
       "      <td>World</td>\n",
       "      <td>Agricultural Demand</td>\n",
       "      <td>million t DM/yr</td>\n",
       "      <td>2015</td>\n",
       "      <td>1</td>\n",
       "      <td>ANNUAL</td>\n",
       "      <td>3026</td>\n",
       "      <td>3179.632000</td>\n",
       "    </tr>\n",
       "    <tr>\n",
       "      <th>2</th>\n",
       "      <td>AIM/CGE V2.2</td>\n",
       "      <td>ENGAGE-INDCi2030-1000f</td>\n",
       "      <td>World</td>\n",
       "      <td>Agricultural Demand</td>\n",
       "      <td>million t DM/yr</td>\n",
       "      <td>2020</td>\n",
       "      <td>1</td>\n",
       "      <td>ANNUAL</td>\n",
       "      <td>3026</td>\n",
       "      <td>3515.388600</td>\n",
       "    </tr>\n",
       "    <tr>\n",
       "      <th>3</th>\n",
       "      <td>AIM/CGE V2.2</td>\n",
       "      <td>ENGAGE-INDCi2030-1000f</td>\n",
       "      <td>World</td>\n",
       "      <td>Agricultural Demand</td>\n",
       "      <td>million t DM/yr</td>\n",
       "      <td>2025</td>\n",
       "      <td>1</td>\n",
       "      <td>ANNUAL</td>\n",
       "      <td>3026</td>\n",
       "      <td>3804.129000</td>\n",
       "    </tr>\n",
       "    <tr>\n",
       "      <th>4</th>\n",
       "      <td>AIM/CGE V2.2</td>\n",
       "      <td>ENGAGE-INDCi2030-1000f</td>\n",
       "      <td>World</td>\n",
       "      <td>Agricultural Demand</td>\n",
       "      <td>million t DM/yr</td>\n",
       "      <td>2030</td>\n",
       "      <td>1</td>\n",
       "      <td>ANNUAL</td>\n",
       "      <td>3026</td>\n",
       "      <td>4010.673800</td>\n",
       "    </tr>\n",
       "    <tr>\n",
       "      <th>...</th>\n",
       "      <td>...</td>\n",
       "      <td>...</td>\n",
       "      <td>...</td>\n",
       "      <td>...</td>\n",
       "      <td>...</td>\n",
       "      <td>...</td>\n",
       "      <td>...</td>\n",
       "      <td>...</td>\n",
       "      <td>...</td>\n",
       "      <td>...</td>\n",
       "    </tr>\n",
       "    <tr>\n",
       "      <th>8202</th>\n",
       "      <td>WITCH 5.0</td>\n",
       "      <td>NAVIGATE Demand-NPi-tec</td>\n",
       "      <td>World</td>\n",
       "      <td>Agricultural Demand</td>\n",
       "      <td>million t DM/yr</td>\n",
       "      <td>2080</td>\n",
       "      <td>1</td>\n",
       "      <td>ANNUAL</td>\n",
       "      <td>2798943</td>\n",
       "      <td>6319.442477</td>\n",
       "    </tr>\n",
       "    <tr>\n",
       "      <th>8203</th>\n",
       "      <td>WITCH 5.0</td>\n",
       "      <td>NAVIGATE Demand-NPi-tec</td>\n",
       "      <td>World</td>\n",
       "      <td>Agricultural Demand</td>\n",
       "      <td>million t DM/yr</td>\n",
       "      <td>2085</td>\n",
       "      <td>1</td>\n",
       "      <td>ANNUAL</td>\n",
       "      <td>2798943</td>\n",
       "      <td>6404.990193</td>\n",
       "    </tr>\n",
       "    <tr>\n",
       "      <th>8204</th>\n",
       "      <td>WITCH 5.0</td>\n",
       "      <td>NAVIGATE Demand-NPi-tec</td>\n",
       "      <td>World</td>\n",
       "      <td>Agricultural Demand</td>\n",
       "      <td>million t DM/yr</td>\n",
       "      <td>2090</td>\n",
       "      <td>1</td>\n",
       "      <td>ANNUAL</td>\n",
       "      <td>2798943</td>\n",
       "      <td>6448.801891</td>\n",
       "    </tr>\n",
       "    <tr>\n",
       "      <th>8205</th>\n",
       "      <td>WITCH 5.0</td>\n",
       "      <td>NAVIGATE Demand-NPi-tec</td>\n",
       "      <td>World</td>\n",
       "      <td>Agricultural Demand</td>\n",
       "      <td>million t DM/yr</td>\n",
       "      <td>2095</td>\n",
       "      <td>1</td>\n",
       "      <td>ANNUAL</td>\n",
       "      <td>2798943</td>\n",
       "      <td>6422.047257</td>\n",
       "    </tr>\n",
       "    <tr>\n",
       "      <th>8206</th>\n",
       "      <td>WITCH 5.0</td>\n",
       "      <td>NAVIGATE Demand-NPi-tec</td>\n",
       "      <td>World</td>\n",
       "      <td>Agricultural Demand</td>\n",
       "      <td>million t DM/yr</td>\n",
       "      <td>2100</td>\n",
       "      <td>1</td>\n",
       "      <td>ANNUAL</td>\n",
       "      <td>2798943</td>\n",
       "      <td>6391.221300</td>\n",
       "    </tr>\n",
       "  </tbody>\n",
       "</table>\n",
       "<p>8207 rows × 10 columns</p>\n",
       "</div>"
      ],
      "text/plain": [
       "             model                 scenario region             variable  \\\n",
       "0     AIM/CGE V2.2   ENGAGE-INDCi2030-1000f  World  Agricultural Demand   \n",
       "1     AIM/CGE V2.2   ENGAGE-INDCi2030-1000f  World  Agricultural Demand   \n",
       "2     AIM/CGE V2.2   ENGAGE-INDCi2030-1000f  World  Agricultural Demand   \n",
       "3     AIM/CGE V2.2   ENGAGE-INDCi2030-1000f  World  Agricultural Demand   \n",
       "4     AIM/CGE V2.2   ENGAGE-INDCi2030-1000f  World  Agricultural Demand   \n",
       "...            ...                      ...    ...                  ...   \n",
       "8202     WITCH 5.0  NAVIGATE Demand-NPi-tec  World  Agricultural Demand   \n",
       "8203     WITCH 5.0  NAVIGATE Demand-NPi-tec  World  Agricultural Demand   \n",
       "8204     WITCH 5.0  NAVIGATE Demand-NPi-tec  World  Agricultural Demand   \n",
       "8205     WITCH 5.0  NAVIGATE Demand-NPi-tec  World  Agricultural Demand   \n",
       "8206     WITCH 5.0  NAVIGATE Demand-NPi-tec  World  Agricultural Demand   \n",
       "\n",
       "                 unit  year  version    type  time_series__id        value  \n",
       "0     million t DM/yr  2010        1  ANNUAL             3026  2729.930700  \n",
       "1     million t DM/yr  2015        1  ANNUAL             3026  3179.632000  \n",
       "2     million t DM/yr  2020        1  ANNUAL             3026  3515.388600  \n",
       "3     million t DM/yr  2025        1  ANNUAL             3026  3804.129000  \n",
       "4     million t DM/yr  2030        1  ANNUAL             3026  4010.673800  \n",
       "...               ...   ...      ...     ...              ...          ...  \n",
       "8202  million t DM/yr  2080        1  ANNUAL          2798943  6319.442477  \n",
       "8203  million t DM/yr  2085        1  ANNUAL          2798943  6404.990193  \n",
       "8204  million t DM/yr  2090        1  ANNUAL          2798943  6448.801891  \n",
       "8205  million t DM/yr  2095        1  ANNUAL          2798943  6422.047257  \n",
       "8206  million t DM/yr  2100        1  ANNUAL          2798943  6391.221300  \n",
       "\n",
       "[8207 rows x 10 columns]"
      ]
     },
     "execution_count": 17,
     "metadata": {},
     "output_type": "execute_result"
    }
   ],
   "source": [
    "data.filter(variable=\"Agricultural Demand\").data\n"
   ]
  },
  {
   "cell_type": "code",
   "execution_count": 16,
   "metadata": {},
   "outputs": [
    {
     "data": {
      "text/plain": [
       "<Axes: xlabel='year', ylabel='value'>"
      ]
     },
     "execution_count": 16,
     "metadata": {},
     "output_type": "execute_result"
    },
    {
     "data": {
      "image/png": "[encoded data removed]",
      "text/plain": [
       "<Figure size 640x480 with 1 Axes>"
      ]
     },
     "metadata": {},
     "output_type": "display_data"
    }
   ],
   "source": [
    "sns.lineplot(\n",
    "    data=data.filter(variable=\"Agricultural Demand\").data,\n",
    "    x=\"year\",\n",
    "    y=\"value\",\n",
    "    # hue=\"model\",\n",
    "    style=\"model\",\n",
    "    legend=False,\n",
    ")\n"
   ]
  },
  {
   "cell_type": "code",
   "execution_count": null,
   "metadata": {
    "notebookRunGroups": {
     "groupValue": "1"
    }
   },
   "outputs": [
    {
     "data": {
      "text/plain": [
       "<Axes: xlabel='year', ylabel='value'>"
      ]
     },
     "execution_count": 32,
     "metadata": {},
     "output_type": "execute_result"
    },
    {
     "data": {
      "image/png": "[encoded data removed]",
      "text/plain": [
       "<Figure size 640x480 with 1 Axes>"
      ]
     },
     "metadata": {},
     "output_type": "display_data"
    }
   ],
   "source": [
    "sns.violinplot(\n",
    "    data=data.filter(variable=\"Agricultural Demand\", year=[2020, 2040, 2060]).data,\n",
    "    y=\"value\",\n",
    "    x=\"year\",\n",
    "    hue=\"model\",\n",
    ")\n"
   ]
  },
  {
   "cell_type": "code",
   "execution_count": 35,
   "metadata": {},
   "outputs": [
    {
     "data": {
      "application/vnd.microsoft.datawrangler.viewer.v0+json": {
       "columns": [
        {
         "name": "index",
         "rawType": "int64",
         "type": "integer"
        },
        {
         "name": "variables",
         "rawType": "object",
         "type": "string"
        },
        {
         "name": "year",
         "rawType": "object",
         "type": "unknown"
        },
        {
         "name": "value",
         "rawType": "float64",
         "type": "float"
        }
       ],
       "conversionMethod": "pd.DataFrame",
       "ref": "c00f603f-bf20-4444-91ed-0a5ae532838a",
       "rows": [
        [
         "0",
         "count",
         "1990",
         "33.0"
        ],
        [
         "1",
         "mean",
         "1990",
         "2708.7022818181817"
        ],
        [
         "2",
         "std",
         "1990",
         "0.24044177238808476"
        ],
        [
         "3",
         "min",
         "1990",
         "2708.5233"
        ],
        [
         "4",
         "25%",
         "1990",
         "2708.5233"
        ],
        [
         "5",
         "50%",
         "1990",
         "2708.5233"
        ],
        [
         "6",
         "75%",
         "1990",
         "2709.0155"
        ],
        [
         "7",
         "max",
         "1990",
         "2709.0155"
        ],
        [
         "8",
         "count",
         "1995",
         "33.0"
        ],
        [
         "9",
         "mean",
         "1995",
         "2708.7022818181817"
        ],
        [
         "10",
         "std",
         "1995",
         "0.24044177238808476"
        ],
        [
         "11",
         "min",
         "1995",
         "2708.5233"
        ],
        [
         "12",
         "25%",
         "1995",
         "2708.5233"
        ],
        [
         "13",
         "50%",
         "1995",
         "2708.5233"
        ],
        [
         "14",
         "75%",
         "1995",
         "2709.0155"
        ],
        [
         "15",
         "max",
         "1995",
         "2709.0155"
        ],
        [
         "16",
         "count",
         "2000",
         "197.0"
        ],
        [
         "17",
         "mean",
         "2000",
         "2708.553281725888"
        ],
        [
         "18",
         "std",
         "2000",
         "0.11802036347585598"
        ],
        [
         "19",
         "min",
         "2000",
         "2708.5233"
        ],
        [
         "20",
         "25%",
         "2000",
         "2708.5233"
        ],
        [
         "21",
         "50%",
         "2000",
         "2708.5233"
        ],
        [
         "22",
         "75%",
         "2000",
         "2708.5233"
        ],
        [
         "23",
         "max",
         "2000",
         "2709.0155"
        ],
        [
         "24",
         "count",
         "2005",
         "416.0"
        ],
        [
         "25",
         "mean",
         "2005",
         "5329.782228614904"
        ],
        [
         "26",
         "std",
         "2005",
         "4415.543588193586"
        ],
        [
         "27",
         "min",
         "2005",
         "3045.818600000001"
        ],
        [
         "28",
         "25%",
         "2005",
         "3073.6269"
        ],
        [
         "29",
         "50%",
         "2005",
         "3226.347"
        ],
        [
         "30",
         "75%",
         "2005",
         "3360.2535366"
        ],
        [
         "31",
         "max",
         "2005",
         "14502.5534"
        ],
        [
         "32",
         "count",
         "2010",
         "450.0"
        ],
        [
         "33",
         "mean",
         "2010",
         "5524.150268230667"
        ],
        [
         "34",
         "std",
         "2010",
         "4561.997793234115"
        ],
        [
         "35",
         "min",
         "2010",
         "2729.9307"
        ],
        [
         "36",
         "25%",
         "2010",
         "3360.2535366"
        ],
        [
         "37",
         "50%",
         "2010",
         "3463.4496"
        ],
        [
         "38",
         "75%",
         "2010",
         "3613.8"
        ],
        [
         "39",
         "max",
         "2010",
         "15459.0828"
        ],
        [
         "40",
         "count",
         "2015",
         "450.0"
        ],
        [
         "41",
         "mean",
         "2015",
         "6115.48045004455"
        ],
        [
         "42",
         "std",
         "2015",
         "5101.955610529922"
        ],
        [
         "43",
         "min",
         "2015",
         "3179.632"
        ],
        [
         "44",
         "25%",
         "2015",
         "3694.19190208394"
        ],
        [
         "45",
         "50%",
         "2015",
         "3754.2045"
        ],
        [
         "46",
         "75%",
         "2015",
         "4049.651"
        ],
        [
         "47",
         "max",
         "2015",
         "17603.5522"
        ],
        [
         "48",
         "count",
         "2020",
         "471.0"
        ],
        [
         "49",
         "mean",
         "2020",
         "6689.75368097813"
        ]
       ],
       "shape": {
        "columns": 3,
        "rows": 192
       }
      },
      "text/html": [
       "<div>\n",
       "<style scoped>\n",
       "    .dataframe tbody tr th:only-of-type {\n",
       "        vertical-align: middle;\n",
       "    }\n",
       "\n",
       "    .dataframe tbody tr th {\n",
       "        vertical-align: top;\n",
       "    }\n",
       "\n",
       "    .dataframe thead th {\n",
       "        text-align: right;\n",
       "    }\n",
       "</style>\n",
       "<table border=\"1\" class=\"dataframe\">\n",
       "  <thead>\n",
       "    <tr style=\"text-align: right;\">\n",
       "      <th></th>\n",
       "      <th>variables</th>\n",
       "      <th>year</th>\n",
       "      <th>value</th>\n",
       "    </tr>\n",
       "  </thead>\n",
       "  <tbody>\n",
       "    <tr>\n",
       "      <th>0</th>\n",
       "      <td>count</td>\n",
       "      <td>1990</td>\n",
       "      <td>33.000000</td>\n",
       "    </tr>\n",
       "    <tr>\n",
       "      <th>1</th>\n",
       "      <td>mean</td>\n",
       "      <td>1990</td>\n",
       "      <td>2708.702282</td>\n",
       "    </tr>\n",
       "    <tr>\n",
       "      <th>2</th>\n",
       "      <td>std</td>\n",
       "      <td>1990</td>\n",
       "      <td>0.240442</td>\n",
       "    </tr>\n",
       "    <tr>\n",
       "      <th>3</th>\n",
       "      <td>min</td>\n",
       "      <td>1990</td>\n",
       "      <td>2708.523300</td>\n",
       "    </tr>\n",
       "    <tr>\n",
       "      <th>4</th>\n",
       "      <td>25%</td>\n",
       "      <td>1990</td>\n",
       "      <td>2708.523300</td>\n",
       "    </tr>\n",
       "    <tr>\n",
       "      <th>...</th>\n",
       "      <td>...</td>\n",
       "      <td>...</td>\n",
       "      <td>...</td>\n",
       "    </tr>\n",
       "    <tr>\n",
       "      <th>187</th>\n",
       "      <td>min</td>\n",
       "      <td>2110</td>\n",
       "      <td>4500.093744</td>\n",
       "    </tr>\n",
       "    <tr>\n",
       "      <th>188</th>\n",
       "      <td>25%</td>\n",
       "      <td>2110</td>\n",
       "      <td>4519.631078</td>\n",
       "    </tr>\n",
       "    <tr>\n",
       "      <th>189</th>\n",
       "      <td>50%</td>\n",
       "      <td>2110</td>\n",
       "      <td>7952.194749</td>\n",
       "    </tr>\n",
       "    <tr>\n",
       "      <th>190</th>\n",
       "      <td>75%</td>\n",
       "      <td>2110</td>\n",
       "      <td>8289.487056</td>\n",
       "    </tr>\n",
       "    <tr>\n",
       "      <th>191</th>\n",
       "      <td>max</td>\n",
       "      <td>2110</td>\n",
       "      <td>10353.764878</td>\n",
       "    </tr>\n",
       "  </tbody>\n",
       "</table>\n",
       "<p>192 rows × 3 columns</p>\n",
       "</div>"
      ],
      "text/plain": [
       "    variables  year         value\n",
       "0       count  1990     33.000000\n",
       "1        mean  1990   2708.702282\n",
       "2         std  1990      0.240442\n",
       "3         min  1990   2708.523300\n",
       "4         25%  1990   2708.523300\n",
       "..        ...   ...           ...\n",
       "187       min  2110   4500.093744\n",
       "188       25%  2110   4519.631078\n",
       "189       50%  2110   7952.194749\n",
       "190       75%  2110   8289.487056\n",
       "191       max  2110  10353.764878\n",
       "\n",
       "[192 rows x 3 columns]"
      ]
     },
     "execution_count": 35,
     "metadata": {},
     "output_type": "execute_result"
    }
   ],
   "source": [
    "data.filter(variable=\"Agricultural Demand\", region=\"World\").timeseries().describe().pipe(\n",
    "    reshape_summary_data\n",
    ")\n",
    "# data.filter(variable=\"Agricultural Demand\", region=\"World\").plot(\n",
    "#     kind=\"line\",\n",
    "#     x=\"year\",\n",
    "#     y=\"value\",\n",
    "#     color=\"scenario\",\n",
    "#     title=\"Agricultural Demand in World\",\n",
    "#     xlabel=\"Year\",\n",
    "#     ylabel=\"Agricultural Demand\",\n",
    "# )"
   ]
  },
  {
   "cell_type": "code",
   "execution_count": null,
   "metadata": {},
   "outputs": [],
   "source": [
    "def apply_filter(df, filters):\n",
    "    \"\"\"\n",
    "    Apply filters to a DataFrame.\n",
    "    \"\"\"\n",
    "    for key, value in filters.items():\n",
    "        if isinstance(value, list):\n",
    "            df = df[df[key].isin(value)]\n",
    "        else:\n",
    "            df = df[df[key] == value]\n",
    "    return df\n",
    "\n",
    "\n",
    "def compute_enssemble_aggregation(df, filters):\n",
    "    \"\"\"\n",
    "    Compute ensemble aggregation for a given DataFrame and filters.\n",
    "    \"\"\"\n",
    "    filtered_df = apply_filter(df, filters)\n",
    "    # Compute the mean value for each year\n",
    "    mean_df = filtered_df.groupby(\"year\").mean().reset_index()\n",
    "    # Compute the median value for each year\n",
    "    median_df = filtered_df.groupby(\"year\").median().reset_index()\n",
    "    return mean_df, median_df"
   ]
  },
  {
   "cell_type": "markdown",
   "metadata": {},
   "source": [
    "### Visualization: flow 1, hunger and biodiversity\n"
   ]
  },
  {
   "cell_type": "code",
   "execution_count": 12,
   "metadata": {},
   "outputs": [
    {
     "data": {
      "application/vnd.microsoft.datawrangler.viewer.v0+json": {
       "columns": [
        {
         "name": "index",
         "rawType": "int64",
         "type": "integer"
        },
        {
         "name": "name",
         "rawType": "object",
         "type": "string"
        },
        {
         "name": "id",
         "rawType": "int64",
         "type": "integer"
        },
        {
         "name": "created_at",
         "rawType": "object",
         "type": "string"
        },
        {
         "name": "created_by",
         "rawType": "object",
         "type": "string"
        }
       ],
       "ref": "e3a0ef00-b3ea-4fc2-9d31-f8a569d2fa67",
       "rows": [
        [
         "170",
         "Population|Risk of Hunger",
         "171",
         "2025-03-28T12:04:32.245190",
         "@unknown"
        ],
        [
         "1065",
         "Terrestrial Biodiversity|Shannon Crop Diversity Index",
         "1066",
         "2025-04-07T11:32:05.677782",
         "@unknown"
        ],
        [
         "1169",
         "Terrestrial Biodiversity|Biodiversity Intactness Index",
         "1170",
         "2025-04-09T07:54:50.497128",
         "@unknown"
        ],
        [
         "1170",
         "Terrestrial Biodiversity|Mean Species Abundance|Plants",
         "1171",
         "2025-04-09T07:54:50.544049",
         "@unknown"
        ]
       ],
       "shape": {
        "columns": 4,
        "rows": 4
       }
      },
      "text/html": [
       "<div>\n",
       "<style scoped>\n",
       "    .dataframe tbody tr th:only-of-type {\n",
       "        vertical-align: middle;\n",
       "    }\n",
       "\n",
       "    .dataframe tbody tr th {\n",
       "        vertical-align: top;\n",
       "    }\n",
       "\n",
       "    .dataframe thead th {\n",
       "        text-align: right;\n",
       "    }\n",
       "</style>\n",
       "<table border=\"1\" class=\"dataframe\">\n",
       "  <thead>\n",
       "    <tr style=\"text-align: right;\">\n",
       "      <th></th>\n",
       "      <th>name</th>\n",
       "      <th>id</th>\n",
       "      <th>created_at</th>\n",
       "      <th>created_by</th>\n",
       "    </tr>\n",
       "  </thead>\n",
       "  <tbody>\n",
       "    <tr>\n",
       "      <th>170</th>\n",
       "      <td>Population|Risk of Hunger</td>\n",
       "      <td>171</td>\n",
       "      <td>2025-03-28T12:04:32.245190</td>\n",
       "      <td>@unknown</td>\n",
       "    </tr>\n",
       "    <tr>\n",
       "      <th>1065</th>\n",
       "      <td>Terrestrial Biodiversity|Shannon Crop Diversit...</td>\n",
       "      <td>1066</td>\n",
       "      <td>2025-04-07T11:32:05.677782</td>\n",
       "      <td>@unknown</td>\n",
       "    </tr>\n",
       "    <tr>\n",
       "      <th>1169</th>\n",
       "      <td>Terrestrial Biodiversity|Biodiversity Intactne...</td>\n",
       "      <td>1170</td>\n",
       "      <td>2025-04-09T07:54:50.497128</td>\n",
       "      <td>@unknown</td>\n",
       "    </tr>\n",
       "    <tr>\n",
       "      <th>1170</th>\n",
       "      <td>Terrestrial Biodiversity|Mean Species Abundanc...</td>\n",
       "      <td>1171</td>\n",
       "      <td>2025-04-09T07:54:50.544049</td>\n",
       "      <td>@unknown</td>\n",
       "    </tr>\n",
       "  </tbody>\n",
       "</table>\n",
       "</div>"
      ],
      "text/plain": [
       "                                                   name    id  \\\n",
       "170                           Population|Risk of Hunger   171   \n",
       "1065  Terrestrial Biodiversity|Shannon Crop Diversit...  1066   \n",
       "1169  Terrestrial Biodiversity|Biodiversity Intactne...  1170   \n",
       "1170  Terrestrial Biodiversity|Mean Species Abundanc...  1171   \n",
       "\n",
       "                      created_at created_by  \n",
       "170   2025-03-28T12:04:32.245190   @unknown  \n",
       "1065  2025-04-07T11:32:05.677782   @unknown  \n",
       "1169  2025-04-09T07:54:50.497128   @unknown  \n",
       "1170  2025-04-09T07:54:50.544049   @unknown  "
      ]
     },
     "execution_count": 12,
     "metadata": {},
     "output_type": "execute_result"
    }
   ],
   "source": [
    "variables[\n",
    "    variables[\"name\"].str.contains(\"Hunger\", case=False)\n",
    "    | variables[\"name\"].str.contains(\"biodiversity\", case=False)\n",
    "    ]"
   ]
  },
  {
   "cell_type": "code",
   "execution_count": null,
   "metadata": {},
   "outputs": [
    {
     "data": {
      "application/vnd.microsoft.datawrangler.viewer.v0+json": {
       "columns": [
        {
         "name": "index",
         "rawType": "int64",
         "type": "integer"
        },
        {
         "name": "name",
         "rawType": "object",
         "type": "string"
        },
        {
         "name": "hierarchy",
         "rawType": "object",
         "type": "string"
        },
        {
         "name": "id",
         "rawType": "int64",
         "type": "integer"
        },
        {
         "name": "created_at",
         "rawType": "datetime64[ns]",
         "type": "datetime"
        },
        {
         "name": "created_by",
         "rawType": "object",
         "type": "string"
        }
       ],
       "ref": "4d2646bf-83ac-4227-bb90-ed619487a9ac",
       "rows": [
        [
         "0",
         "World",
         "common",
         "318",
         "2025-03-20 15:11:06.387377",
         "@unknown"
        ],
        [
         "1",
         "OECD & EU (R5)",
         "R5",
         "321",
         "2025-03-28 11:50:38.810880",
         "@unknown"
        ],
        [
         "2",
         "Reforming Economies (R5)",
         "R5",
         "322",
         "2025-03-28 11:50:38.858697",
         "@unknown"
        ],
        [
         "3",
         "Asia (R5)",
         "R5",
         "323",
         "2025-03-28 11:50:38.909370",
         "@unknown"
        ],
        [
         "4",
         "Middle East & Africa (R5)",
         "R5",
         "324",
         "2025-03-28 11:50:38.968712",
         "@unknown"
        ],
        [
         "5",
         "Latin America (R5)",
         "R5",
         "325",
         "2025-03-28 11:50:39.017241",
         "@unknown"
        ],
        [
         "6",
         "European Union (R9)",
         "R9",
         "327",
         "2025-03-28 11:50:39.097700",
         "@unknown"
        ],
        [
         "7",
         "USA (R9)",
         "R9",
         "328",
         "2025-03-28 11:50:39.155095",
         "@unknown"
        ],
        [
         "8",
         "Other OECD (R9)",
         "R9",
         "329",
         "2025-03-28 11:50:39.204072",
         "@unknown"
        ],
        [
         "9",
         "China (R9)",
         "R9",
         "330",
         "2025-03-28 11:50:39.252579",
         "@unknown"
        ],
        [
         "10",
         "India (R9)",
         "R9",
         "331",
         "2025-03-28 11:50:39.300027",
         "@unknown"
        ],
        [
         "11",
         "Other Asia (R9)",
         "R9",
         "332",
         "2025-03-28 11:50:39.349337",
         "@unknown"
        ],
        [
         "12",
         "Reforming Economies (R9)",
         "R9",
         "333",
         "2025-03-28 11:50:39.386631",
         "@unknown"
        ],
        [
         "13",
         "Middle East & Africa (R9)",
         "R9",
         "334",
         "2025-03-28 11:50:39.434467",
         "@unknown"
        ],
        [
         "14",
         "Latin America (R9)",
         "R9",
         "335",
         "2025-03-28 11:50:39.483151",
         "@unknown"
        ],
        [
         "15",
         "Africa (R10)",
         "R10",
         "337",
         "2025-03-28 11:50:39.583330",
         "@unknown"
        ],
        [
         "16",
         "China+ (R10)",
         "R10",
         "338",
         "2025-03-28 11:50:39.637962",
         "@unknown"
        ],
        [
         "17",
         "Europe (R10)",
         "R10",
         "339",
         "2025-03-28 11:50:39.689206",
         "@unknown"
        ],
        [
         "18",
         "India+ (R10)",
         "R10",
         "340",
         "2025-03-28 11:50:40.123512",
         "@unknown"
        ],
        [
         "19",
         "Latin America (R10)",
         "R10",
         "341",
         "2025-03-28 11:50:40.176589",
         "@unknown"
        ],
        [
         "20",
         "Middle East (R10)",
         "R10",
         "342",
         "2025-03-28 11:50:40.225157",
         "@unknown"
        ],
        [
         "21",
         "North America (R10)",
         "R10",
         "343",
         "2025-03-28 11:50:40.286710",
         "@unknown"
        ],
        [
         "22",
         "Pacific OECD (R10)",
         "R10",
         "344",
         "2025-03-28 11:50:40.338029",
         "@unknown"
        ],
        [
         "23",
         "Reforming Economies (R10)",
         "R10",
         "345",
         "2025-03-28 11:50:40.385951",
         "@unknown"
        ],
        [
         "24",
         "Rest of Asia (R10)",
         "R10",
         "346",
         "2025-03-28 11:50:40.426128",
         "@unknown"
        ],
        [
         "25",
         "Other (R10)",
         "R10",
         "347",
         "2025-03-28 11:50:40.485705",
         "@unknown"
        ],
        [
         "26",
         "Brazil",
         "G20 Members",
         "350",
         "2025-03-28 11:50:40.640570",
         "@unknown"
        ],
        [
         "27",
         "Canada",
         "G20 Members",
         "351",
         "2025-03-28 11:50:40.690639",
         "@unknown"
        ],
        [
         "28",
         "China",
         "G20 Members",
         "352",
         "2025-03-28 11:50:40.738379",
         "@unknown"
        ],
        [
         "29",
         "India",
         "G20 Members",
         "355",
         "2025-03-28 11:50:40.887057",
         "@unknown"
        ],
        [
         "30",
         "Indonesia",
         "G20 Members",
         "356",
         "2025-03-28 11:50:40.933511",
         "@unknown"
        ],
        [
         "31",
         "Japan",
         "G20 Members",
         "358",
         "2025-03-28 11:50:41.032181",
         "@unknown"
        ],
        [
         "32",
         "Mexico",
         "G20 Members",
         "359",
         "2025-03-28 11:50:41.095122",
         "@unknown"
        ],
        [
         "33",
         "Russian Federation",
         "G20 Members",
         "360",
         "2025-03-28 11:50:41.143101",
         "@unknown"
        ],
        [
         "34",
         "South Africa",
         "G20 Members",
         "362",
         "2025-03-28 11:50:41.249749",
         "@unknown"
        ],
        [
         "35",
         "Turkey",
         "G20 Members",
         "364",
         "2025-03-28 11:50:41.352491",
         "@unknown"
        ],
        [
         "36",
         "United States",
         "G20 Members",
         "366",
         "2025-03-28 11:50:41.449121",
         "@unknown"
        ],
        [
         "37",
         "European Union and United Kingdom",
         "G20 Members",
         "369",
         "2025-03-28 11:50:41.594639",
         "@unknown"
        ],
        [
         "38",
         "MESSAGEix-GLOBIOM 1.1-R12|China",
         "MESSAGEix-GLOBIOM 1.1-R12",
         "429",
         "2025-04-07 08:57:21.497012",
         "@unknown"
        ],
        [
         "39",
         "MESSAGEix-GLOBIOM 1.1-R12|Eastern Europe",
         "MESSAGEix-GLOBIOM 1.1-R12",
         "430",
         "2025-04-07 08:57:21.725675",
         "@unknown"
        ],
        [
         "40",
         "MESSAGEix-GLOBIOM 1.1-R12|Former Soviet Union",
         "MESSAGEix-GLOBIOM 1.1-R12",
         "431",
         "2025-04-07 08:57:21.756923",
         "@unknown"
        ],
        [
         "41",
         "MESSAGEix-GLOBIOM 1.1-R12|Latin America and the Caribbean",
         "MESSAGEix-GLOBIOM 1.1-R12",
         "432",
         "2025-04-07 08:57:21.788366",
         "@unknown"
        ],
        [
         "42",
         "MESSAGEix-GLOBIOM 1.1-R12|Middle East and North Africa",
         "MESSAGEix-GLOBIOM 1.1-R12",
         "433",
         "2025-04-07 08:57:21.821879",
         "@unknown"
        ],
        [
         "43",
         "MESSAGEix-GLOBIOM 1.1-R12|North America",
         "MESSAGEix-GLOBIOM 1.1-R12",
         "434",
         "2025-04-07 08:57:21.837438",
         "@unknown"
        ],
        [
         "44",
         "MESSAGEix-GLOBIOM 1.1-R12|Other Pacific Asia",
         "MESSAGEix-GLOBIOM 1.1-R12",
         "435",
         "2025-04-07 08:57:21.866239",
         "@unknown"
        ],
        [
         "45",
         "MESSAGEix-GLOBIOM 1.1-R12|Pacific OECD",
         "MESSAGEix-GLOBIOM 1.1-R12",
         "436",
         "2025-04-07 08:57:21.897755",
         "@unknown"
        ],
        [
         "46",
         "MESSAGEix-GLOBIOM 1.1-R12|Rest of Centrally Planned Asia",
         "MESSAGEix-GLOBIOM 1.1-R12",
         "437",
         "2025-04-07 08:57:21.928785",
         "@unknown"
        ],
        [
         "47",
         "MESSAGEix-GLOBIOM 1.1-R12|South Asia",
         "MESSAGEix-GLOBIOM 1.1-R12",
         "438",
         "2025-04-07 08:57:21.966558",
         "@unknown"
        ],
        [
         "48",
         "MESSAGEix-GLOBIOM 1.1-R12|Sub-Saharan Africa",
         "MESSAGEix-GLOBIOM 1.1-R12",
         "439",
         "2025-04-07 08:57:21.997830",
         "@unknown"
        ],
        [
         "49",
         "MESSAGEix-GLOBIOM 1.1-R12|Western Europe",
         "MESSAGEix-GLOBIOM 1.1-R12",
         "440",
         "2025-04-07 08:57:22.029099",
         "@unknown"
        ]
       ],
       "shape": {
        "columns": 5,
        "rows": 88
       }
      },
      "text/html": [
       "<div>\n",
       "<style scoped>\n",
       "    .dataframe tbody tr th:only-of-type {\n",
       "        vertical-align: middle;\n",
       "    }\n",
       "\n",
       "    .dataframe tbody tr th {\n",
       "        vertical-align: top;\n",
       "    }\n",
       "\n",
       "    .dataframe thead th {\n",
       "        text-align: right;\n",
       "    }\n",
       "</style>\n",
       "<table border=\"1\" class=\"dataframe\">\n",
       "  <thead>\n",
       "    <tr style=\"text-align: right;\">\n",
       "      <th></th>\n",
       "      <th>name</th>\n",
       "      <th>hierarchy</th>\n",
       "      <th>id</th>\n",
       "      <th>created_at</th>\n",
       "      <th>created_by</th>\n",
       "    </tr>\n",
       "  </thead>\n",
       "  <tbody>\n",
       "    <tr>\n",
       "      <th>0</th>\n",
       "      <td>World</td>\n",
       "      <td>common</td>\n",
       "      <td>318</td>\n",
       "      <td>2025-03-20 15:11:06.387377</td>\n",
       "      <td>@unknown</td>\n",
       "    </tr>\n",
       "    <tr>\n",
       "      <th>1</th>\n",
       "      <td>OECD &amp; EU (R5)</td>\n",
       "      <td>R5</td>\n",
       "      <td>321</td>\n",
       "      <td>2025-03-28 11:50:38.810880</td>\n",
       "      <td>@unknown</td>\n",
       "    </tr>\n",
       "    <tr>\n",
       "      <th>2</th>\n",
       "      <td>Reforming Economies (R5)</td>\n",
       "      <td>R5</td>\n",
       "      <td>322</td>\n",
       "      <td>2025-03-28 11:50:38.858697</td>\n",
       "      <td>@unknown</td>\n",
       "    </tr>\n",
       "    <tr>\n",
       "      <th>3</th>\n",
       "      <td>Asia (R5)</td>\n",
       "      <td>R5</td>\n",
       "      <td>323</td>\n",
       "      <td>2025-03-28 11:50:38.909370</td>\n",
       "      <td>@unknown</td>\n",
       "    </tr>\n",
       "    <tr>\n",
       "      <th>4</th>\n",
       "      <td>Middle East &amp; Africa (R5)</td>\n",
       "      <td>R5</td>\n",
       "      <td>324</td>\n",
       "      <td>2025-03-28 11:50:38.968712</td>\n",
       "      <td>@unknown</td>\n",
       "    </tr>\n",
       "    <tr>\n",
       "      <th>...</th>\n",
       "      <td>...</td>\n",
       "      <td>...</td>\n",
       "      <td>...</td>\n",
       "      <td>...</td>\n",
       "      <td>...</td>\n",
       "    </tr>\n",
       "    <tr>\n",
       "      <th>83</th>\n",
       "      <td>REMIND-MAgPIE 3.2-4.6|Non-EU28 Europe</td>\n",
       "      <td>REMIND-MAgPIE 3.2-4.6</td>\n",
       "      <td>574</td>\n",
       "      <td>2025-04-17 08:39:53.332686</td>\n",
       "      <td>@unknown</td>\n",
       "    </tr>\n",
       "    <tr>\n",
       "      <th>84</th>\n",
       "      <td>REMIND-MAgPIE 3.2-4.6|Other Asia</td>\n",
       "      <td>REMIND-MAgPIE 3.2-4.6</td>\n",
       "      <td>575</td>\n",
       "      <td>2025-04-17 08:39:53.375072</td>\n",
       "      <td>@unknown</td>\n",
       "    </tr>\n",
       "    <tr>\n",
       "      <th>85</th>\n",
       "      <td>REMIND-MAgPIE 3.2-4.6|Russia and Reforming Eco...</td>\n",
       "      <td>REMIND-MAgPIE 3.2-4.6</td>\n",
       "      <td>576</td>\n",
       "      <td>2025-04-17 08:39:53.425509</td>\n",
       "      <td>@unknown</td>\n",
       "    </tr>\n",
       "    <tr>\n",
       "      <th>86</th>\n",
       "      <td>REMIND-MAgPIE 3.2-4.6|Sub-Saharan Africa</td>\n",
       "      <td>REMIND-MAgPIE 3.2-4.6</td>\n",
       "      <td>577</td>\n",
       "      <td>2025-04-17 08:39:53.465847</td>\n",
       "      <td>@unknown</td>\n",
       "    </tr>\n",
       "    <tr>\n",
       "      <th>87</th>\n",
       "      <td>REMIND-MAgPIE 3.2-4.6|United States of America</td>\n",
       "      <td>REMIND-MAgPIE 3.2-4.6</td>\n",
       "      <td>578</td>\n",
       "      <td>2025-04-17 08:39:53.496161</td>\n",
       "      <td>@unknown</td>\n",
       "    </tr>\n",
       "  </tbody>\n",
       "</table>\n",
       "<p>88 rows × 5 columns</p>\n",
       "</div>"
      ],
      "text/plain": [
       "                                                 name              hierarchy  \\\n",
       "0                                               World                 common   \n",
       "1                                      OECD & EU (R5)                     R5   \n",
       "2                            Reforming Economies (R5)                     R5   \n",
       "3                                           Asia (R5)                     R5   \n",
       "4                           Middle East & Africa (R5)                     R5   \n",
       "..                                                ...                    ...   \n",
       "83              REMIND-MAgPIE 3.2-4.6|Non-EU28 Europe  REMIND-MAgPIE 3.2-4.6   \n",
       "84                   REMIND-MAgPIE 3.2-4.6|Other Asia  REMIND-MAgPIE 3.2-4.6   \n",
       "85  REMIND-MAgPIE 3.2-4.6|Russia and Reforming Eco...  REMIND-MAgPIE 3.2-4.6   \n",
       "86           REMIND-MAgPIE 3.2-4.6|Sub-Saharan Africa  REMIND-MAgPIE 3.2-4.6   \n",
       "87     REMIND-MAgPIE 3.2-4.6|United States of America  REMIND-MAgPIE 3.2-4.6   \n",
       "\n",
       "     id                 created_at created_by  \n",
       "0   318 2025-03-20 15:11:06.387377   @unknown  \n",
       "1   321 2025-03-28 11:50:38.810880   @unknown  \n",
       "2   322 2025-03-28 11:50:38.858697   @unknown  \n",
       "3   323 2025-03-28 11:50:38.909370   @unknown  \n",
       "4   324 2025-03-28 11:50:38.968712   @unknown  \n",
       "..  ...                        ...        ...  \n",
       "83  574 2025-04-17 08:39:53.332686   @unknown  \n",
       "84  575 2025-04-17 08:39:53.375072   @unknown  \n",
       "85  576 2025-04-17 08:39:53.425509   @unknown  \n",
       "86  577 2025-04-17 08:39:53.465847   @unknown  \n",
       "87  578 2025-04-17 08:39:53.496161   @unknown  \n",
       "\n",
       "[88 rows x 5 columns]"
      ]
     },
     "execution_count": 14,
     "metadata": {},
     "output_type": "execute_result"
    }
   ],
   "source": [
    "regions_available = create_df_from_api_response(\n",
    "    client.get_data(\n",
    "        \"regions/\",\n",
    "        params={\"table\": \"true\"},\n",
    "        body={\"iamc\": {\"variable\": {\"id__in\": [171, 1170]}}},\n",
    "    )\n",
    ")\n",
    "\n",
    "regions_available"
   ]
  },
  {
   "cell_type": "code",
   "metadata": {
    "ExecuteTime": {
     "end_time": "2025-07-28T17:27:26.680013Z",
     "start_time": "2025-07-28T17:27:20.860910Z"
    }
   },
   "source": [
    "data = create_iamdf(\n",
    "    create_df_from_api_response(\n",
    "        client.get_data(\n",
    "            \"iamc/datapoints/\",\n",
    "            params={\n",
    "                \"join_parameters\": \"true\",\n",
    "                \"join_runs\": \"true\",\n",
    "                \"table\": \"true\",\n",
    "            },\n",
    "            body={\n",
    "                \"variable\": {\"name__in\": [\"Population|Risk of Hunger\"]},\n",
    "                # \"region\": {\"hierarchy\": \"R5\"},\n",
    "                \"year__gte\": 2020,\n",
    "                \"year__lte\": 2100,\n",
    "            },\n",
    "        )\n",
    "    )\n",
    ")\n",
    "\n",
    "data.filter(year=2020).data"
   ],
   "outputs": [
    {
     "data": {
      "text/plain": [
       "                      model                scenario  \\\n",
       "0              AIM/CGE V2.2  ENGAGE-INDCi2030-1000f   \n",
       "1              AIM/CGE V2.2  ENGAGE-INDCi2030-1000f   \n",
       "2              AIM/CGE V2.2  ENGAGE-INDCi2030-1000f   \n",
       "3              AIM/CGE V2.2  ENGAGE-INDCi2030-1000f   \n",
       "4              AIM/CGE V2.2  ENGAGE-INDCi2030-1000f   \n",
       "...                     ...                     ...   \n",
       "3446  REMIND-MAgPIE 3.2-4.6        SHAPE-SSP2-1.5°C   \n",
       "3447  REMIND-MAgPIE 3.2-4.6        SHAPE-SSP2-1.5°C   \n",
       "3448  REMIND-MAgPIE 3.2-4.6        SHAPE-SSP2-1.5°C   \n",
       "3449  REMIND-MAgPIE 3.2-4.6        SHAPE-SSP2-1.5°C   \n",
       "3450  REMIND-MAgPIE 3.2-4.6        SHAPE-SSP2-1.5°C   \n",
       "\n",
       "                         region                   variable     unit  year  \\\n",
       "0                  Africa (R10)  Population|Risk of Hunger  million  2020   \n",
       "1                     Asia (R5)  Population|Risk of Hunger  million  2020   \n",
       "2                  China+ (R10)  Population|Risk of Hunger  million  2020   \n",
       "3                  India+ (R10)  Population|Risk of Hunger  million  2020   \n",
       "4           Latin America (R10)  Population|Risk of Hunger  million  2020   \n",
       "...                         ...                        ...      ...   ...   \n",
       "3446  Reforming Economies (R10)  Population|Risk of Hunger  million  2020   \n",
       "3447   Reforming Economies (R5)  Population|Risk of Hunger  million  2020   \n",
       "3448         Rest of Asia (R10)  Population|Risk of Hunger  million  2020   \n",
       "3449              United States  Population|Risk of Hunger  million  2020   \n",
       "3450                      World  Population|Risk of Hunger  million  2020   \n",
       "\n",
       "      version    type  time_series__id     value  \n",
       "0           1  ANNUAL              150  191.0639  \n",
       "1           1  ANNUAL              354  320.6110  \n",
       "2           1  ANNUAL              549   47.6305  \n",
       "3           1  ANNUAL              946  136.7263  \n",
       "4           1  ANNUAL             1146   34.6909  \n",
       "...       ...     ...              ...       ...  \n",
       "3446        1  ANNUAL          3291982    4.5569  \n",
       "3447        1  ANNUAL          3292633    4.5569  \n",
       "3448        1  ANNUAL          3293284  169.6983  \n",
       "3449        1  ANNUAL          3293955    3.6119  \n",
       "3450        1  ANNUAL          3294624  730.0489  \n",
       "\n",
       "[3451 rows x 10 columns]"
      ],
      "text/html": [
       "<div>\n",
       "<style scoped>\n",
       "    .dataframe tbody tr th:only-of-type {\n",
       "        vertical-align: middle;\n",
       "    }\n",
       "\n",
       "    .dataframe tbody tr th {\n",
       "        vertical-align: top;\n",
       "    }\n",
       "\n",
       "    .dataframe thead th {\n",
       "        text-align: right;\n",
       "    }\n",
       "</style>\n",
       "<table border=\"1\" class=\"dataframe\">\n",
       "  <thead>\n",
       "    <tr style=\"text-align: right;\">\n",
       "      <th></th>\n",
       "      <th>model</th>\n",
       "      <th>scenario</th>\n",
       "      <th>region</th>\n",
       "      <th>variable</th>\n",
       "      <th>unit</th>\n",
       "      <th>year</th>\n",
       "      <th>version</th>\n",
       "      <th>type</th>\n",
       "      <th>time_series__id</th>\n",
       "      <th>value</th>\n",
       "    </tr>\n",
       "  </thead>\n",
       "  <tbody>\n",
       "    <tr>\n",
       "      <th>0</th>\n",
       "      <td>AIM/CGE V2.2</td>\n",
       "      <td>ENGAGE-INDCi2030-1000f</td>\n",
       "      <td>Africa (R10)</td>\n",
       "      <td>Population|Risk of Hunger</td>\n",
       "      <td>million</td>\n",
       "      <td>2020</td>\n",
       "      <td>1</td>\n",
       "      <td>ANNUAL</td>\n",
       "      <td>150</td>\n",
       "      <td>191.0639</td>\n",
       "    </tr>\n",
       "    <tr>\n",
       "      <th>1</th>\n",
       "      <td>AIM/CGE V2.2</td>\n",
       "      <td>ENGAGE-INDCi2030-1000f</td>\n",
       "      <td>Asia (R5)</td>\n",
       "      <td>Population|Risk of Hunger</td>\n",
       "      <td>million</td>\n",
       "      <td>2020</td>\n",
       "      <td>1</td>\n",
       "      <td>ANNUAL</td>\n",
       "      <td>354</td>\n",
       "      <td>320.6110</td>\n",
       "    </tr>\n",
       "    <tr>\n",
       "      <th>2</th>\n",
       "      <td>AIM/CGE V2.2</td>\n",
       "      <td>ENGAGE-INDCi2030-1000f</td>\n",
       "      <td>China+ (R10)</td>\n",
       "      <td>Population|Risk of Hunger</td>\n",
       "      <td>million</td>\n",
       "      <td>2020</td>\n",
       "      <td>1</td>\n",
       "      <td>ANNUAL</td>\n",
       "      <td>549</td>\n",
       "      <td>47.6305</td>\n",
       "    </tr>\n",
       "    <tr>\n",
       "      <th>3</th>\n",
       "      <td>AIM/CGE V2.2</td>\n",
       "      <td>ENGAGE-INDCi2030-1000f</td>\n",
       "      <td>India+ (R10)</td>\n",
       "      <td>Population|Risk of Hunger</td>\n",
       "      <td>million</td>\n",
       "      <td>2020</td>\n",
       "      <td>1</td>\n",
       "      <td>ANNUAL</td>\n",
       "      <td>946</td>\n",
       "      <td>136.7263</td>\n",
       "    </tr>\n",
       "    <tr>\n",
       "      <th>4</th>\n",
       "      <td>AIM/CGE V2.2</td>\n",
       "      <td>ENGAGE-INDCi2030-1000f</td>\n",
       "      <td>Latin America (R10)</td>\n",
       "      <td>Population|Risk of Hunger</td>\n",
       "      <td>million</td>\n",
       "      <td>2020</td>\n",
       "      <td>1</td>\n",
       "      <td>ANNUAL</td>\n",
       "      <td>1146</td>\n",
       "      <td>34.6909</td>\n",
       "    </tr>\n",
       "    <tr>\n",
       "      <th>...</th>\n",
       "      <td>...</td>\n",
       "      <td>...</td>\n",
       "      <td>...</td>\n",
       "      <td>...</td>\n",
       "      <td>...</td>\n",
       "      <td>...</td>\n",
       "      <td>...</td>\n",
       "      <td>...</td>\n",
       "      <td>...</td>\n",
       "      <td>...</td>\n",
       "    </tr>\n",
       "    <tr>\n",
       "      <th>3446</th>\n",
       "      <td>REMIND-MAgPIE 3.2-4.6</td>\n",
       "      <td>SHAPE-SSP2-1.5°C</td>\n",
       "      <td>Reforming Economies (R10)</td>\n",
       "      <td>Population|Risk of Hunger</td>\n",
       "      <td>million</td>\n",
       "      <td>2020</td>\n",
       "      <td>1</td>\n",
       "      <td>ANNUAL</td>\n",
       "      <td>3291982</td>\n",
       "      <td>4.5569</td>\n",
       "    </tr>\n",
       "    <tr>\n",
       "      <th>3447</th>\n",
       "      <td>REMIND-MAgPIE 3.2-4.6</td>\n",
       "      <td>SHAPE-SSP2-1.5°C</td>\n",
       "      <td>Reforming Economies (R5)</td>\n",
       "      <td>Population|Risk of Hunger</td>\n",
       "      <td>million</td>\n",
       "      <td>2020</td>\n",
       "      <td>1</td>\n",
       "      <td>ANNUAL</td>\n",
       "      <td>3292633</td>\n",
       "      <td>4.5569</td>\n",
       "    </tr>\n",
       "    <tr>\n",
       "      <th>3448</th>\n",
       "      <td>REMIND-MAgPIE 3.2-4.6</td>\n",
       "      <td>SHAPE-SSP2-1.5°C</td>\n",
       "      <td>Rest of Asia (R10)</td>\n",
       "      <td>Population|Risk of Hunger</td>\n",
       "      <td>million</td>\n",
       "      <td>2020</td>\n",
       "      <td>1</td>\n",
       "      <td>ANNUAL</td>\n",
       "      <td>3293284</td>\n",
       "      <td>169.6983</td>\n",
       "    </tr>\n",
       "    <tr>\n",
       "      <th>3449</th>\n",
       "      <td>REMIND-MAgPIE 3.2-4.6</td>\n",
       "      <td>SHAPE-SSP2-1.5°C</td>\n",
       "      <td>United States</td>\n",
       "      <td>Population|Risk of Hunger</td>\n",
       "      <td>million</td>\n",
       "      <td>2020</td>\n",
       "      <td>1</td>\n",
       "      <td>ANNUAL</td>\n",
       "      <td>3293955</td>\n",
       "      <td>3.6119</td>\n",
       "    </tr>\n",
       "    <tr>\n",
       "      <th>3450</th>\n",
       "      <td>REMIND-MAgPIE 3.2-4.6</td>\n",
       "      <td>SHAPE-SSP2-1.5°C</td>\n",
       "      <td>World</td>\n",
       "      <td>Population|Risk of Hunger</td>\n",
       "      <td>million</td>\n",
       "      <td>2020</td>\n",
       "      <td>1</td>\n",
       "      <td>ANNUAL</td>\n",
       "      <td>3294624</td>\n",
       "      <td>730.0489</td>\n",
       "    </tr>\n",
       "  </tbody>\n",
       "</table>\n",
       "<p>3451 rows × 10 columns</p>\n",
       "</div>"
      ]
     },
     "execution_count": 271,
     "metadata": {},
     "output_type": "execute_result"
    }
   ],
   "execution_count": 271
  },
  {
   "cell_type": "code",
   "execution_count": 123,
   "metadata": {},
   "outputs": [
    {
     "data": {
      "text/plain": [
       "array(['Asia (R5)', 'Latin America (R5)', 'Middle East & Africa (R5)',\n",
       "       'Reforming Economies (R5)', 'OECD & EU (R5)'], dtype=object)"
      ]
     },
     "execution_count": 123,
     "metadata": {},
     "output_type": "execute_result"
    }
   ],
   "source": [
    "data.filter(year=2020).data.region.unique()\n"
   ]
  },
  {
   "cell_type": "code",
   "execution_count": 86,
   "metadata": {},
   "outputs": [
    {
     "data": {
      "application/vnd.microsoft.datawrangler.viewer.v0+json": {
       "columns": [
        {
         "name": "('scenario', 'region')",
         "rawType": "object",
         "type": "unknown"
        },
        {
         "name": "value",
         "rawType": "float64",
         "type": "float"
        }
       ],
       "ref": "df43f173-0c9e-49cc-94a2-54957f2aed25",
       "rows": [
        [
         "('ENGAGE-INDCi2030-1000f', 'Asia (R5)')",
         "320.61100000000005"
        ],
        [
         "('ENGAGE-INDCi2030-1000f', 'Latin America (R5)')",
         "34.6909"
        ],
        [
         "('ENGAGE-INDCi2030-1000f', 'Middle East & Africa (R5)')",
         "210.2036"
        ],
        [
         "('ENGAGE-INDCi2030-1000f', 'Reforming Economies (R5)')",
         "4.119"
        ],
        [
         "('ENGAGE-INDCi2030-1200', 'Asia (R5)')",
         "320.61100000000005"
        ],
        [
         "('ENGAGE-INDCi2030-1200', 'Latin America (R5)')",
         "34.6909"
        ],
        [
         "('ENGAGE-INDCi2030-1200', 'Middle East & Africa (R5)')",
         "210.2036"
        ],
        [
         "('ENGAGE-INDCi2030-1200', 'Reforming Economies (R5)')",
         "4.119"
        ],
        [
         "('ENGAGE-INDCi2030-1200f', 'Asia (R5)')",
         "320.61100000000005"
        ],
        [
         "('ENGAGE-INDCi2030-1200f', 'Latin America (R5)')",
         "34.6909"
        ],
        [
         "('ENGAGE-INDCi2030-1200f', 'Middle East & Africa (R5)')",
         "210.2036"
        ],
        [
         "('ENGAGE-INDCi2030-1200f', 'Reforming Economies (R5)')",
         "4.119"
        ],
        [
         "('ENGAGE-INDCi2030-1400', 'Asia (R5)')",
         "320.61100000000005"
        ],
        [
         "('ENGAGE-INDCi2030-1400', 'Latin America (R5)')",
         "34.6909"
        ],
        [
         "('ENGAGE-INDCi2030-1400', 'Middle East & Africa (R5)')",
         "210.2036"
        ],
        [
         "('ENGAGE-INDCi2030-1400', 'Reforming Economies (R5)')",
         "4.119"
        ],
        [
         "('ENGAGE-INDCi2030-1400f', 'Asia (R5)')",
         "320.61100000000005"
        ],
        [
         "('ENGAGE-INDCi2030-1400f', 'Latin America (R5)')",
         "34.6909"
        ],
        [
         "('ENGAGE-INDCi2030-1400f', 'Middle East & Africa (R5)')",
         "210.2036"
        ],
        [
         "('ENGAGE-INDCi2030-1400f', 'Reforming Economies (R5)')",
         "4.119"
        ],
        [
         "('ENGAGE-INDCi2030-1600', 'Asia (R5)')",
         "320.61100000000005"
        ],
        [
         "('ENGAGE-INDCi2030-1600', 'Latin America (R5)')",
         "34.6909"
        ],
        [
         "('ENGAGE-INDCi2030-1600', 'Middle East & Africa (R5)')",
         "210.2036"
        ],
        [
         "('ENGAGE-INDCi2030-1600', 'Reforming Economies (R5)')",
         "4.119"
        ],
        [
         "('ENGAGE-INDCi2030-1600f', 'Asia (R5)')",
         "320.61100000000005"
        ],
        [
         "('ENGAGE-INDCi2030-1600f', 'Latin America (R5)')",
         "34.6909"
        ],
        [
         "('ENGAGE-INDCi2030-1600f', 'Middle East & Africa (R5)')",
         "210.2036"
        ],
        [
         "('ENGAGE-INDCi2030-1600f', 'Reforming Economies (R5)')",
         "4.119"
        ],
        [
         "('ENGAGE-INDCi2030-1800', 'Asia (R5)')",
         "320.61100000000005"
        ],
        [
         "('ENGAGE-INDCi2030-1800', 'Latin America (R5)')",
         "34.6909"
        ],
        [
         "('ENGAGE-INDCi2030-1800', 'Middle East & Africa (R5)')",
         "210.2036"
        ],
        [
         "('ENGAGE-INDCi2030-1800', 'Reforming Economies (R5)')",
         "4.119"
        ],
        [
         "('ENGAGE-INDCi2030-1800f', 'Asia (R5)')",
         "320.61100000000005"
        ],
        [
         "('ENGAGE-INDCi2030-1800f', 'Latin America (R5)')",
         "34.6909"
        ],
        [
         "('ENGAGE-INDCi2030-1800f', 'Middle East & Africa (R5)')",
         "210.2036"
        ],
        [
         "('ENGAGE-INDCi2030-1800f', 'Reforming Economies (R5)')",
         "4.119"
        ],
        [
         "('ENGAGE-INDCi2030-800f', 'Asia (R5)')",
         "320.61100000000005"
        ],
        [
         "('ENGAGE-INDCi2030-800f', 'Latin America (R5)')",
         "34.6909"
        ],
        [
         "('ENGAGE-INDCi2030-800f', 'Middle East & Africa (R5)')",
         "210.2036"
        ],
        [
         "('ENGAGE-INDCi2030-800f', 'Reforming Economies (R5)')",
         "4.119"
        ],
        [
         "('ENGAGE-INDCi2030-900f', 'Asia (R5)')",
         "320.61100000000005"
        ],
        [
         "('ENGAGE-INDCi2030-900f', 'Latin America (R5)')",
         "34.6909"
        ],
        [
         "('ENGAGE-INDCi2030-900f', 'Middle East & Africa (R5)')",
         "210.2036"
        ],
        [
         "('ENGAGE-INDCi2030-900f', 'Reforming Economies (R5)')",
         "4.119"
        ],
        [
         "('ENGAGE-INDCi2100', 'Asia (R5)')",
         "320.61100000000005"
        ],
        [
         "('ENGAGE-INDCi2100', 'Latin America (R5)')",
         "34.6909"
        ],
        [
         "('ENGAGE-INDCi2100', 'Middle East & Africa (R5)')",
         "210.2036"
        ],
        [
         "('ENGAGE-INDCi2100', 'Reforming Economies (R5)')",
         "4.119"
        ],
        [
         "('ENGAGE-NPi2020-1000', 'Asia (R5)')",
         "320.61100000000005"
        ],
        [
         "('ENGAGE-NPi2020-1000', 'Latin America (R5)')",
         "34.6909"
        ]
       ],
       "shape": {
        "columns": 1,
        "rows": 711
       }
      },
      "text/html": [
       "<div>\n",
       "<style scoped>\n",
       "    .dataframe tbody tr th:only-of-type {\n",
       "        vertical-align: middle;\n",
       "    }\n",
       "\n",
       "    .dataframe tbody tr th {\n",
       "        vertical-align: top;\n",
       "    }\n",
       "\n",
       "    .dataframe thead th {\n",
       "        text-align: right;\n",
       "    }\n",
       "</style>\n",
       "<table border=\"1\" class=\"dataframe\">\n",
       "  <thead>\n",
       "    <tr style=\"text-align: right;\">\n",
       "      <th></th>\n",
       "      <th></th>\n",
       "      <th>value</th>\n",
       "    </tr>\n",
       "    <tr>\n",
       "      <th>scenario</th>\n",
       "      <th>region</th>\n",
       "      <th></th>\n",
       "    </tr>\n",
       "  </thead>\n",
       "  <tbody>\n",
       "    <tr>\n",
       "      <th rowspan=\"4\" valign=\"top\">ENGAGE-INDCi2030-1000f</th>\n",
       "      <th>Asia (R5)</th>\n",
       "      <td>320.611000</td>\n",
       "    </tr>\n",
       "    <tr>\n",
       "      <th>Latin America (R5)</th>\n",
       "      <td>34.690900</td>\n",
       "    </tr>\n",
       "    <tr>\n",
       "      <th>Middle East &amp; Africa (R5)</th>\n",
       "      <td>210.203600</td>\n",
       "    </tr>\n",
       "    <tr>\n",
       "      <th>Reforming Economies (R5)</th>\n",
       "      <td>4.119000</td>\n",
       "    </tr>\n",
       "    <tr>\n",
       "      <th>ENGAGE-INDCi2030-1200</th>\n",
       "      <th>Asia (R5)</th>\n",
       "      <td>320.611000</td>\n",
       "    </tr>\n",
       "    <tr>\n",
       "      <th>...</th>\n",
       "      <th>...</th>\n",
       "      <td>...</td>\n",
       "    </tr>\n",
       "    <tr>\n",
       "      <th rowspan=\"5\" valign=\"top\">SHAPE-SSP2-1.5°C</th>\n",
       "      <th>Asia (R5)</th>\n",
       "      <td>365.200006</td>\n",
       "    </tr>\n",
       "    <tr>\n",
       "      <th>Latin America (R5)</th>\n",
       "      <td>49.000000</td>\n",
       "    </tr>\n",
       "    <tr>\n",
       "      <th>Middle East &amp; Africa (R5)</th>\n",
       "      <td>240.399999</td>\n",
       "    </tr>\n",
       "    <tr>\n",
       "      <th>OECD &amp; EU (R5)</th>\n",
       "      <td>4.400000</td>\n",
       "    </tr>\n",
       "    <tr>\n",
       "      <th>Reforming Economies (R5)</th>\n",
       "      <td>9.100000</td>\n",
       "    </tr>\n",
       "  </tbody>\n",
       "</table>\n",
       "<p>711 rows × 1 columns</p>\n",
       "</div>"
      ],
      "text/plain": [
       "                                                       value\n",
       "scenario               region                               \n",
       "ENGAGE-INDCi2030-1000f Asia (R5)                  320.611000\n",
       "                       Latin America (R5)          34.690900\n",
       "                       Middle East & Africa (R5)  210.203600\n",
       "                       Reforming Economies (R5)     4.119000\n",
       "ENGAGE-INDCi2030-1200  Asia (R5)                  320.611000\n",
       "...                                                      ...\n",
       "SHAPE-SSP2-1.5°C       Asia (R5)                  365.200006\n",
       "                       Latin America (R5)          49.000000\n",
       "                       Middle East & Africa (R5)  240.399999\n",
       "                       OECD & EU (R5)               4.400000\n",
       "                       Reforming Economies (R5)     9.100000\n",
       "\n",
       "[711 rows x 1 columns]"
      ]
     },
     "execution_count": 86,
     "metadata": {},
     "output_type": "execute_result"
    }
   ],
   "source": [
    "thresholds = data.data[data.data.year == 2020][\n",
    "    [\n",
    "        \"scenario\",\n",
    "        \"region\",\n",
    "        \"value\",\n",
    "    ]\n",
    "].set_index([\"scenario\", \"region\"])\n",
    "thresholds"
   ]
  },
  {
   "cell_type": "code",
   "execution_count": 88,
   "metadata": {},
   "outputs": [
    {
     "data": {
      "application/vnd.microsoft.datawrangler.viewer.v0+json": {
       "columns": [
        {
         "name": "('scenario', 'region')",
         "rawType": "object",
         "type": "unknown"
        },
        {
         "name": "value",
         "rawType": "float64",
         "type": "float"
        },
        {
         "name": "year",
         "rawType": "int64",
         "type": "integer"
        }
       ],
       "ref": "8e1f3975-18c7-428e-bcdb-1e5d0c821193",
       "rows": [
        [
         "('ENGAGE-INDCi2030-1000f', 'Asia (R5)')",
         "320.61100000000005",
         "2020"
        ],
        [
         "('ENGAGE-INDCi2030-1000f', 'Asia (R5)')",
         "259.6874",
         "2025"
        ],
        [
         "('ENGAGE-INDCi2030-1000f', 'Asia (R5)')",
         "211.24990000000005",
         "2030"
        ],
        [
         "('ENGAGE-INDCi2030-1000f', 'Asia (R5)')",
         "185.8847",
         "2035"
        ],
        [
         "('ENGAGE-INDCi2030-1000f', 'Asia (R5)')",
         "173.7231",
         "2040"
        ],
        [
         "('ENGAGE-INDCi2030-1000f', 'Asia (R5)')",
         "134.5781",
         "2045"
        ],
        [
         "('ENGAGE-INDCi2030-1000f', 'Asia (R5)')",
         "100.9146",
         "2050"
        ],
        [
         "('ENGAGE-INDCi2030-1000f', 'Asia (R5)')",
         "81.01079999999999",
         "2055"
        ],
        [
         "('ENGAGE-INDCi2030-1000f', 'Asia (R5)')",
         "67.9876",
         "2060"
        ],
        [
         "('ENGAGE-INDCi2030-1000f', 'Asia (R5)')",
         "55.2119",
         "2065"
        ],
        [
         "('ENGAGE-INDCi2030-1000f', 'Asia (R5)')",
         "42.369",
         "2070"
        ],
        [
         "('ENGAGE-INDCi2030-1000f', 'Asia (R5)')",
         "31.6853",
         "2075"
        ],
        [
         "('ENGAGE-INDCi2030-1000f', 'Asia (R5)')",
         "22.8912",
         "2080"
        ],
        [
         "('ENGAGE-INDCi2030-1000f', 'Asia (R5)')",
         "16.7586",
         "2085"
        ],
        [
         "('ENGAGE-INDCi2030-1000f', 'Asia (R5)')",
         "12.352899999999998",
         "2090"
        ],
        [
         "('ENGAGE-INDCi2030-1000f', 'Asia (R5)')",
         "9.2593",
         "2095"
        ],
        [
         "('ENGAGE-INDCi2030-1000f', 'Asia (R5)')",
         "7.1185",
         "2100"
        ],
        [
         "('ENGAGE-INDCi2030-1000f', 'Latin America (R5)')",
         "34.6909",
         "2020"
        ],
        [
         "('ENGAGE-INDCi2030-1000f', 'Latin America (R5)')",
         "31.6716",
         "2025"
        ],
        [
         "('ENGAGE-INDCi2030-1000f', 'Latin America (R5)')",
         "29.3223",
         "2030"
        ],
        [
         "('ENGAGE-INDCi2030-1000f', 'Latin America (R5)')",
         "26.6908",
         "2035"
        ],
        [
         "('ENGAGE-INDCi2030-1000f', 'Latin America (R5)')",
         "26.9073",
         "2040"
        ],
        [
         "('ENGAGE-INDCi2030-1000f', 'Latin America (R5)')",
         "22.9452",
         "2045"
        ],
        [
         "('ENGAGE-INDCi2030-1000f', 'Latin America (R5)')",
         "19.0641",
         "2050"
        ],
        [
         "('ENGAGE-INDCi2030-1000f', 'Latin America (R5)')",
         "16.7222",
         "2055"
        ],
        [
         "('ENGAGE-INDCi2030-1000f', 'Latin America (R5)')",
         "14.9284",
         "2060"
        ],
        [
         "('ENGAGE-INDCi2030-1000f', 'Latin America (R5)')",
         "13.0863",
         "2065"
        ],
        [
         "('ENGAGE-INDCi2030-1000f', 'Latin America (R5)')",
         "11.2814",
         "2070"
        ],
        [
         "('ENGAGE-INDCi2030-1000f', 'Latin America (R5)')",
         "9.5833",
         "2075"
        ],
        [
         "('ENGAGE-INDCi2030-1000f', 'Latin America (R5)')",
         "7.8548",
         "2080"
        ],
        [
         "('ENGAGE-INDCi2030-1000f', 'Latin America (R5)')",
         "6.4193",
         "2085"
        ],
        [
         "('ENGAGE-INDCi2030-1000f', 'Latin America (R5)')",
         "5.2174",
         "2090"
        ],
        [
         "('ENGAGE-INDCi2030-1000f', 'Latin America (R5)')",
         "4.221500000000001",
         "2095"
        ],
        [
         "('ENGAGE-INDCi2030-1000f', 'Latin America (R5)')",
         "3.3977",
         "2100"
        ],
        [
         "('ENGAGE-INDCi2030-1000f', 'Middle East & Africa (R5)')",
         "210.2036",
         "2020"
        ],
        [
         "('ENGAGE-INDCi2030-1000f', 'Middle East & Africa (R5)')",
         "190.5634",
         "2025"
        ],
        [
         "('ENGAGE-INDCi2030-1000f', 'Middle East & Africa (R5)')",
         "169.2963",
         "2030"
        ],
        [
         "('ENGAGE-INDCi2030-1000f', 'Middle East & Africa (R5)')",
         "152.8851",
         "2035"
        ],
        [
         "('ENGAGE-INDCi2030-1000f', 'Middle East & Africa (R5)')",
         "141.35670000000002",
         "2040"
        ],
        [
         "('ENGAGE-INDCi2030-1000f', 'Middle East & Africa (R5)')",
         "115.3433",
         "2045"
        ],
        [
         "('ENGAGE-INDCi2030-1000f', 'Middle East & Africa (R5)')",
         "89.01740000000001",
         "2050"
        ],
        [
         "('ENGAGE-INDCi2030-1000f', 'Middle East & Africa (R5)')",
         "70.0222",
         "2055"
        ],
        [
         "('ENGAGE-INDCi2030-1000f', 'Middle East & Africa (R5)')",
         "55.0898",
         "2060"
        ],
        [
         "('ENGAGE-INDCi2030-1000f', 'Middle East & Africa (R5)')",
         "42.3312",
         "2065"
        ],
        [
         "('ENGAGE-INDCi2030-1000f', 'Middle East & Africa (R5)')",
         "32.1863",
         "2070"
        ],
        [
         "('ENGAGE-INDCi2030-1000f', 'Middle East & Africa (R5)')",
         "24.0148",
         "2075"
        ],
        [
         "('ENGAGE-INDCi2030-1000f', 'Middle East & Africa (R5)')",
         "16.9875",
         "2080"
        ],
        [
         "('ENGAGE-INDCi2030-1000f', 'Middle East & Africa (R5)')",
         "12.2259",
         "2085"
        ],
        [
         "('ENGAGE-INDCi2030-1000f', 'Middle East & Africa (R5)')",
         "8.907399999999999",
         "2090"
        ],
        [
         "('ENGAGE-INDCi2030-1000f', 'Middle East & Africa (R5)')",
         "6.6226",
         "2095"
        ]
       ],
       "shape": {
        "columns": 2,
        "rows": 9687
       }
      },
      "text/html": [
       "<div>\n",
       "<style scoped>\n",
       "    .dataframe tbody tr th:only-of-type {\n",
       "        vertical-align: middle;\n",
       "    }\n",
       "\n",
       "    .dataframe tbody tr th {\n",
       "        vertical-align: top;\n",
       "    }\n",
       "\n",
       "    .dataframe thead th {\n",
       "        text-align: right;\n",
       "    }\n",
       "</style>\n",
       "<table border=\"1\" class=\"dataframe\">\n",
       "  <thead>\n",
       "    <tr style=\"text-align: right;\">\n",
       "      <th></th>\n",
       "      <th></th>\n",
       "      <th>value</th>\n",
       "      <th>year</th>\n",
       "    </tr>\n",
       "    <tr>\n",
       "      <th>scenario</th>\n",
       "      <th>region</th>\n",
       "      <th></th>\n",
       "      <th></th>\n",
       "    </tr>\n",
       "  </thead>\n",
       "  <tbody>\n",
       "    <tr>\n",
       "      <th rowspan=\"5\" valign=\"top\">ENGAGE-INDCi2030-1000f</th>\n",
       "      <th>Asia (R5)</th>\n",
       "      <td>320.611000</td>\n",
       "      <td>2020</td>\n",
       "    </tr>\n",
       "    <tr>\n",
       "      <th>Asia (R5)</th>\n",
       "      <td>259.687400</td>\n",
       "      <td>2025</td>\n",
       "    </tr>\n",
       "    <tr>\n",
       "      <th>Asia (R5)</th>\n",
       "      <td>211.249900</td>\n",
       "      <td>2030</td>\n",
       "    </tr>\n",
       "    <tr>\n",
       "      <th>Asia (R5)</th>\n",
       "      <td>185.884700</td>\n",
       "      <td>2035</td>\n",
       "    </tr>\n",
       "    <tr>\n",
       "      <th>Asia (R5)</th>\n",
       "      <td>173.723100</td>\n",
       "      <td>2040</td>\n",
       "    </tr>\n",
       "    <tr>\n",
       "      <th>...</th>\n",
       "      <th>...</th>\n",
       "      <td>...</td>\n",
       "      <td>...</td>\n",
       "    </tr>\n",
       "    <tr>\n",
       "      <th rowspan=\"5\" valign=\"top\">SHAPE-SSP2-1.5°C</th>\n",
       "      <th>Reforming Economies (R5)</th>\n",
       "      <td>18.023420</td>\n",
       "      <td>2060</td>\n",
       "    </tr>\n",
       "    <tr>\n",
       "      <th>Reforming Economies (R5)</th>\n",
       "      <td>20.392542</td>\n",
       "      <td>2070</td>\n",
       "    </tr>\n",
       "    <tr>\n",
       "      <th>Reforming Economies (R5)</th>\n",
       "      <td>23.373189</td>\n",
       "      <td>2080</td>\n",
       "    </tr>\n",
       "    <tr>\n",
       "      <th>Reforming Economies (R5)</th>\n",
       "      <td>25.452786</td>\n",
       "      <td>2090</td>\n",
       "    </tr>\n",
       "    <tr>\n",
       "      <th>Reforming Economies (R5)</th>\n",
       "      <td>31.140591</td>\n",
       "      <td>2100</td>\n",
       "    </tr>\n",
       "  </tbody>\n",
       "</table>\n",
       "<p>9687 rows × 2 columns</p>\n",
       "</div>"
      ],
      "text/plain": [
       "                                                      value  year\n",
       "scenario               region                                    \n",
       "ENGAGE-INDCi2030-1000f Asia (R5)                 320.611000  2020\n",
       "                       Asia (R5)                 259.687400  2025\n",
       "                       Asia (R5)                 211.249900  2030\n",
       "                       Asia (R5)                 185.884700  2035\n",
       "                       Asia (R5)                 173.723100  2040\n",
       "...                                                     ...   ...\n",
       "SHAPE-SSP2-1.5°C       Reforming Economies (R5)   18.023420  2060\n",
       "                       Reforming Economies (R5)   20.392542  2070\n",
       "                       Reforming Economies (R5)   23.373189  2080\n",
       "                       Reforming Economies (R5)   25.452786  2090\n",
       "                       Reforming Economies (R5)   31.140591  2100\n",
       "\n",
       "[9687 rows x 2 columns]"
      ]
     },
     "execution_count": 88,
     "metadata": {},
     "output_type": "execute_result"
    }
   ],
   "source": [
    "test = data.data[[\"scenario\", \"region\", \"value\", \"year\"]].set_index([\"scenario\", \"region\"])\n",
    "test"
   ]
  },
  {
   "cell_type": "code",
   "execution_count": 146,
   "metadata": {},
   "outputs": [],
   "source": [
    "test_reset = test.reset_index()\n",
    "thresholds_reset = thresholds.reset_index()\n",
    "merged = pd.merge(\n",
    "    test_reset, thresholds_reset, on=[\"scenario\", \"region\"], suffixes=(\"\", \"_threshold\")\n",
    ")\n"
   ]
  },
  {
   "cell_type": "code",
   "execution_count": 148,
   "metadata": {},
   "outputs": [
    {
     "data": {
      "text/plain": [
       "array(['ENGAGE-INDCi2030-1000f', 'ENGAGE-INDCi2030-1200',\n",
       "       'ENGAGE-INDCi2030-1200f', 'ENGAGE-INDCi2030-1400',\n",
       "       'ENGAGE-INDCi2030-1400f', 'ENGAGE-INDCi2030-1600',\n",
       "       'ENGAGE-INDCi2030-1600f', 'ENGAGE-INDCi2030-1800',\n",
       "       'ENGAGE-INDCi2030-1800f', 'ENGAGE-INDCi2030-800f',\n",
       "       'ENGAGE-INDCi2030-900f', 'ENGAGE-INDCi2100', 'ENGAGE-NPi2020-1000',\n",
       "       'ENGAGE-NPi2020-1000f', 'ENGAGE-NPi2020-1200',\n",
       "       'ENGAGE-NPi2020-1200f', 'ENGAGE-NPi2020-1400',\n",
       "       'ENGAGE-NPi2020-1400f', 'ENGAGE-NPi2020-1600',\n",
       "       'ENGAGE-NPi2020-1600f', 'ENGAGE-NPi2020-1800',\n",
       "       'ENGAGE-NPi2020-1800f', 'ENGAGE-NPi2020-300f',\n",
       "       'ENGAGE-NPi2020-400f', 'ENGAGE-NPi2020-500f', 'ENGAGE-NPi2020-600',\n",
       "       'ENGAGE-NPi2020-600f', 'ENGAGE-NPi2020-700', 'ENGAGE-NPi2020-700f',\n",
       "       'ENGAGE-NPi2020-800', 'ENGAGE-NPi2020-800f', 'ENGAGE-NPi2020-900',\n",
       "       'ENGAGE-NPi2020-900f', 'ENGAGE-NPi2100', 'ENGAGE-INDCi2030-1000',\n",
       "       'ENGAGE-INDCi2030-1000-COV', 'ENGAGE-INDCi2030-1000-COV-NDCp',\n",
       "       'ENGAGE-INDCi2030-1000-NDCp', 'ENGAGE-INDCi2030-1000f-COV',\n",
       "       'ENGAGE-INDCi2030-1000f-COV-NDCp', 'ENGAGE-INDCi2030-1000f-NDCp',\n",
       "       'ENGAGE-INDCi2030-2000', 'ENGAGE-INDCi2030-2000f',\n",
       "       'ENGAGE-INDCi2030-2500', 'ENGAGE-INDCi2030-2500f',\n",
       "       'ENGAGE-INDCi2030-3000', 'ENGAGE-INDCi2030-3000f',\n",
       "       'ENGAGE-INDCi2030-300f', 'ENGAGE-INDCi2030-400f',\n",
       "       'ENGAGE-INDCi2030-500f', 'ENGAGE-INDCi2030-600-COV',\n",
       "       'ENGAGE-INDCi2030-600-COV-NDCp', 'ENGAGE-INDCi2030-600f',\n",
       "       'ENGAGE-INDCi2030-600f-COV', 'ENGAGE-INDCi2030-600f-COV-NDCp',\n",
       "       'ENGAGE-INDCi2030-600f-NDCp', 'ENGAGE-INDCi2030-700',\n",
       "       'ENGAGE-INDCi2030-700f', 'ENGAGE-INDCi2030-800',\n",
       "       'ENGAGE-INDCi2030-900', 'ENGAGE-INDCi2100-COV',\n",
       "       'ENGAGE-INDCi2100-COV-NDCp', 'ENGAGE-INDCi2100-NDCp',\n",
       "       'ENGAGE-NPi2020-1000-COV', 'ENGAGE-NPi2020-1000f-COV',\n",
       "       'ENGAGE-NPi2020-2000', 'ENGAGE-NPi2020-2000f',\n",
       "       'ENGAGE-NPi2020-200f', 'ENGAGE-NPi2020-2500',\n",
       "       'ENGAGE-NPi2020-2500f', 'ENGAGE-NPi2020-3000',\n",
       "       'ENGAGE-NPi2020-3000f', 'ENGAGE-NPi2020-400', 'ENGAGE-NPi2020-500',\n",
       "       'ENGAGE-NPi2020-600-COV', 'ENGAGE-NPi2020-600f-COV',\n",
       "       'ENGAGE-NPi2100-COV', 'ENGAGE-NoPolicy',\n",
       "       'NAVIGATE Demand-1.5°C-all_u', 'NAVIGATE Demand-1.5°C-ref',\n",
       "       'NAVIGATE Demand-2.0°C-act_u', 'NAVIGATE Demand-2.0°C-all_u',\n",
       "       'NAVIGATE Demand-2.0°C-ele_u', 'NAVIGATE Demand-2.0°C-ref',\n",
       "       'NAVIGATE Demand-2.0°C-tec_u', 'NAVIGATE Demand-NPi-act',\n",
       "       'NAVIGATE Demand-NPi-all', 'NAVIGATE Demand-NPi-ele',\n",
       "       'NAVIGATE Demand-NPi-ref', 'NAVIGATE Demand-NPi-tec',\n",
       "       'SHAPE-SDP-EI-1.5°C', 'SHAPE-SDP-MC-1.5°C', 'SHAPE-SDP-RC-1.5°C',\n",
       "       'SHAPE-SSP-NPi', 'SHAPE-SSP2-1.5°C', 'NAVIGATE Demand-1.5°C-act_u',\n",
       "       'NAVIGATE Demand-1.5°C-ele_u', 'NAVIGATE Demand-1.5°C-tec_u'],\n",
       "      dtype=object)"
      ]
     },
     "execution_count": 148,
     "metadata": {},
     "output_type": "execute_result"
    }
   ],
   "source": [
    "merged[merged[\"value\"] < merged[\"value_threshold\"]].scenario.unique()\n"
   ]
  },
  {
   "cell_type": "code",
   "execution_count": null,
   "metadata": {},
   "outputs": [
    {
     "data": {
      "text/plain": [
       "<Axes: title={'center': 'Population at Risk of Hunger in R5 Regions'}, xlabel='Year', ylabel='Population at Risk of Hunger'>"
      ]
     },
     "execution_count": 145,
     "metadata": {},
     "output_type": "execute_result"
    },
    {
     "data": {
      "image/png": "[encoded data removed]",
      "text/plain": [
       "<Figure size 640x480 with 1 Axes>"
      ]
     },
     "metadata": {},
     "output_type": "display_data"
    }
   ],
   "source": [
    "merged[merged[\"value\"] < merged[\"value_threshold\"]].groupby([\"region\", \"year\"]).agg(\n",
    "    {\"value\": \"mean\"}\n",
    ").reset_index().sort_values(by=[\"region\", \"year\"], ascending=[True, True]).pivot(\n",
    "    index=\"year\",\n",
    "    columns=\"region\",\n",
    "    values=\"value\",\n",
    ").reset_index().plot.line(\n",
    "    x=\"year\",\n",
    "    title=\"Population at Risk of Hunger in R5 Regions\",\n",
    "    xlabel=\"Year\",\n",
    "    ylabel=\"Population at Risk of Hunger\",\n",
    ")"
   ]
  },
  {
   "cell_type": "code",
   "execution_count": 69,
   "metadata": {},
   "outputs": [
    {
     "data": {
      "application/vnd.microsoft.datawrangler.viewer.v0+json": {
       "columns": [
        {
         "name": "('scenario', 'region')",
         "rawType": "object",
         "type": "unknown"
        },
        {
         "name": "value",
         "rawType": "float64",
         "type": "float"
        }
       ],
       "ref": "ae913257-7657-4b55-ab90-3bca2230b2d1",
       "rows": [
        [
         "('ENGAGE-INDCi2030-1000f', 'Asia (R5)')",
         "320.61100000000005"
        ],
        [
         "('ENGAGE-INDCi2030-1000f', 'Latin America (R5)')",
         "34.6909"
        ],
        [
         "('ENGAGE-INDCi2030-1000f', 'Middle East & Africa (R5)')",
         "210.2036"
        ],
        [
         "('ENGAGE-INDCi2030-1000f', 'Reforming Economies (R5)')",
         "4.119"
        ],
        [
         "('ENGAGE-INDCi2030-1200', 'Asia (R5)')",
         "320.61100000000005"
        ],
        [
         "('ENGAGE-INDCi2030-1200', 'Latin America (R5)')",
         "34.6909"
        ],
        [
         "('ENGAGE-INDCi2030-1200', 'Middle East & Africa (R5)')",
         "210.2036"
        ],
        [
         "('ENGAGE-INDCi2030-1200', 'Reforming Economies (R5)')",
         "4.119"
        ],
        [
         "('ENGAGE-INDCi2030-1200f', 'Asia (R5)')",
         "320.61100000000005"
        ],
        [
         "('ENGAGE-INDCi2030-1200f', 'Latin America (R5)')",
         "34.6909"
        ],
        [
         "('ENGAGE-INDCi2030-1200f', 'Middle East & Africa (R5)')",
         "210.2036"
        ],
        [
         "('ENGAGE-INDCi2030-1200f', 'Reforming Economies (R5)')",
         "4.119"
        ],
        [
         "('ENGAGE-INDCi2030-1400', 'Asia (R5)')",
         "320.61100000000005"
        ],
        [
         "('ENGAGE-INDCi2030-1400', 'Latin America (R5)')",
         "34.6909"
        ],
        [
         "('ENGAGE-INDCi2030-1400', 'Middle East & Africa (R5)')",
         "210.2036"
        ],
        [
         "('ENGAGE-INDCi2030-1400', 'Reforming Economies (R5)')",
         "4.119"
        ],
        [
         "('ENGAGE-INDCi2030-1400f', 'Asia (R5)')",
         "320.61100000000005"
        ],
        [
         "('ENGAGE-INDCi2030-1400f', 'Latin America (R5)')",
         "34.6909"
        ],
        [
         "('ENGAGE-INDCi2030-1400f', 'Middle East & Africa (R5)')",
         "210.2036"
        ],
        [
         "('ENGAGE-INDCi2030-1400f', 'Reforming Economies (R5)')",
         "4.119"
        ],
        [
         "('ENGAGE-INDCi2030-1600', 'Asia (R5)')",
         "320.61100000000005"
        ],
        [
         "('ENGAGE-INDCi2030-1600', 'Latin America (R5)')",
         "34.6909"
        ],
        [
         "('ENGAGE-INDCi2030-1600', 'Middle East & Africa (R5)')",
         "210.2036"
        ],
        [
         "('ENGAGE-INDCi2030-1600', 'Reforming Economies (R5)')",
         "4.119"
        ],
        [
         "('ENGAGE-INDCi2030-1600f', 'Asia (R5)')",
         "320.61100000000005"
        ],
        [
         "('ENGAGE-INDCi2030-1600f', 'Latin America (R5)')",
         "34.6909"
        ],
        [
         "('ENGAGE-INDCi2030-1600f', 'Middle East & Africa (R5)')",
         "210.2036"
        ],
        [
         "('ENGAGE-INDCi2030-1600f', 'Reforming Economies (R5)')",
         "4.119"
        ],
        [
         "('ENGAGE-INDCi2030-1800', 'Asia (R5)')",
         "320.61100000000005"
        ],
        [
         "('ENGAGE-INDCi2030-1800', 'Latin America (R5)')",
         "34.6909"
        ],
        [
         "('ENGAGE-INDCi2030-1800', 'Middle East & Africa (R5)')",
         "210.2036"
        ],
        [
         "('ENGAGE-INDCi2030-1800', 'Reforming Economies (R5)')",
         "4.119"
        ],
        [
         "('ENGAGE-INDCi2030-1800f', 'Asia (R5)')",
         "320.61100000000005"
        ],
        [
         "('ENGAGE-INDCi2030-1800f', 'Latin America (R5)')",
         "34.6909"
        ],
        [
         "('ENGAGE-INDCi2030-1800f', 'Middle East & Africa (R5)')",
         "210.2036"
        ],
        [
         "('ENGAGE-INDCi2030-1800f', 'Reforming Economies (R5)')",
         "4.119"
        ],
        [
         "('ENGAGE-INDCi2030-800f', 'Asia (R5)')",
         "320.61100000000005"
        ],
        [
         "('ENGAGE-INDCi2030-800f', 'Latin America (R5)')",
         "34.6909"
        ],
        [
         "('ENGAGE-INDCi2030-800f', 'Middle East & Africa (R5)')",
         "210.2036"
        ],
        [
         "('ENGAGE-INDCi2030-800f', 'Reforming Economies (R5)')",
         "4.119"
        ],
        [
         "('ENGAGE-INDCi2030-900f', 'Asia (R5)')",
         "320.61100000000005"
        ],
        [
         "('ENGAGE-INDCi2030-900f', 'Latin America (R5)')",
         "34.6909"
        ],
        [
         "('ENGAGE-INDCi2030-900f', 'Middle East & Africa (R5)')",
         "210.2036"
        ],
        [
         "('ENGAGE-INDCi2030-900f', 'Reforming Economies (R5)')",
         "4.119"
        ],
        [
         "('ENGAGE-INDCi2100', 'Asia (R5)')",
         "320.61100000000005"
        ],
        [
         "('ENGAGE-INDCi2100', 'Latin America (R5)')",
         "34.6909"
        ],
        [
         "('ENGAGE-INDCi2100', 'Middle East & Africa (R5)')",
         "210.2036"
        ],
        [
         "('ENGAGE-INDCi2100', 'Reforming Economies (R5)')",
         "4.119"
        ],
        [
         "('ENGAGE-NPi2020-1000', 'Asia (R5)')",
         "320.61100000000005"
        ],
        [
         "('ENGAGE-NPi2020-1000', 'Latin America (R5)')",
         "34.6909"
        ]
       ],
       "shape": {
        "columns": 1,
        "rows": 711
       }
      },
      "text/plain": [
       "scenario                region                   \n",
       "ENGAGE-INDCi2030-1000f  Asia (R5)                    320.611000\n",
       "                        Latin America (R5)            34.690900\n",
       "                        Middle East & Africa (R5)    210.203600\n",
       "                        Reforming Economies (R5)       4.119000\n",
       "ENGAGE-INDCi2030-1200   Asia (R5)                    320.611000\n",
       "                                                        ...    \n",
       "SHAPE-SSP2-1.5°C        Asia (R5)                    365.200006\n",
       "                        Latin America (R5)            49.000000\n",
       "                        Middle East & Africa (R5)    240.399999\n",
       "                        OECD & EU (R5)                 4.400000\n",
       "                        Reforming Economies (R5)       9.100000\n",
       "Name: value, Length: 711, dtype: float64"
      ]
     },
     "execution_count": 69,
     "metadata": {},
     "output_type": "execute_result"
    }
   ],
   "source": [
    "thresholds.value"
   ]
  }
 ],
 "metadata": {
  "kernelspec": {
   "display_name": "Python 3 (ipykernel)",
   "language": "python",
   "name": "python3"
  }
 },
 "nbformat": 4,
 "nbformat_minor": 0
}
